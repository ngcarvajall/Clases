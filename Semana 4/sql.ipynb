{
 "cells": [
  {
   "cell_type": "code",
   "execution_count": 2,
   "metadata": {},
   "outputs": [
    {
     "name": "stdout",
     "output_type": "stream",
     "text": [
      "Requirement already satisfied: psycopg2==2.9.9 in c:\\users\\dell\\appdata\\local\\packages\\pythonsoftwarefoundation.python.3.11_qbz5n2kfra8p0\\localcache\\local-packages\\python311\\site-packages (2.9.9)\n",
      "Requirement already satisfied: psycopg2-binary==2.9.9 in c:\\users\\dell\\appdata\\local\\packages\\pythonsoftwarefoundation.python.3.11_qbz5n2kfra8p0\\localcache\\local-packages\\python311\\site-packages (2.9.9)\n"
     ]
    }
   ],
   "source": [
    "# !pip install psycopg2==2.9.9\n",
    "# !pip install psycopg2-binary==2.9.9 "
   ]
  },
  {
   "cell_type": "code",
   "execution_count": 3,
   "metadata": {},
   "outputs": [],
   "source": [
    "import psycopg2\n",
    "from psycopg2 import OperationalError, errorcodes, errors\n",
    "\n",
    "import pandas as pd"
   ]
  },
  {
   "cell_type": "code",
   "execution_count": 4,
   "metadata": {},
   "outputs": [],
   "source": [
    "try:\n",
    "    conexion = psycopg2.connect(\n",
    "    database = 'Chinook',\n",
    "    user = 'postgres',\n",
    "    password = 'admin',\n",
    "    host = 'localhost',\n",
    "    port = '5432')\n",
    "except OperationalError as e: #el alias es e\n",
    "    if e.pgcode == errorcodes.INVALID_PASSWORD:\n",
    "        print('la contraseña es erronea')\n",
    "    elif e.pgcode == errorcodes.CONNECTION_EXCEPTION:\n",
    "        print('error de conexion')\n",
    "    else:\n",
    "        print(f'el error es el siguiente {e}')\n"
   ]
  },
  {
   "cell_type": "code",
   "execution_count": 9,
   "metadata": {},
   "outputs": [],
   "source": [
    "cursor = conexion.cursor() # nos mueve la info desde sql a python\n",
    "cursor.execute('SELECT * FROM \"Genre\";') #llamada con comillas simples, tabla con comillas dobles\n",
    "pd.DataFrame(cursor.fetchall()).head() # pido la info, toda / si pido fetchone llama solo uno\n",
    "# pd.DataFrame(cursor.fetchone()).T\n",
    "cursor.close()\n",
    "conexion.close()"
   ]
  },
  {
   "cell_type": "code",
   "execution_count": 14,
   "metadata": {},
   "outputs": [],
   "source": [
    "try:\n",
    "    conexion = psycopg2.connect(\n",
    "    database = 'aprendiendo',\n",
    "    user = 'postgres',\n",
    "    password = 'admin',\n",
    "    host = 'localhost',\n",
    "    port = '5432')\n",
    "except OperationalError as e: #el alias es e\n",
    "    if e.pgcode == errorcodes.INVALID_PASSWORD:\n",
    "        print('la contraseña es erronea')\n",
    "    elif e.pgcode == errorcodes.CONNECTION_EXCEPTION:\n",
    "        print('error de conexion')\n",
    "    else:\n",
    "        print(f'el error es el siguiente {e}')\n"
   ]
  },
  {
   "cell_type": "code",
   "execution_count": 15,
   "metadata": {},
   "outputs": [],
   "source": [
    "cursor = conexion.cursor() #para crear la tabla desde aquí\n",
    "query_creacion = \"\"\" \n",
    "    CREATE TABLE IF NOT EXISTS clientes (\n",
    "    id_cliente SERIAL PRIMARY KEY,\n",
    "    nombre VARCHAR(100) NOT NULL,\n",
    "    edad int CHECK (edad > 18));\n",
    "\n",
    "\"\"\"\n",
    "cursor.execute(query_creacion)\n",
    "conexion.commit()\n",
    "\n",
    "query_insercion = 'INSERT INTO clientes (nombre, edad) VALUES (%s, %s)' # insertar valores %s es como un formato. como un argumento\n",
    "valores = ('PEPE', 19)\n",
    "cursor.execute(query_insercion, valores)\n",
    "conexion.commit()"
   ]
  },
  {
   "cell_type": "code",
   "execution_count": 19,
   "metadata": {},
   "outputs": [],
   "source": [
    "valores_multiples = [('Marcos', 21),\n",
    "                     ('Mariano', 32)]\n",
    "\n",
    "cursor.executemany(query_insercion, valores_multiples)\n",
    "conexion.commit()"
   ]
  },
  {
   "cell_type": "code",
   "execution_count": 16,
   "metadata": {},
   "outputs": [],
   "source": [
    "\n",
    "# cursor.close()\n",
    "# conexion.close() # aparezcan los cambios"
   ]
  },
  {
   "cell_type": "code",
   "execution_count": 24,
   "metadata": {},
   "outputs": [],
   "source": [
    "df = pd.read_csv('datos_ebay_zapatillas2024-10-15.csv', index_col= 0)"
   ]
  },
  {
   "cell_type": "code",
   "execution_count": 27,
   "metadata": {},
   "outputs": [
    {
     "data": {
      "text/plain": [
       "[('Adidas Hombres 7.5 NMD_V3 BOOST Zapatos Nube Blanco/Gris Dos HP9831 NUEVO',\n",
       "  'https://i.ebayimg.com/thumbs/images/g/7YMAAOSwjfFnDgZF/s-l960.jpg',\n",
       "  '169,48 EUR'),\n",
       " ('Adidas Pro Model Zapatos JH7147 Preloved Marrón/Núcleo Negro/Marfil',\n",
       "  'https://i.ebayimg.com/thumbs/images/g/X4IAAOSwwxNnACBO/s-l960.jpg',\n",
       "  '171,82 EUR'),\n",
       " ('Adidas Originals SL 72 RS Spark Core Negro Blanco IH7912 Hombres Talla',\n",
       "  'https://i.ebayimg.com/thumbs/images/g/tJEAAOSwqSZm-ito/s-l960.jpg',\n",
       "  '174,13 EUR')]"
      ]
     },
     "execution_count": 27,
     "metadata": {},
     "output_type": "execute_result"
    }
   ],
   "source": [
    "lista_tuplas = []\n",
    "for fila in df.values:\n",
    "    lista_tuplas.append(tuple(fila))\n",
    "lista_tuplas[:3]\n",
    "\n",
    "# [tuple(fila) for fila in df.values]"
   ]
  },
  {
   "cell_type": "code",
   "execution_count": 29,
   "metadata": {},
   "outputs": [],
   "source": [
    "lista_tuplas = [tuple(fila) for fila in df.values]"
   ]
  },
  {
   "cell_type": "code",
   "execution_count": 17,
   "metadata": {},
   "outputs": [],
   "source": [
    "#  #llamada con comillas simples, tabla con comillas dobles\n",
    "# pd.DataFrame(cursor.fetchall()).head() # pido la info, toda / si pido fetchone llama solo uno\n",
    "# # pd.DataFrame(cursor.fetchone()).T\n",
    "# cursor.close()\n",
    "# conexion.close()"
   ]
  }
 ],
 "metadata": {
  "kernelspec": {
   "display_name": "Python 3",
   "language": "python",
   "name": "python3"
  },
  "language_info": {
   "codemirror_mode": {
    "name": "ipython",
    "version": 3
   },
   "file_extension": ".py",
   "mimetype": "text/x-python",
   "name": "python",
   "nbconvert_exporter": "python",
   "pygments_lexer": "ipython3",
   "version": "3.11.9"
  }
 },
 "nbformat": 4,
 "nbformat_minor": 2
}

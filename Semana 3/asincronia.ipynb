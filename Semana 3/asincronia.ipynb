{
 "cells": [
  {
   "cell_type": "code",
   "execution_count": 1,
   "metadata": {},
   "outputs": [
    {
     "name": "stdout",
     "output_type": "stream",
     "text": [
      "Collecting asyncio\n",
      "  Downloading asyncio-3.4.3-py3-none-any.whl.metadata (1.7 kB)\n",
      "Downloading asyncio-3.4.3-py3-none-any.whl (101 kB)\n",
      "Installing collected packages: asyncio\n",
      "Successfully installed asyncio-3.4.3\n"
     ]
    }
   ],
   "source": [
    "!pip install asyncio"
   ]
  },
  {
   "cell_type": "code",
   "execution_count": 2,
   "metadata": {},
   "outputs": [],
   "source": [
    "import asyncio"
   ]
  },
  {
   "cell_type": "code",
   "execution_count": 7,
   "metadata": {},
   "outputs": [],
   "source": [
    "async def main():\n",
    "    print('¡Hola mundo asincrónico!')\n",
    "\n"
   ]
  },
  {
   "cell_type": "code",
   "execution_count": 8,
   "metadata": {},
   "outputs": [
    {
     "name": "stdout",
     "output_type": "stream",
     "text": [
      "¡Hola mundo asincrónico!\n"
     ]
    }
   ],
   "source": [
    "await main()"
   ]
  },
  {
   "cell_type": "code",
   "execution_count": 13,
   "metadata": {},
   "outputs": [
    {
     "name": "stdout",
     "output_type": "stream",
     "text": [
      "Iniciando la tarea 1\n",
      "Iniciando la tarea 2\n",
      "¡Hola mundo asincrónico!\n",
      "Terminando la tarea 2\n"
     ]
    }
   ],
   "source": [
    "async def tarea1_di_hola():\n",
    "    print('Iniciando la tarea 1')\n",
    "    await asyncio.sleep(1) # en este orden primero hace pausa a este y luego pasa al siguiente\n",
    "    print('¡Hola mundo asincrónico!')\n",
    "\n",
    "async def tarea2():\n",
    "    print('Iniciando la tarea 2')\n",
    "    await asyncio.sleep(3) #dura más, va de segundo\n",
    "    print('Terminando la tarea 2')\n",
    "\n",
    "async def main2():\n",
    "    await asyncio.gather(tarea1_di_hola(), tarea2())\n",
    "\n",
    "await main2()"
   ]
  },
  {
   "cell_type": "code",
   "execution_count": 12,
   "metadata": {},
   "outputs": [
    {
     "name": "stdout",
     "output_type": "stream",
     "text": [
      "Iniciando la tarea 1\n",
      "Iniciando la tarea 2\n",
      "Terminando la tarea 2\n",
      "¡Hola mundo asincrónico!\n"
     ]
    }
   ],
   "source": [
    "# empiezan al mismo tiempo, la pausa pone primero al que yo quiera\n",
    "\n",
    "async def tarea1_di_hola():\n",
    "    print('Iniciando la tarea 1') \n",
    "    await asyncio.sleep(2) # en este orden primero hace pausa a este y luego pasa al siguiente\n",
    "    print('¡Hola mundo asincrónico!')\n",
    "\n",
    "async def tarea2():\n",
    "    print('Iniciando la tarea 2')\n",
    "    await asyncio.sleep(1) #dura más, va de segundo\n",
    "    print('Terminando la tarea 2')\n",
    "\n",
    "async def main2():\n",
    "    await asyncio.gather(tarea1_di_hola(), tarea2())\n",
    "\n",
    "await main2()"
   ]
  },
  {
   "cell_type": "code",
   "execution_count": null,
   "metadata": {},
   "outputs": [],
   "source": [
    " "
   ]
  }
 ],
 "metadata": {
  "kernelspec": {
   "display_name": "Python 3",
   "language": "python",
   "name": "python3"
  },
  "language_info": {
   "codemirror_mode": {
    "name": "ipython",
    "version": 3
   },
   "file_extension": ".py",
   "mimetype": "text/x-python",
   "name": "python",
   "nbconvert_exporter": "python",
   "pygments_lexer": "ipython3",
   "version": "3.11.9"
  }
 },
 "nbformat": 4,
 "nbformat_minor": 2
}

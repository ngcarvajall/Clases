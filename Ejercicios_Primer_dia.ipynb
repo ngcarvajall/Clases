{
 "cells": [
  {
   "cell_type": "code",
   "execution_count": null,
   "metadata": {},
   "outputs": [],
   "source": [
    "# Ahora hago pruebas de clases"
   ]
  },
  {
   "cell_type": "code",
   "execution_count": 3,
   "metadata": {},
   "outputs": [
    {
     "name": "stdout",
     "output_type": "stream",
     "text": [
      "El numero romano es: CDLXXX\n"
     ]
    }
   ],
   "source": [
    "# Se solicita al usuario un numero entre 1 y 3000\n",
    "### romanos\n",
    "numero = int(input(\"Ingrese un numero entre 1 y 3000: \"))\n",
    "if numero < 1 or numero > 3000:\n",
    "    print(\"El numero ingresado no es correcto \")\n",
    "else:\n",
    "    numero_romano = \"\" \n",
    "    # Convertir a millares\n",
    "    if numero >= 1000:\n",
    "        m = numero // 1000\n",
    "        numero_romano += \"M\" * m\n",
    "        numero %= 1000\n",
    "    # Convertir a centenas\n",
    "    if numero >= 100:\n",
    "        c = numero // 100\n",
    "        if c == 9:\n",
    "            numero_romano += \"CM\"\n",
    "        elif c >= 5:\n",
    "            numero_romano += \"D\" + \"C\" * (c - 5)\n",
    "        elif c == 4:\n",
    "            numero_romano += \"CD\"\n",
    "        else:\n",
    "            numero_romano += \"C\" * c\n",
    "        numero %= 100\n",
    "    # Convertir a decenas\n",
    "    if numero >= 10:\n",
    "        d = numero // 10\n",
    "        if d == 9:\n",
    "            numero_romano += \"XC\"\n",
    "        elif d >= 5:\n",
    "            numero_romano += \"L\" + \"X\" * (d - 5)\n",
    "        elif d == 4:\n",
    "            numero_romano += \"XL\"\n",
    "        else:\n",
    "            numero_romano += \"X\" * d\n",
    "        numero %= 10\n",
    "    # Convertir a unidades\n",
    "    if numero > 0:\n",
    "        if numero == 9:\n",
    "            numero_romano += \"IX\"\n",
    "        elif numero >= 5:\n",
    "            numero_romano += \"V\" + \"I\" * (numero - 5)\n",
    "        elif numero == 4:\n",
    "            numero_romano += \"IV\"\n",
    "        else:\n",
    "            numero_romano += \"I\" * numero\n",
    "\n",
    "    print(\"El numero romano es:\", numero_romano)"
   ]
  },
  {
   "cell_type": "code",
   "execution_count": null,
   "metadata": {},
   "outputs": [],
   "source": [
    "\"\"\"Python \n",
    "def tu_codigo():\n",
    "  return lolo\"\"\""
   ]
  },
  {
   "cell_type": "code",
   "execution_count": 4,
   "metadata": {},
   "outputs": [],
   "source": [
    "### Fibonacci\n",
    "def fibonacci(numero):\n",
    "    lista_vac = []\n",
    "\n",
    "    if numero < 0:\n",
    "        return lista_vac\n",
    "    else: \n",
    "        lista_vac = [0,1]\n",
    "\n",
    "    while (lista_vac[-2] + lista_vac[-1]) <= numero:\n",
    "        lista_vac.append((lista_vac[-2] + lista_vac[-1]))\n",
    "    \n",
    "    return lista_vac "
   ]
  },
  {
   "cell_type": "code",
   "execution_count": 5,
   "metadata": {},
   "outputs": [
    {
     "data": {
      "text/plain": [
       "[0, 1, 1, 2, 3, 5, 8, 13, 21, 34, 55]"
      ]
     },
     "execution_count": 5,
     "metadata": {},
     "output_type": "execute_result"
    }
   ],
   "source": [
    "fibonacci(55)"
   ]
  },
  {
   "cell_type": "markdown",
   "metadata": {},
   "source": [
    "Encontrar la sublista con la mayor suma: Crea una función que reciba una lista de números y devuelva el subarray (sublista continua) con la mayor suma posible. El objetivo es identificar la secuencia continua de números dentro de la lista cuya suma sea la mayor. Las reglas son:\n",
    "•La sublista debe ser continua, es decir, no se pueden saltar elementos.\n",
    "•La función debe devolver la mayor suma que se pueda obtener de una sublista de la lista.\n",
    "•La lista puede contener números positivos, negativos o ambos.\n",
    "•Si la lista tiene un solo número, ese número es la suma máxima posible.\n",
    "•Si todos los números de la lista son negativos, la función debe devolver el número negativo de mayor valor."
   ]
  },
  {
   "cell_type": "code",
   "execution_count": 1,
   "metadata": {},
   "outputs": [],
   "source": [
    "### segun los pesos de objetos, dime cuantos objetos podemos agregar a la mochila\n",
    "\n",
    "def suma_pesos(lista,objetivo):\n",
    "    lista_ord = sorted(lista)\n",
    "    for n in range(len(lista_ord)):\n",
    "        if sum(lista_ord[:n+1]) < objetivo:\n",
    "            size_mochila = len(lista_ord[:n+1])\n",
    "    \n",
    "    return size_mochila\n",
    "\n"
   ]
  },
  {
   "cell_type": "code",
   "execution_count": 2,
   "metadata": {},
   "outputs": [
    {
     "data": {
      "text/plain": [
       "2"
      ]
     },
     "execution_count": 2,
     "metadata": {},
     "output_type": "execute_result"
    }
   ],
   "source": [
    "suma_pesos([100,200,300,400],500)"
   ]
  },
  {
   "cell_type": "markdown",
   "metadata": {},
   "source": [
    "Encontrar el número que falta en una secuencia:  Crea una función que reciba una lista de n-1 números únicos que representan una secuencia de números consecutivos entre 1 y n, donde falta un número, y encuentre el número faltante. El objetivo es identificar el número que falta para completar la secuencia. Las reglas son:\n",
    "•La secuencia contiene números consecutivos entre 1 y n, con exactamente un número faltante.\n",
    "•La lista contiene n-1 números únicos.\n",
    "•La función debe devolver el número faltante.\n",
    "•La función debe ser capaz de manejar tanto secuencias ascendentes como descendentes, siempre que contengan números consecutivos.\n",
    "•El valor de n es el número más alto esperado en la secuencia"
   ]
  },
  {
   "cell_type": "code",
   "execution_count": null,
   "metadata": {},
   "outputs": [],
   "source": []
  }
 ],
 "metadata": {
  "kernelspec": {
   "display_name": "Python 3",
   "language": "python",
   "name": "python3"
  },
  "language_info": {
   "codemirror_mode": {
    "name": "ipython",
    "version": 3
   },
   "file_extension": ".py",
   "mimetype": "text/x-python",
   "name": "python",
   "nbconvert_exporter": "python",
   "pygments_lexer": "ipython3",
   "version": "3.11.9"
  }
 },
 "nbformat": 4,
 "nbformat_minor": 2
}

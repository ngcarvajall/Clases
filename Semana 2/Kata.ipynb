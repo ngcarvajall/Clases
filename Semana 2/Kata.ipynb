{
 "cells": [
  {
   "cell_type": "markdown",
   "metadata": {},
   "source": [
    "Write a function that takes in a string of one or more words, and returns the same string, but with all words that have five or more letters reversed (Just like the name of this Kata). Strings passed in will consist of only letters and spaces. Spaces will be included only when more than one word is present.\n",
    "\n",
    "\"Hey fellow warriors\"  --> \"Hey wollef sroirraw\" "
   ]
  },
  {
   "cell_type": "code",
   "execution_count": 29,
   "metadata": {},
   "outputs": [],
   "source": [
    "import re"
   ]
  },
  {
   "cell_type": "code",
   "execution_count": 25,
   "metadata": {},
   "outputs": [
    {
     "data": {
      "text/plain": [
       "'H'"
      ]
     },
     "execution_count": 25,
     "metadata": {},
     "output_type": "execute_result"
    }
   ],
   "source": [
    "enunciado = ('Hoy es viernes')\n",
    "enunciado[0]"
   ]
  },
  {
   "cell_type": "code",
   "execution_count": null,
   "metadata": {},
   "outputs": [],
   "source": [
    "enunciado_separad = enunciado.split(' ')\n",
    "enunciado_nuevo = enunciado_separad\n",
    "\n",
    "palabra_inversa = ''\n",
    "\n",
    "for i in enunciado_nuevo:\n",
    "    if len(i) >= 5:\n",
    "        for letra in i:\n",
    "            palabra_inversa = letra + palabra_inversa\n",
    "    else:\n",
    "        print(i)\n",
    "\n",
    "print(palabra_inversa)"
   ]
  },
  {
   "cell_type": "code",
   "execution_count": 33,
   "metadata": {},
   "outputs": [
    {
     "name": "stdout",
     "output_type": "stream",
     "text": [
      "Hoy\n",
      "es\n",
      "senreiv\n"
     ]
    }
   ],
   "source": [
    "enunciado_separad = enunciado.split(' ')\n",
    "enunciado_nuevo = enunciado_separad\n",
    "\n",
    "palabra_inversa = ''\n",
    "\n",
    "for i in enunciado_nuevo:\n",
    "    if len(i) >= 5:\n",
    "        for letra in i:\n",
    "            palabra_inversa = letra + palabra_inversa\n",
    "    else:\n",
    "        print(i)\n",
    "\n",
    "print(palabra_inversa)"
   ]
  },
  {
   "cell_type": "code",
   "execution_count": 23,
   "metadata": {},
   "outputs": [
    {
     "data": {
      "text/plain": [
       "'Hoy'"
      ]
     },
     "execution_count": 23,
     "metadata": {},
     "output_type": "execute_result"
    }
   ],
   "source": [
    "reverso(enunciado)\n"
   ]
  },
  {
   "cell_type": "markdown",
   "metadata": {},
   "source": [
    "Complete the solution so that it splits the string into pairs of two characters. If the string contains an odd number of characters then it should replace the missing second character of the final pair with an underscore ('_').\n",
    "\n",
    "'abc' =>  ['ab', 'c_']"
   ]
  },
  {
   "cell_type": "code",
   "execution_count": 30,
   "metadata": {},
   "outputs": [
    {
     "name": "stdout",
     "output_type": "stream",
     "text": [
      "['ab', 'cd', 'ef', 'g_']\n"
     ]
    }
   ],
   "source": [
    "string = \"abcdefg\"\n",
    "patronletraspares = r\"\\w{2}\"\n",
    "def solution(string):\n",
    "        if len(string) % 2 != 0:\n",
    "            string += \"_\"\n",
    "        resultado = re.findall(patronletraspares, string)\n",
    "        return resultado\n",
    "\n",
    "print(solution(string))"
   ]
  },
  {
   "cell_type": "code",
   "execution_count": null,
   "metadata": {},
   "outputs": [],
   "source": [
    "def dividir(string):\n",
    "    if len(string) >2:\n",
    "        string.split()"
   ]
  }
 ],
 "metadata": {
  "kernelspec": {
   "display_name": "Python 3",
   "language": "python",
   "name": "python3"
  },
  "language_info": {
   "codemirror_mode": {
    "name": "ipython",
    "version": 3
   },
   "file_extension": ".py",
   "mimetype": "text/x-python",
   "name": "python",
   "nbconvert_exporter": "python",
   "pygments_lexer": "ipython3",
   "version": "3.11.9"
  }
 },
 "nbformat": 4,
 "nbformat_minor": 2
}

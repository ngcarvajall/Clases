{
 "cells": [
  {
   "cell_type": "markdown",
   "metadata": {},
   "source": [
    "<div style=\"text-align: center;\">\n",
    "  <img src=\"https://github.com/Hack-io-Data/Imagenes/blob/main/01-LogosHackio/logo_naranja@4x.png?raw=true\" alt=\"esquema\" />\n",
    "</div>"
   ]
  },
  {
   "cell_type": "markdown",
   "metadata": {
    "toc": true
   },
   "source": [
    "<h1>Table of Contents<span class=\"tocSkip\"></span></h1>\n",
    "<div class=\"toc\"><ul class=\"toc-item\"><li><span><a href=\"#Introducción\" data-toc-modified-id=\"Introducción-1\"><span class=\"toc-item-num\">1&nbsp;&nbsp;</span>Introducción</a></span></li><li><span><a href=\"#¿Qué-es-NumPy?\" data-toc-modified-id=\"¿Qué-es-NumPy?-2\"><span class=\"toc-item-num\">2&nbsp;&nbsp;</span>¿Qué es NumPy?</a></span></li><li><span><a href=\"#¿Qué-es-un-array?\" data-toc-modified-id=\"¿Qué-es-un-array?-3\"><span class=\"toc-item-num\">3&nbsp;&nbsp;</span>¿Qué es un <em>array</em>?</a></span></li><li><span><a href=\"#Creación-de-arrays\" data-toc-modified-id=\"Creación-de-arrays-4\"><span class=\"toc-item-num\">4&nbsp;&nbsp;</span>Creación de <em>arrays</em></a></span><ul class=\"toc-item\"><li><span><a href=\"#Crear-un-array-a-partir-de-una-lista\" data-toc-modified-id=\"Crear-un-array-a-partir-de-una-lista-4.1\"><span class=\"toc-item-num\">4.1&nbsp;&nbsp;</span>Crear un array a partir de una lista</a></span></li><li><span><a href=\"#Crear-un-array-vacío\" data-toc-modified-id=\"Crear-un-array-vacío-4.2\"><span class=\"toc-item-num\">4.2&nbsp;&nbsp;</span>Crear un array vacío</a></span></li><li><span><a href=\"#Crear-un-array-de-ceros\" data-toc-modified-id=\"Crear-un-array-de-ceros-4.3\"><span class=\"toc-item-num\">4.3&nbsp;&nbsp;</span>Crear un array de ceros</a></span></li><li><span><a href=\"#Crear-un-array-de-unos\" data-toc-modified-id=\"Crear-un-array-de-unos-4.4\"><span class=\"toc-item-num\">4.4&nbsp;&nbsp;</span>Crear un array de unos</a></span></li><li><span><a href=\"#Crear-un-array-con-valores-secuenciales\" data-toc-modified-id=\"Crear-un-array-con-valores-secuenciales-4.5\"><span class=\"toc-item-num\">4.5&nbsp;&nbsp;</span>Crear un array con valores secuenciales</a></span></li><li><span><a href=\"#Crear-un-array-usando-random\" data-toc-modified-id=\"Crear-un-array-usando-random-4.6\"><span class=\"toc-item-num\">4.6&nbsp;&nbsp;</span>Crear un array usando random</a></span><ul class=\"toc-item\"><li><span><a href=\"#np.random.randint\" data-toc-modified-id=\"np.random.randint-4.6.1\"><span class=\"toc-item-num\">4.6.1&nbsp;&nbsp;</span>np.random.randint</a></span></li><li><span><a href=\"#np.random.rand\" data-toc-modified-id=\"np.random.rand-4.6.2\"><span class=\"toc-item-num\">4.6.2&nbsp;&nbsp;</span>np.random.rand</a></span></li><li><span><a href=\"#np.random.random_sample\" data-toc-modified-id=\"np.random.random_sample-4.6.3\"><span class=\"toc-item-num\">4.6.3&nbsp;&nbsp;</span>np.random.random_sample</a></span></li></ul></li></ul></li><li><span><a href=\"#Indexación\" data-toc-modified-id=\"Indexación-5\"><span class=\"toc-item-num\">5&nbsp;&nbsp;</span>Indexación</a></span><ul class=\"toc-item\"><li><span><a href=\"#Indexación-en-arrays-unidimensionales\" data-toc-modified-id=\"Indexación-en-arrays-unidimensionales-5.1\"><span class=\"toc-item-num\">5.1&nbsp;&nbsp;</span>Indexación en <em>arrays</em> unidimensionales</a></span></li><li><span><a href=\"#Indexación-en-arrays-bidimensionales\" data-toc-modified-id=\"Indexación-en-arrays-bidimensionales-5.2\"><span class=\"toc-item-num\">5.2&nbsp;&nbsp;</span>Indexación en <em>arrays</em> bidimensionales</a></span></li><li><span><a href=\"#Indexación-en-arrays-tridimensionales\" data-toc-modified-id=\"Indexación-en-arrays-tridimensionales-5.3\"><span class=\"toc-item-num\">5.3&nbsp;&nbsp;</span>Indexación en <em>arrays</em> tridimensionales</a></span></li></ul></li><li><span><a href=\"#Filtrado-de-datos-en-arrays\" data-toc-modified-id=\"Filtrado-de-datos-en-arrays-6\"><span class=\"toc-item-num\">6&nbsp;&nbsp;</span>Filtrado de datos en <em>arrays</em></a></span><ul class=\"toc-item\"><li><span><a href=\"#Filtrado-con-condiciones\" data-toc-modified-id=\"Filtrado-con-condiciones-6.1\"><span class=\"toc-item-num\">6.1&nbsp;&nbsp;</span>Filtrado con condiciones</a></span></li><li><span><a href=\"#Filtrado-con-np.where()\" data-toc-modified-id=\"Filtrado-con-np.where()-6.2\"><span class=\"toc-item-num\">6.2&nbsp;&nbsp;</span>Filtrado con <code>np.where()</code></a></span></li></ul></li><li><span><a href=\"#Operaciones-aritméticas-con-arrays\" data-toc-modified-id=\"Operaciones-aritméticas-con-arrays-7\"><span class=\"toc-item-num\">7&nbsp;&nbsp;</span>Operaciones aritméticas con <em>arrays</em></a></span></li><li><span><a href=\"#Funciones-universales-o-ufuncs\" data-toc-modified-id=\"Funciones-universales-o-ufuncs-8\"><span class=\"toc-item-num\">8&nbsp;&nbsp;</span>Funciones universales o <code>ufuncs</code></a></span><ul class=\"toc-item\"><li><span><a href=\"#Operaciones-estadísticas\" data-toc-modified-id=\"Operaciones-estadísticas-8.1\"><span class=\"toc-item-num\">8.1&nbsp;&nbsp;</span>Operaciones estadísticas</a></span><ul class=\"toc-item\"><li><span><a href=\"#np.mean()\" data-toc-modified-id=\"np.mean()-8.1.1\"><span class=\"toc-item-num\">8.1.1&nbsp;&nbsp;</span><code>np.mean()</code></a></span></li><li><span><a href=\"#np.var()\" data-toc-modified-id=\"np.var()-8.1.2\"><span class=\"toc-item-num\">8.1.2&nbsp;&nbsp;</span><code>np.var()</code></a></span></li><li><span><a href=\"#np.std()\" data-toc-modified-id=\"np.std()-8.1.3\"><span class=\"toc-item-num\">8.1.3&nbsp;&nbsp;</span><code>np.std()</code></a></span></li></ul></li><li><span><a href=\"#Operaciones-aritméticas\" data-toc-modified-id=\"Operaciones-aritméticas-8.2\"><span class=\"toc-item-num\">8.2&nbsp;&nbsp;</span>Operaciones aritméticas</a></span><ul class=\"toc-item\"><li><span><a href=\"#np.min()\" data-toc-modified-id=\"np.min()-8.2.1\"><span class=\"toc-item-num\">8.2.1&nbsp;&nbsp;</span><code>np.min()</code></a></span></li><li><span><a href=\"#np.max()\" data-toc-modified-id=\"np.max()-8.2.2\"><span class=\"toc-item-num\">8.2.2&nbsp;&nbsp;</span><code>np.max()</code></a></span></li><li><span><a href=\"#np.sum()\" data-toc-modified-id=\"np.sum()-8.2.3\"><span class=\"toc-item-num\">8.2.3&nbsp;&nbsp;</span><code>np.sum()</code></a></span></li></ul></li><li><span><a href=\"#Otros-métodos\" data-toc-modified-id=\"Otros-métodos-8.3\"><span class=\"toc-item-num\">8.3&nbsp;&nbsp;</span>Otros métodos</a></span><ul class=\"toc-item\"><li><span><a href=\"#np.sort()\" data-toc-modified-id=\"np.sort()-8.3.1\"><span class=\"toc-item-num\">8.3.1&nbsp;&nbsp;</span><code>np.sort()</code></a></span></li><li><span><a href=\"#np.transpose()\" data-toc-modified-id=\"np.transpose()-8.3.2\"><span class=\"toc-item-num\">8.3.2&nbsp;&nbsp;</span><code>np.transpose()</code></a></span><ul class=\"toc-item\"><li><span><a href=\"#Unidimensional\" data-toc-modified-id=\"Unidimensional-8.3.2.1\"><span class=\"toc-item-num\">8.3.2.1&nbsp;&nbsp;</span>Unidimensional</a></span></li><li><span><a href=\"#Bidimensional\" data-toc-modified-id=\"Bidimensional-8.3.2.2\"><span class=\"toc-item-num\">8.3.2.2&nbsp;&nbsp;</span>Bidimensional</a></span></li><li><span><a href=\"#Multidimensional\" data-toc-modified-id=\"Multidimensional-8.3.2.3\"><span class=\"toc-item-num\">8.3.2.3&nbsp;&nbsp;</span>Multidimensional</a></span></li></ul></li></ul></li><li><span><a href=\"#reshape():\" data-toc-modified-id=\"reshape():-8.4\"><span class=\"toc-item-num\">8.4&nbsp;&nbsp;</span><code>reshape()</code>:</a></span></li><li><span><a href=\"#np.swapaxes()\" data-toc-modified-id=\"np.swapaxes()-8.5\"><span class=\"toc-item-num\">8.5&nbsp;&nbsp;</span><code>np.swapaxes()</code></a></span></li></ul></li></ul></div>"
   ]
  },
  {
   "cell_type": "markdown",
   "metadata": {},
   "source": [
    "\n",
    "# Introducción \n",
    "\n",
    "Hasta ahora, en el bootcamp, hemos cubierto los conceptos básicos de programación en el módulo 1 y hemos explorado el proceso de extracción de datos utilizando herramientas de web scraping en Python y SQL en el módulo 2. Ahora, es el momento de continuar con el flujo de trabajo de un analista de datos y adentrarnos en la transformación de los datos.\n",
    "\n",
    "\n",
    "En este módulo vamos a abordar un aspecto fundamental para cualquier analista de datos: la transformación de los datos. La transformación de datos es un proceso esencial en el campo del análisis de datos, ya que permite convertir los datos brutos en información procesable y significativa, es decir, nos permite convertir los datos sin procesar en una forma que sea más útil y significativa para nuestros análisis. A medida que avanzamos en este módulo, aprenderemos técnicas y herramientas para manipular, limpiar y estructurar los datos de manera eficiente. Una vez que hemos extraído los datos, es posible que nos encontremos con diversos desafíos, como datos duplicados, formatos inconsistentes, valores faltantes o incoherencias. La transformación de datos nos brinda la capacidad de abordar estos desafíos mediante la aplicación de técnicas de limpieza y normalización. Podremos eliminar duplicados, corregir errores, estandarizar formatos y completar valores faltantes para asegurarnos de que nuestros datos sean precisos y confiables. Además de la limpieza y normalización, la transformación de datos también implica la creación de nuevas variables o características derivadas que puedan ayudarnos a obtener una comprensión más profunda de los datos. Podemos aplicar funciones matemáticas, realizar cálculos estadísticos o combinar variables existentes para generar nuevas perspectivas y descubrir patrones ocultos en los datos.\n",
    "\n",
    "Al finalizar esta etapa de transformación, nuestros datos estarán preparados y listos para la etapa de análisis propiamente dicha. La transformación adecuada de los datos no solo garantiza la calidad y confiabilidad de nuestros resultados, sino que también nos permite extraer información valiosa y tomar decisiones basadas en datos con mayor precisión.\n"
   ]
  },
  {
   "cell_type": "markdown",
   "metadata": {},
   "source": [
    "# ¿Qué es NumPy?\n",
    "\n",
    "**NumPy**, que significa \"Numerical Python\" (Python Numérico), es una biblioteca de Python muy popular y poderosa utilizada principalmente para el procesamiento numérico y científico de datos. Proporciona soporte para matrices multidimensionales, junto con una amplia colección de funciones matemáticas para operar en estas matrices.\n",
    "\n",
    "La principal característica de **NumPy** es el objeto de matriz, llamado `array` o `ndarray` (abreviatura de \"n-dimensional array\" o \"matriz n-dimensional\"). Estas matrices son similares a las listas en Python, pero ofrecen muchas más capacidades y eficiencia para operaciones numéricas. Las matrices **NumPy** pueden tener hasta N dimensiones y **contienen elementos del mismo tipo de datos**, lo que permite un cálculo rápido y eficiente.\n",
    "\n",
    "Aquí hay algunas características clave de **NumPy**:\n",
    "\n",
    "1. **Funciones matemáticas eficientes**: NumPy proporciona una amplia gama de funciones matemáticas incorporadas, como trigonométricas, exponenciales, logarítmicas, algebraicas, estadísticas, entre otras. Estas funciones se pueden aplicar a matrices completas sin la necesidad de escribir bucles explícitos, lo que facilita y acelera el cálculo.\n",
    "\n",
    "2. **Operaciones vectorizadas**: Las operaciones vectorizadas son una forma eficiente de realizar cálculos en matrices sin necesidad de bucles. NumPy permite realizar operaciones matemáticas y lógicas directamente en matrices enteras, lo que resulta en un código más compacto y rápido.\n",
    "\n",
    "3. **Broadcasting**:  Es una poderosa funcionalidad de **NumPy** que permite realizar operaciones entre matrices de diferentes formas y tamaños. **NumPy** automáticamente ajusta las formas de las matrices para que sean compatibles y realiza las operaciones de manera eficiente.\n",
    "\n",
    "4. **Integración con otras bibliotecas**: **NumPy** se utiliza ampliamente en el ecosistema científico de Python y se integra con otras bibliotecas populares como SciPy (biblioteca para computación científica), Matplotlib (para visualización de datos) y Pandas (para análisis de datos).\n",
    "\n",
    "> **NumPy** es una biblioteca fundamental para el procesamiento numérico en Python. Su uso eficiente de memoria y sus operaciones vectorizadas hacen que sea una opción ideal para realizar cálculos numéricos y científicos, especialmente cuando se trabaja con grandes conjuntos de datos o se requiere un alto rendimiento computacional.\n",
    "\n",
    "\n",
    "📌 **NOTA** Antes de ponernos a trabajar con NumPy tendremos que instalar la librería, para eso lo que tendremos que hacer es escribir en la terminal la siguiente línea de código.\n",
    "```bash\n",
    "!pip install numpy\n",
    "```"
   ]
  },
  {
   "cell_type": "markdown",
   "metadata": {},
   "source": [
    "# ¿Qué es un *array*?\n",
    "\n",
    "Un *array*, también conocido como matriz o arreglo, es una estructura de datos que permite almacenar una colección de elementos del mismo tipo. Los *arrays* son utilizados para organizar y manipular conjuntos de datos de manera eficiente. En un *array*, los elementos están dispuestos en una secuencia ordenada y se accede a ellos mediante un índice. Al igual que hacíamos en listas, la indexación comienza en 0. \n",
    "\n",
    "Los *arrays* pueden tener una o varias dimensiones. Un *array* unidimensional se representa como una secuencia lineal de elementos, similar a una lista en Python. Por ejemplo:\n",
    "\n",
    "```\n",
    "[1, 2, 3, 4, 5]\n",
    "```\n",
    "\n",
    "Un array bidimensional se organiza en filas y columnas, formando una especie de tabla o matriz. Cada elemento en un *array* bidimensional se identifica mediante dos índices: uno para la fila y otro para la columna. Por ejemplo:\n",
    "\n",
    "```python\n",
    "[[1, 2, 3],\n",
    " [4, 5, 6],\n",
    " [7, 8, 9]]\n",
    "\n",
    "# si quisieras acceder al número 5 tendrías que elegir la fila 2 y la columna 2, como los índices en python empiezan en 0, los índices que tendrías que usar son: \n",
    "[1][1] # esto nos devolvería el valor 5. \n",
    "```\n",
    "\n",
    "Los *arrays* pueden tener más dimensiones, como los *arrays* tridimensionales, cuatridimensionales, y así sucesivamente. Estas estructuras de datos multidimensionales son útiles para representar y manipular datos más complejos, como imágenes, volúmenes de datos científicos, tensores en aprendizaje automático, entre otros, aspectos que nosotras no trabajaremos normalente como analistas."
   ]
  },
  {
   "cell_type": "markdown",
   "metadata": {},
   "source": [
    "# Creación de *arrays*\n",
    "\n",
    "NumPy permite crear *arrays* de distintas formas las más comunes son:\n",
    "\n",
    "1. **Crear un array a partir de una lista**: Puedes crear un *array* NumPy a partir de una lista utilizando la función `np.array()`.\n",
    "\n",
    "2. **Crear un array vacío**: Puedes crear un *array* vacío especificando la forma deseada utilizando la función `np.empty()`. Debemos tener en cuenta que los valores del array vacío pueden ser impredecibles, ya que toman los valores almacenados en la memoria en ese momento.\n",
    "\n",
    "3. **Crear un array de ceros**: Puedes crear un *array* con todos los elementos establecidos en cero utilizando la función `np.zeros()`. \n",
    "\n",
    "4. **Crear un array de unos**: Puedes crear un *array* con todos los elementos establecidos en uno utilizando la función `np.ones()`.\n",
    "\n",
    "5. **Crear un array con valores secuenciales**: Puedes crear un *array* con valores secuenciales utilizando la función `np.arange()`. \n",
    "\n",
    "6. **Crear un array usando random de NumPy**: Puedes crear un *array* con números aleatorios usando distintos métodos de `random` en NumPy\n"
   ]
  },
  {
   "cell_type": "code",
   "execution_count": 15,
   "metadata": {},
   "outputs": [],
   "source": [
    "# antes de empezar importamos la librería de NumPy para poder trabajar con todos sus métodos. \n",
    "import numpy as np"
   ]
  },
  {
   "cell_type": "markdown",
   "metadata": {},
   "source": [
    "## Crear un array a partir de una lista"
   ]
  },
  {
   "cell_type": "code",
   "execution_count": 16,
   "metadata": {},
   "outputs": [
    {
     "name": "stdout",
     "output_type": "stream",
     "text": [
      "-------------ARRAY UNIDIMENSIONAL--------------\n",
      "La lista a partir de la que crearemos un array unidimensional es: [1, 2, 3, 4, 5]\n",
      "El array unidimensional creado a partir de la lista es: \n",
      "  [1 2 3 4 5] \n",
      "\n",
      "-------------ARRAY BIDIMENSIONAL--------------\n",
      "La lista de listas a partir de la que crearemos un array bidimensional es: [[1, 2, 3, 4, 5], [6, 7, 8, 9, 10]]\n",
      "El array bidimensional creado a partir de la lista es:\n",
      "  [[ 1  2  3  4  5]\n",
      " [ 6  7  8  9 10]]\n",
      "\n",
      "-------------ARRAY TRIDIMENSIONAL--------------\n",
      "La lista de listas de listas a partir de la que crearemos un array tridimensional es: [[[1, 2, 3, 4, 5], [6, 7, 8, 9, 10]], [[11, 12, 13, 14, 15], [16, 17, 18, 19, 20]]]\n",
      "El array tridimensional creado a partir de la lista es:\n",
      "  [[[ 1  2  3  4  5]\n",
      "  [ 6  7  8  9 10]]\n",
      "\n",
      " [[11 12 13 14 15]\n",
      "  [16 17 18 19 20]]]\n",
      "\n"
     ]
    }
   ],
   "source": [
    "print(\"-------------ARRAY UNIDIMENSIONAL--------------\")\n",
    "# definimos una lista que usaremos para convertir en array unidimensional\n",
    "lista = [1, 2, 3, 4, 5]\n",
    "print(\"La lista a partir de la que crearemos un array unidimensional es:\", lista)\n",
    "\n",
    "# convertimos la lista en array usando el método 'np.array()' \n",
    "array_unidimensional = np.array(lista)\n",
    "print(f\"El array unidimensional creado a partir de la lista es: \\n  {array_unidimensional} \\n\")\n",
    "\n",
    "\n",
    "\n",
    "\n",
    "print(\"-------------ARRAY BIDIMENSIONAL--------------\")\n",
    "# para crear un array bidimensional necesitaremos una lista de listas\n",
    "lista_listas = [[1, 2, 3, 4, 5], [6, 7, 8, 9, 10]]\n",
    "print(\"La lista de listas a partir de la que crearemos un array bidimensional es:\", lista_listas)\n",
    "\n",
    "# convertimos la lista en array usando el método 'np.array()' \n",
    "# 📌 fijaos como ahora el array que hemos construido tiene \"filas\" y \"columnas\"\n",
    "array_bidimensional = np.array(lista_listas)\n",
    "print(f\"El array bidimensional creado a partir de la lista es:\\n  {array_bidimensional}\\n\")\n",
    "\n",
    "\n",
    "\n",
    "\n",
    "print(\"-------------ARRAY TRIDIMENSIONAL--------------\")\n",
    "# para crear un array tridimensional necesitaremos una lista de listas de listas 🤯. \n",
    "lista_listas_listas = [[[1, 2, 3, 4, 5], [6, 7, 8, 9, 10]], [[11, 12, 13, 14, 15], [16, 17, 18, 19, 20]]]\n",
    "print(\"La lista de listas de listas a partir de la que crearemos un array tridimensional es:\", lista_listas_listas)\n",
    "\n",
    "# convertimos la lista en array usando el método 'np.array()' \n",
    "# fijaos como ahora el array que hemos construido tiene \"filas\" y \"columnas\"\n",
    "array_tridimensional = np.array(lista_listas_listas)\n",
    "print(f\"El array tridimensional creado a partir de la lista es:\\n  {array_tridimensional}\\n\")\n",
    "\n"
   ]
  },
  {
   "cell_type": "markdown",
   "metadata": {},
   "source": [
    "Acabamos de aprender a crear *arrays* de distintas dimensiones, y como vemos en el print anterior vemos que tienen distintas formas, pero solo podemos decir eso. Exploremos ahora, con una serie de métodos específicos, cuales son las propiedades de cada uno de estos *arrays* para entender mejor sus diferencias. \n",
    "\n",
    "NumPy ofrece una variedad de métodos útiles para comprender y explorar las propiedades de un *array*. Veamos los más importantes:\n",
    "\n",
    "1. **Forma del array**: El método `shape` devuelve una tupla que representa la forma (dimensiones) del *array*. Cada elemento de la tupla representa el tamaño de una dimensión. \n",
    "\n",
    "2. **Número de dimensiones**: El atributo `ndim` devuelve el número de dimensiones del *array*.\n",
    "\n",
    "3. **Tamaño total del array**: El atributo `size` devuelve el número total de elementos en el *array*. \n",
    "\n",
    "\n",
    "4. **Tipo de datos del array**: El atributo `dtype` devuelve el tipo de datos de los elementos del *array*. \n"
   ]
  },
  {
   "cell_type": "code",
   "execution_count": 17,
   "metadata": {},
   "outputs": [
    {
     "name": "stdout",
     "output_type": "stream",
     "text": [
      "-------------ARRAY UNIDIMENSIONAL--------------\n",
      "El array unidimensional es: \n",
      "  [1 2 3 4 5]\n",
      "La forma del array unidimensional es: (5,)\n",
      "El número de dimensiones del array unidimensional es: 1\n",
      "El número de elementos del array unidimensional es: 5\n",
      "El tipo de dato que tenemos en el array unidimensional es: int64\n",
      "\n"
     ]
    }
   ],
   "source": [
    "print(\"-------------ARRAY UNIDIMENSIONAL--------------\")\n",
    "print(f\"El array unidimensional es: \\n  {array_unidimensional}\")\n",
    "print(f\"La forma del array unidimensional es: {array_unidimensional.shape}\")\n",
    "print(f\"El número de dimensiones del array unidimensional es: {array_unidimensional.ndim}\")\n",
    "print(f\"El número de elementos del array unidimensional es: {array_unidimensional.size}\")\n",
    "print(f\"El tipo de dato que tenemos en el array unidimensional es: {array_unidimensional.dtype}\\n\")"
   ]
  },
  {
   "cell_type": "markdown",
   "metadata": {},
   "source": [
    "Entendamos los resultados que hemos obtenido en la celda anterior: \n",
    "\n",
    "- ***array* unidimensional**\n",
    "\n",
    "    - *Forma*: el método `shape` nos devuelve una tupla donde nos va indicar el número de elementos que tenemos por cada dimensión que tiene nuestro *array*. En este caso, nos devuelve una tupla de un solo elemento porque solo tenemos una dimensión que tiene 5 elementos. \n",
    "\n",
    "    - *Número de dimensiones*: para entender bien que es lo que nos devuelve el atributo `ndim` necesitamos comprender que es una dimensión en el contexto de un *array*. En términos simples, una dimensión en un *array* se refiere a la cantidad de índices necesarios para acceder a un elemento dentro del *array*. Por ejemplo, un *array* unidimensional requiere un solo índice para acceder a un elemento, mientras que un *array* bidimensional requiere dos índices (uno para la fila y otro para la columna). Entendiendo esto,  y pensando que la indexación en *arrays* es como en las listas, en nuestro caso solo necesitamos un índice para acceder a algún valor dentro del *array*, por lo que la dimensión de este *array* es de 1\n",
    "\n",
    "    - *Número de elementos*: con el atributo `size` nos dice el número de elementos que  hay dentro del *array*, en este caso tenemos 5 números enteros\n",
    "\n",
    "    - *Tipo de datos*: usando el atributo `dtype` conocemos que  el *array* esta compuesto por elementos de tipo *integer*. Recordad que en un *array* todos los elementos deben ser del mismo tipo. \n"
   ]
  },
  {
   "cell_type": "code",
   "execution_count": 18,
   "metadata": {},
   "outputs": [
    {
     "name": "stdout",
     "output_type": "stream",
     "text": [
      "-------------ARRAY BIDIMENSIONAL--------------\n",
      "El array bidimensional es: \n",
      "  [[ 1  2  3  4  5]\n",
      " [ 6  7  8  9 10]]\n",
      "La forma del array bidimensional es: (2, 5)\n",
      "El número de dimensiones del array bidimensional es: 2\n",
      "El número de elementos del array bidimensional es: 10\n",
      "El tipo de dato que tenemos en el array bidimensional es: int64\n",
      "\n"
     ]
    }
   ],
   "source": [
    "print(\"-------------ARRAY BIDIMENSIONAL--------------\")\n",
    "print(f\"El array bidimensional es: \\n  {array_bidimensional}\")\n",
    "print(f\"La forma del array bidimensional es: {array_bidimensional.shape}\")\n",
    "print(f\"El número de dimensiones del array bidimensional es: {array_bidimensional.ndim}\")\n",
    "print(f\"El número de elementos del array bidimensional es: {array_bidimensional.size}\")\n",
    "print(f\"El tipo de dato que tenemos en el array bidimensional es: {array_bidimensional.dtype}\\n\")"
   ]
  },
  {
   "cell_type": "markdown",
   "metadata": {},
   "source": [
    "Entendamos los resultados que hemos obtenido en la celda anterior: \n",
    "\n",
    "\n",
    "- ***array* bidimensional**\n",
    "\n",
    "    - *Forma*: en este caso la tupla esta compuesta por dos valores, podríamos decir que tenemos \"filas\" y \"columnas\". En concreto nos esta diciendo que tenemos 2 filas y 5 columnas. \n",
    "\n",
    "    - *Número de dimensiones*: En este caso necesitamos dos índices para acceder a algún valor dentro del *array*, por lo que la dimensión de este *array* es de 2. Es como acceder a un elemento en una lista de listas\n",
    "\n",
    "    - *Número de elementos*: con el atributo `size` nos dice el número de elementos que  hay dentro del *array*, en este caso tenemos 10 números enteros\n",
    "\n",
    "    - *Tipo de datos*: usando el atributo `dtype` conocemos que  el *array* esta compuesto por elementos de tipo *integer*. Recordad que en un *array* todos los elementos deben ser del mismo tipo. \n"
   ]
  },
  {
   "cell_type": "code",
   "execution_count": 19,
   "metadata": {},
   "outputs": [
    {
     "name": "stdout",
     "output_type": "stream",
     "text": [
      "-------------ARRAY TRIDIMENSIONAL--------------\n",
      "El array tridimensional es: \n",
      "  [[[ 1  2  3  4  5]\n",
      "  [ 6  7  8  9 10]]\n",
      "\n",
      " [[11 12 13 14 15]\n",
      "  [16 17 18 19 20]]]\n",
      "La forma del array tridimensional es: (2, 2, 5)\n",
      "El número de dimensiones del array tridimensional es: 3\n",
      "El número de elementos del array tridimensional es: 20\n",
      "El tipo de dato que tenemos en el array tridimensional es: int64\n",
      "\n"
     ]
    }
   ],
   "source": [
    "print(\"-------------ARRAY TRIDIMENSIONAL--------------\")\n",
    "print(f\"El array tridimensional es: \\n  {array_tridimensional}\")\n",
    "print(f\"La forma del array tridimensional es: {array_tridimensional.shape}\")\n",
    "print(f\"El número de dimensiones del array tridimensional es: {array_tridimensional.ndim}\")\n",
    "print(f\"El número de elementos del array tridimensional es: {array_tridimensional.size}\")\n",
    "print(f\"El tipo de dato que tenemos en el array tridimensional es: {array_tridimensional.dtype}\\n\")"
   ]
  },
  {
   "cell_type": "markdown",
   "metadata": {},
   "source": [
    "Entendamos los resultados que hemos obtenido en la celda anterior: \n",
    "\n",
    "- ***array* tridimensional**\n",
    "\n",
    "    - *Forma*: en este caso la tupla esta compuesta por tres valores. Esto lo podemos interpretar de la siguiente forma, tenemos 3 dimensiones, la primera hace referencia al número de *arrays* más pequeños que tenemos en nuestro *array* principal (en este caso 2, es decir, tenemos dos *arrays*). Luego tenemos dos valores más que son el 2 y el 5 que indican que cada uno de los *arrays* pequeños tienen dos filas y 5 columnas. \n",
    "\n",
    "    - *Número de dimensiones*: En este caso necesitamos tres índices para acceder a algún valor dentro del *array*, por lo que la dimensión de este *array* es de 3. \n",
    "\n",
    "    - *Número de elementos*: con el atributo `size` nos dice el número de elementos que  hay dentro del *array*, en este caso tenemos 20 números enteros\n",
    "\n",
    "    - *Tipo de datos*: usando el atributo `dtype` conocemos que  el *array* esta compuesto por elementos de tipo *integer*. Recordad que en un *array* todos los elementos deben ser del mismo tipo. \n",
    "\n",
    "\n",
    "Comprendiendo las diferencias entre los distintos tipos de *arrays* y sus propiedades, sigamos viendo otras formas de crear **arrays**. "
   ]
  },
  {
   "cell_type": "markdown",
   "metadata": {},
   "source": [
    "## Crear un array vacío\n",
    "\n",
    "Al igual que en el caso anterior, podremos crear *arrays* vacíos de distintas dimensiones. Su sintaxis básica es:\n",
    "\n",
    "\n",
    "```python\n",
    "np.empty(shape, dtype=float)\n",
    "```\n",
    "- `shape`: Especifica la forma (dimensiones) del *array* que se creará. Puede ser un entero, una tupla de enteros o una lista de enteros. \n",
    "\n",
    "- `dtype` (opcional): Especifica el tipo de datos de los elementos del *array*. Por defecto, es `float`, lo que significa que los elementos del *array* serán números de punto flotante. También se pueden especificar otros tipos de datos, como `int` para números enteros, `bool` para valores booleanos, `str` para cadenas de texto, entre otros.\n",
    "\n",
    "\n",
    "Aquí tienes algunos ejemplos de cómo utilizar `np.empty`:\n",
    "\n",
    "```python\n",
    "import numpy as np\n",
    "\n",
    "# Crear un array vacío de 2 filas y 3 columnas\n",
    "array_vacio = np.empty((2, 3))\n",
    "print(array_vacio)\n",
    "\n",
    "# Crear un array vacío de forma (4, )\n",
    "array_vacio_1D = np.empty(4)\n",
    "print(array_vacio_1D)\n",
    "```\n",
    "\n",
    "El método `np.empty` crea un *array* vacío sin inicializar sus elementos. Esto significa que los valores de los elementos pueden ser impredecibles y dependerán de los datos almacenados previamente en la memoria."
   ]
  },
  {
   "cell_type": "code",
   "execution_count": 20,
   "metadata": {},
   "outputs": [
    {
     "name": "stdout",
     "output_type": "stream",
     "text": [
      "------------- ARRAY UNIDIMENSIONAL VACÍO --------------\n",
      "El array unidimensional creado a partir del método np.emtpy(): \n",
      "  [6.23042070e-307 4.67296746e-307 1.69121096e-306 8.35425485e-309] \n",
      "\n"
     ]
    }
   ],
   "source": [
    "print(\"------------- ARRAY UNIDIMENSIONAL VACÍO --------------\")\n",
    "# creamos el array vacío unidimensional especificando el número de elementos que queremos tener en el array. \n",
    "# como solo tiene una dimensión solo le paso un valor. Nos genera un array con 4 valores.\n",
    "array_vacio_unidimensional =  np.empty(4)\n",
    "print(f\"El array unidimensional creado a partir del método np.emtpy(): \\n  {array_vacio_unidimensional} \\n\")"
   ]
  },
  {
   "cell_type": "code",
   "execution_count": 21,
   "metadata": {},
   "outputs": [
    {
     "name": "stdout",
     "output_type": "stream",
     "text": [
      "------------- ARRAY BIDIMENSIONAL VACÍO --------------\n",
      "El array bidimensional creado a partir del método np.emtpy(): \n",
      "  [[0.0000e+000 0.0000e+000]\n",
      " [0.0000e+000 0.0000e+000]\n",
      " [0.0000e+000 1.2035e-320]\n",
      " [0.0000e+000 0.0000e+000]] \n",
      "\n"
     ]
    }
   ],
   "source": [
    "print(\"------------- ARRAY BIDIMENSIONAL VACÍO --------------\")\n",
    "# creamos el array vacío bidimensional especificando el número de elementos que queremos tener en el array. \n",
    "# como en este caso queremos tener dos dimensiones, le tendremos que pasar dos valores, con el número de elementos que queremos en cada una de ellas\n",
    "# el primer valor hace referencia al número de filas y el segundo al número de columnas\n",
    "array_vacio_bidimensional =  np.empty((4,2))\n",
    "print(f\"El array bidimensional creado a partir del método np.emtpy(): \\n  {array_vacio_bidimensional} \\n\")\n"
   ]
  },
  {
   "cell_type": "code",
   "execution_count": 22,
   "metadata": {},
   "outputs": [
    {
     "name": "stdout",
     "output_type": "stream",
     "text": [
      "------------- ARRAY TRIDIMENSIONAL VACÍO --------------\n",
      "El array tridimensional creado a partir del método np.emtpy(): \n",
      "  [[[ 6.95275545e-310  6.95275545e-310]\n",
      "  [ 6.95275545e-310  6.95275545e-310]\n",
      "  [ 6.95275545e-310  6.95275545e-310]\n",
      "  [ 1.02274000e-311  1.02273994e-311]]\n",
      "\n",
      " [[ 4.94065646e-324  6.95275545e-310]\n",
      "  [ 1.84115564e-314  7.48294317e+012]\n",
      "  [-3.42843178e+186  2.12199579e-314]\n",
      "  [ 6.95275545e-310  9.73480423e-309]]\n",
      "\n",
      " [[ 0.00000000e+000  0.00000000e+000]\n",
      "  [ 0.00000000e+000  0.00000000e+000]\n",
      "  [ 0.00000000e+000  0.00000000e+000]\n",
      "  [ 0.00000000e+000  1.11253693e-308]]] \n",
      "\n"
     ]
    }
   ],
   "source": [
    "print(\"------------- ARRAY TRIDIMENSIONAL VACÍO --------------\")\n",
    "# creamos el array vacío tridimensional especificando el número de elementos que queremos tener en el array. \n",
    "# queremos tener tres dimensiones, por lo que le tendremos que pasar tres valores, con el número de elementos que queremos en cada una de ellas\n",
    "# el primer valor hace referencia al número de arrays \"pequeños\" que queremos, el segundo al número de filas y el último al número de columnas\n",
    "array_vacio_tridimensional =  np.empty((3, 4, 2)) # estamos generando un array de tres matrices donde cada una de ellas tienen 4 filas y 2 columnas\n",
    "print(f\"El array tridimensional creado a partir del método np.emtpy(): \\n  {array_vacio_tridimensional} \\n\")"
   ]
  },
  {
   "cell_type": "markdown",
   "metadata": {},
   "source": [
    "## Crear un array de ceros\n",
    "\n",
    "Permite crear un *array* compuesto solo por 0. La sintaxis del método `np.zeros` en NumPy es la siguiente:\n",
    "\n",
    "```python\n",
    "np.zeros(shape, dtype=float)\n",
    "```\n",
    "\n",
    "- `shape`: Especifica la forma (dimensiones) del *array* que se creará. Puede ser un entero, una tupla de enteros o una lista de enteros.\n",
    "\n",
    "- `dtype` (opcional): Especifica el tipo de datos de los elementos del *array*. Por defecto, es `float`, lo que significa que los elementos del *array* serán números de punto flotante. También se pueden especificar otros tipos de datos, como `int` para números enteros, `bool` para valores booleanos, `str` para cadenas de texto, entre otros.\n",
    "\n"
   ]
  },
  {
   "cell_type": "code",
   "execution_count": 23,
   "metadata": {},
   "outputs": [
    {
     "name": "stdout",
     "output_type": "stream",
     "text": [
      "------------- ARRAY UNIDIMENSIONAL DE CEROS --------------\n",
      "El array unidimensional creado a partir del método np.zeros(): \n",
      "  [0. 0. 0. 0.] \n",
      "\n"
     ]
    }
   ],
   "source": [
    "print(\"------------- ARRAY UNIDIMENSIONAL DE CEROS --------------\")\n",
    "# creamos el array unidimensional especificando el número de elementos que queremos tener en el array. \n",
    "# como solo tiene una dimensión solo le paso un valor.\n",
    "array_vacio_unidimensional_cero =  np.zeros(4)\n",
    "print(f\"El array unidimensional creado a partir del método np.zeros(): \\n  {array_vacio_unidimensional_cero} \\n\")"
   ]
  },
  {
   "cell_type": "code",
   "execution_count": 24,
   "metadata": {},
   "outputs": [
    {
     "name": "stdout",
     "output_type": "stream",
     "text": [
      "------------- ARRAY BIDIMENSIONAL DE CEROS --------------\n",
      "El array bidimensional creado a partir del método np.zeros(): \n",
      "  [[0. 0.]\n",
      " [0. 0.]\n",
      " [0. 0.]\n",
      " [0. 0.]] \n",
      "\n"
     ]
    }
   ],
   "source": [
    "print(\"------------- ARRAY BIDIMENSIONAL DE CEROS --------------\")\n",
    "# la lógica y la sintaxis va a ser la misma que cuando creabamos los arrays vacíos\n",
    "# creamos un array de 0 con 4 filas y 2 columnas\n",
    "array_vacio_bidimensional_cero =  np.zeros((4,2))\n",
    "print(f\"El array bidimensional creado a partir del método np.zeros(): \\n  {array_vacio_bidimensional_cero} \\n\")"
   ]
  },
  {
   "cell_type": "code",
   "execution_count": 25,
   "metadata": {},
   "outputs": [
    {
     "name": "stdout",
     "output_type": "stream",
     "text": [
      "------------- ARRAY TRIDIMENSIONAL DE CEROS --------------\n",
      "El array tridimensional creado a partir del método np.zeros(): \n",
      "  [[[0. 0.]\n",
      "  [0. 0.]\n",
      "  [0. 0.]\n",
      "  [0. 0.]]\n",
      "\n",
      " [[0. 0.]\n",
      "  [0. 0.]\n",
      "  [0. 0.]\n",
      "  [0. 0.]]\n",
      "\n",
      " [[0. 0.]\n",
      "  [0. 0.]\n",
      "  [0. 0.]\n",
      "  [0. 0.]]] \n",
      "\n"
     ]
    }
   ],
   "source": [
    "\n",
    "print(\"------------- ARRAY TRIDIMENSIONAL DE CEROS --------------\")\n",
    "# estamos generando un array de 0 con 3 matrices donde cada una de ellas tienen 4 filas y 2 columnas\n",
    "array_vacio_tridimensional_cero =  np.zeros((3, 4, 2)) \n",
    "print(f\"El array tridimensional creado a partir del método np.zeros(): \\n  {array_vacio_tridimensional_cero} \\n\")"
   ]
  },
  {
   "cell_type": "markdown",
   "metadata": {},
   "source": [
    "\n",
    "## Crear un array de unos\n",
    "\n",
    "Crea un *array* formado unicamente por 1. La sintaxis del método `np.ones` en NumPy es la siguiente:\n",
    "\n",
    "```python\n",
    "np.ones(shape, dtype=None)\n",
    "```\n",
    "\n",
    "- `shape`: Especifica la forma (dimensiones) del array que se creará. Puede ser un entero, una tupla de enteros o una lista de enteros. \n",
    "\n",
    "\n",
    "- `dtype` (opcional): Especifica el tipo de datos de los elementos del array. Por defecto, es `None`, lo que significa que los elementos del array serán números de punto flotante. También se pueden especificar otros tipos de datos, como `int` para números enteros, `bool` para valores booleanos, `str` para cadenas de texto, entre otros."
   ]
  },
  {
   "cell_type": "code",
   "execution_count": 26,
   "metadata": {},
   "outputs": [
    {
     "name": "stdout",
     "output_type": "stream",
     "text": [
      "------------- ARRAY UNIDIMENSIONAL DE UNOS --------------\n",
      "El array unidimensional creado a partir del método np.ones(): \n",
      "  [1. 1. 1. 1.] \n",
      "\n"
     ]
    }
   ],
   "source": [
    "print(\"------------- ARRAY UNIDIMENSIONAL DE UNOS --------------\")\n",
    "# creamos el array de 1 unidimensional especificando el número de elementos que queremos tener en el array. \n",
    "# como solo tiene una dimensión solo le paso un valor.\n",
    "array_vacio_unidimensional_unos =  np.ones(4)\n",
    "print(f\"El array unidimensional creado a partir del método np.ones(): \\n  {array_vacio_unidimensional_unos} \\n\")"
   ]
  },
  {
   "cell_type": "code",
   "execution_count": 27,
   "metadata": {},
   "outputs": [
    {
     "name": "stdout",
     "output_type": "stream",
     "text": [
      "------------- ARRAY BIDIMENSIONAL DE UNOS --------------\n",
      "El array bidimensional creado a partir del método np.ones(): \n",
      "  [[1. 1.]\n",
      " [1. 1.]\n",
      " [1. 1.]\n",
      " [1. 1.]] \n",
      "\n"
     ]
    }
   ],
   "source": [
    "print(\"------------- ARRAY BIDIMENSIONAL DE UNOS --------------\")\n",
    "# estamos creando un array de dos dimensiones con 4 filas y 2 columnas\n",
    "array_vacio_bidimensional_unos =  np.ones((4,2))\n",
    "print(f\"El array bidimensional creado a partir del método np.ones(): \\n  {array_vacio_bidimensional_unos} \\n\")"
   ]
  },
  {
   "cell_type": "code",
   "execution_count": 28,
   "metadata": {},
   "outputs": [
    {
     "name": "stdout",
     "output_type": "stream",
     "text": [
      "------------- ARRAY TRIDIMENSIONAL DE UNOS --------------\n",
      "El array tridimensional creado a partir del método np.ones(): \n",
      "  [[[1. 1.]\n",
      "  [1. 1.]\n",
      "  [1. 1.]\n",
      "  [1. 1.]]\n",
      "\n",
      " [[1. 1.]\n",
      "  [1. 1.]\n",
      "  [1. 1.]\n",
      "  [1. 1.]]\n",
      "\n",
      " [[1. 1.]\n",
      "  [1. 1.]\n",
      "  [1. 1.]\n",
      "  [1. 1.]]] \n",
      "\n"
     ]
    }
   ],
   "source": [
    "print(\"------------- ARRAY TRIDIMENSIONAL DE UNOS --------------\")\n",
    "# creamos el array de 1 tridimensional especificando el número de elementos que queremos tener en el array. \n",
    "array_vacio_tridimensional_unos =  np.ones((3, 4, 2)) # estamos generando un array de tres matrices donde cada una de ellas tienen 4 filas y 2 columnas\n",
    "print(f\"El array tridimensional creado a partir del método np.ones(): \\n  {array_vacio_tridimensional_unos} \\n\")"
   ]
  },
  {
   "cell_type": "markdown",
   "metadata": {},
   "source": [
    "## Crear un array con valores secuenciales\n",
    "\n",
    "\n",
    "Funciona de forma similar al `range()` de Python, pero en este caso nos genera un *array*. La sintaxis del método `np.arange` en NumPy es la siguiente:\n",
    "\n",
    "```python\n",
    "np.arange(start, stop, step, dtype=None)\n",
    "```\n",
    "\n",
    "- `start` (opcional): Especifica el valor de inicio de la secuencia. Por defecto, es 0.\n",
    "\n",
    "- `stop`: Especifica el valor final de la secuencia (exclusivo). Es decir, la secuencia generada no incluirá este valor.\n",
    "\n",
    "- `step` (opcional): Especifica el incremento entre los valores de la secuencia. Por defecto, es 1.\n",
    "\n",
    "- `dtype` (opcional): Especifica el tipo de datos de los elementos en el array. Por defecto, es `None`, lo que significa que se utilizará el tipo de datos predeterminado.\n",
    "\n",
    "\n",
    "📌 Por defecto nos devuelve una matriz unidimensional. En caso de que queramos cambiar las dimensiones del *array* tendremos que aplicar el método `reshape` que veremos mas adelante. "
   ]
  },
  {
   "cell_type": "code",
   "execution_count": 29,
   "metadata": {},
   "outputs": [
    {
     "name": "stdout",
     "output_type": "stream",
     "text": [
      "------------- ARRAY UNIDIMENSIONAL CON 4 ELEMENTOS --------------\n",
      "El array unidimensional creado a partir del método np.emtpy(): \n",
      "  [0 1 2 3] \n",
      "\n",
      "------------- ARRAY UNIDIMENSIONAL CON NÚMEROS DEL 1 AL 4(no incluido) CON SALTOS DE 1 EN 1  --------------\n",
      "El array bidimensional creado a partir del método np.emtpy(): \n",
      "  [1 2 3] \n",
      "\n",
      "------------- ARRAY UNIDIMENSIONAL CON NÚMEROS DEL 1 AL 20(no incluido) CON SALTOS DE 2 EN 2  --------------\n",
      "El array bidimensional creado a partir del método np.emtpy(): \n",
      "  [ 1  3  5  7  9 11 13 15 17 19] \n",
      "\n"
     ]
    }
   ],
   "source": [
    "print(\"------------- ARRAY UNIDIMENSIONAL CON 4 ELEMENTOS --------------\")\n",
    "array_unidimensional_arange_1 =  np.arange(4)\n",
    "print(f\"El array unidimensional creado a partir del método np.emtpy(): \\n  {array_unidimensional_arange_1} \\n\")\n",
    "\n",
    "\n",
    "print(\"------------- ARRAY UNIDIMENSIONAL CON NÚMEROS DEL 1 AL 4(no incluido) CON SALTOS DE 1 EN 1  --------------\")\n",
    "array_unidimensional_arange_2 =  np.arange(1,4,1)\n",
    "print(f\"El array bidimensional creado a partir del método np.emtpy(): \\n  {array_unidimensional_arange_2} \\n\")\n",
    "\n",
    "\n",
    "print(\"------------- ARRAY UNIDIMENSIONAL CON NÚMEROS DEL 1 AL 20(no incluido) CON SALTOS DE 2 EN 2  --------------\")\n",
    "array_unidimensional_arange_3 =  np.arange(1,20,2)\n",
    "print(f\"El array bidimensional creado a partir del método np.emtpy(): \\n  {array_unidimensional_arange_3} \\n\")\n"
   ]
  },
  {
   "cell_type": "markdown",
   "metadata": {},
   "source": [
    "## Crear un array usando random\n",
    "\n",
    "El módulo `random` de NumPy proporciona funciones para generar números aleatorios con diferentes distribuciones y características. Estas funciones son útiles para simular datos aleatorios y realizar experimentos numéricos. Algunos de los métodos más utilizados del módulo `random` de NumPy:\n",
    "\n",
    "\n",
    "1. `np.random.randint`: Genera números enteros aleatorios en un array. Puedes especificar el rango de los números enteros y la forma del array como argumentos.\n",
    "\n",
    "2. `np.random.rand`: Genera números aleatorios en un *array* en el rango [0, 1).  Es decir, los números generados estarán en el intervalo semiabierto [0, 1), donde 0 está incluido y 1 está excluido.\n",
    "\n",
    "3. `np.random.sample`: Genera números aleatorios en un *array*  en el rango [0, 1).\n"
   ]
  },
  {
   "cell_type": "markdown",
   "metadata": {},
   "source": [
    "### np.random.randint\n",
    "\n",
    "La sintaxis básica del método `np.random.randint` es la siguiente:\n",
    "\n",
    "```python\n",
    "numpy.random.randint(low, high, size, dtype)\n",
    "```\n",
    "\n",
    "Donde:\n",
    "\n",
    "- `low`: Especifica el límite inferior del rango de números enteros a generar (inclusive). Si solo se proporciona este argumento, los números aleatorios se generarán en el rango [0, low). Es decir, el límite superior no está incluido en el rango.\n",
    "\n",
    "- `high` (opcional): Especifica el límite superior del rango de números enteros a generar (exclusivo). Si se proporciona este argumento, los números aleatorios se generarán en el rango [low, high). \n",
    "\n",
    "- `size` (opcional): Especifica la forma del *array* resultante de números enteros aleatorios. Puede ser un número entero o una tupla de enteros que represente las dimensiones del *array*. Por defecto, es `None`, lo que implica que se generará un solo número entero,  es decir, un array unidimensional.\n",
    "\n",
    "- `dtype` (opcional): Especifica el tipo de dato de los elementos en el *array*. Por defecto, es `int`, lo que significa que los números enteros se generarán como enteros estándar.\n",
    "\n"
   ]
  },
  {
   "cell_type": "code",
   "execution_count": 30,
   "metadata": {},
   "outputs": [
    {
     "name": "stdout",
     "output_type": "stream",
     "text": [
      "------------- ARRAY UNIDIMENSIONAL RANDINT --------------\n",
      "El array unidimensional creado a partir del método np.random.randint(): \n",
      "  3 \n",
      "\n"
     ]
    }
   ],
   "source": [
    "print(\"------------- ARRAY UNIDIMENSIONAL RANDINT --------------\")\n",
    "# en este caso estamos generando un array unidimensional con un valor aleatorio que puede variar entre 0 y 9 (no incluido)\n",
    "array_randint_uni = np.random.randint(9)\n",
    "print(f\"El array unidimensional creado a partir del método np.random.randint(): \\n  {array_randint_uni} \\n\")"
   ]
  },
  {
   "cell_type": "code",
   "execution_count": 31,
   "metadata": {},
   "outputs": [
    {
     "name": "stdout",
     "output_type": "stream",
     "text": [
      "------------- ARRAY BIDIMENSIONAL RANDINT --------------\n",
      "El array bidimensional creado a partir del método np.random.randint(): \n",
      "  [[41 43  0]\n",
      " [25 13 14]] \n",
      "\n"
     ]
    }
   ],
   "source": [
    "print(\"------------- ARRAY BIDIMENSIONAL RANDINT --------------\")\n",
    "# generamos un array bidimensional con números aleatorios entre el 0 y el 50(no incluido) de 2 filas y 3 columnas\n",
    "array_randint_bi = np.random.randint(0, 50, (2,3))\n",
    "print(f\"El array bidimensional creado a partir del método np.random.randint(): \\n  {array_randint_bi} \\n\")"
   ]
  },
  {
   "cell_type": "code",
   "execution_count": 32,
   "metadata": {},
   "outputs": [
    {
     "name": "stdout",
     "output_type": "stream",
     "text": [
      "------------- ARRAY TRIDIMENSIONAL RANDINT --------------\n",
      "El array bidimensional creado a partir del método np.random.randint(): \n",
      "  [[[14  1  6 18]\n",
      "  [ 9  2 14  8]\n",
      "  [ 8 12 15  7]]\n",
      "\n",
      " [[15 18  9  3]\n",
      "  [11  7  9 17]\n",
      "  [ 2  6 17  5]]] \n",
      "\n"
     ]
    }
   ],
   "source": [
    "print(\"------------- ARRAY TRIDIMENSIONAL RANDINT --------------\")\n",
    "# generamos un array tridimensional de números aleatorios entre el 0 y 20 (no incluido) de 2 matrices, 3 filas y 4 columnas\n",
    "array_randint_tri = np.random.randint(0, 20, (2,3, 4))\n",
    "print(f\"El array bidimensional creado a partir del método np.random.randint(): \\n  {array_randint_tri} \\n\")"
   ]
  },
  {
   "cell_type": "markdown",
   "metadata": {},
   "source": [
    "### np.random.rand\n",
    "\n",
    "La sintaxis básica del método `np.random.rand` es la siguiente:\n",
    "\n",
    "```python\n",
    "numpy.random.rand(d0, d1, ..., dn)\n",
    "```\n",
    "\n",
    "- `d0, d1, ..., dn` son los argumentos opcionales que determinan las dimensiones de la matriz de números aleatorios que se generará. Puedes proporcionar cualquier número de argumentos, lo que significa que puedes crear matrices unidimensionales, bidimensionales, tridimensionales, etc.\n",
    "\n",
    "📝 **NOTA**: en este caso no tenemos que especificar que entre que valores queremos que nos genere los números. POR DEFECTO NOS GENERARÁ NÚMEROS ALEATORIOS ENTRE EL 0-1.\n",
    "\n",
    "📝 **NOTA**: Solo nos dará *floats*, por lo que no hace falta especificar el tipo. "
   ]
  },
  {
   "cell_type": "code",
   "execution_count": 33,
   "metadata": {},
   "outputs": [
    {
     "name": "stdout",
     "output_type": "stream",
     "text": [
      "------------- ARRAY UNIDIMENSIONAL RAND --------------\n",
      "El array unidimensional creado a partir del método np.random.rand(): \n",
      "  [0.71392317 0.51289174] \n",
      "\n"
     ]
    }
   ],
   "source": [
    "print(\"------------- ARRAY UNIDIMENSIONAL RAND --------------\")\n",
    "# en este caso estamos generando un array unidimensional con dos valores aleatorios entre el 0 y el 1\n",
    "array_rand_uni = np.random.rand(2)\n",
    "print(f\"El array unidimensional creado a partir del método np.random.rand(): \\n  {array_rand_uni} \\n\")"
   ]
  },
  {
   "cell_type": "code",
   "execution_count": 34,
   "metadata": {},
   "outputs": [
    {
     "name": "stdout",
     "output_type": "stream",
     "text": [
      "------------- ARRAY BIDIMENSIONAL RAND --------------\n",
      "El array unidimensional creado a paratir del método np.random.rand(): \n",
      "  [[0.97236031 0.56156805 0.49927621]\n",
      " [0.35977424 0.72944646 0.97662776]] \n",
      "\n"
     ]
    }
   ],
   "source": [
    "print(\"------------- ARRAY BIDIMENSIONAL RAND --------------\")\n",
    "# en este caso estamos generando un array bidimensional de 2 filas y 3 columnas con números aleatorios entre el 0 y el 1\n",
    "array_rand_bi = np.random.rand(2,3)\n",
    "print(f\"El array unidimensional creado a paratir del método np.random.rand(): \\n  {array_rand_bi} \\n\")\n"
   ]
  },
  {
   "cell_type": "code",
   "execution_count": 35,
   "metadata": {},
   "outputs": [
    {
     "name": "stdout",
     "output_type": "stream",
     "text": [
      "------------- ARRAY TRIDIMENSIONAL RAND --------------\n",
      "El array unidimensional creado a partir del método np.random.rand(): \n",
      "  [[[0.85033862 0.13396745 0.77215805 0.59964628]\n",
      "  [0.57378488 0.68387023 0.46357349 0.64262135]\n",
      "  [0.33091832 0.62071512 0.06818836 0.79286998]]\n",
      "\n",
      " [[0.13307103 0.04586217 0.22683555 0.64552824]\n",
      "  [0.88642237 0.73935487 0.76533122 0.94233981]\n",
      "  [0.98199145 0.6614297  0.41842357 0.88499048]]] \n",
      "\n"
     ]
    }
   ],
   "source": [
    "print(\"------------- ARRAY TRIDIMENSIONAL RAND --------------\")\n",
    "# en este caso estamos generando un array tridimensional de 2 matrices, 3 filas  y 4 columnas con números aleatorios entre el 0 y el 1\n",
    "array_rand_tri = np.random.rand(2,3, 4)\n",
    "print(f\"El array unidimensional creado a partir del método np.random.rand(): \\n  {array_rand_tri} \\n\")\n"
   ]
  },
  {
   "cell_type": "markdown",
   "metadata": {},
   "source": [
    "### np.random.random_sample\n",
    "\n",
    "La sintaxis básica del método `np.random.random_sample` es la siguiente:\n",
    "\n",
    "```python\n",
    "numpy.random.random_sample(size=None)\n",
    "```\n",
    "\n",
    "Donde:\n",
    "\n",
    "- `size` (opcional): Permite especificar la forma del array resultante. Puede ser un número entero o una tupla de enteros que represente las dimensiones del array. Si no se proporciona el parámetro `size`, se devuelve un solo número aleatorio en el rango [0, 1)."
   ]
  },
  {
   "cell_type": "code",
   "execution_count": 36,
   "metadata": {},
   "outputs": [
    {
     "name": "stdout",
     "output_type": "stream",
     "text": [
      "------------- ARRAY UNIDIMENSIONAL RANDOM_SAMPLE --------------\n",
      "El array unidimensional creado a partir del método np.random.random_sample(): \n",
      "  [0.42557789 0.95662574 0.49035684 0.47086944] \n",
      "\n"
     ]
    }
   ],
   "source": [
    "print(\"------------- ARRAY UNIDIMENSIONAL RANDOM_SAMPLE --------------\")\n",
    "# en este caso estamos generando un array unidimensional con 4 valores aleatorios entre el 0 y el 1\n",
    "array_sample_uni = np.random.random_sample(4)\n",
    "print(f\"El array unidimensional creado a partir del método np.random.random_sample(): \\n  {array_sample_uni} \\n\")"
   ]
  },
  {
   "cell_type": "code",
   "execution_count": 37,
   "metadata": {},
   "outputs": [
    {
     "name": "stdout",
     "output_type": "stream",
     "text": [
      "------------- ARRAY BIDIMENSIONAL RANDOM_SAMPLE --------------\n",
      "El array unidimensional creado a paratir del método np.random.random_sample(): \n",
      "  [[0.47228396 0.22426035 0.19634407]\n",
      " [0.59688199 0.64353557 0.33219936]] \n",
      "\n"
     ]
    }
   ],
   "source": [
    "print(\"------------- ARRAY BIDIMENSIONAL RANDOM_SAMPLE --------------\")\n",
    "# en este caso estamos generando un array bidimensional de 2 filas y 3 columnas con números aleatorios entre el 0 y el 1\n",
    "array_sample_bi = np.random.random_sample((2,3))\n",
    "print(f\"El array unidimensional creado a paratir del método np.random.random_sample(): \\n  {array_sample_bi} \\n\")"
   ]
  },
  {
   "cell_type": "code",
   "execution_count": 38,
   "metadata": {},
   "outputs": [
    {
     "name": "stdout",
     "output_type": "stream",
     "text": [
      "------------- ARRAY TRIDIMENSIONAL RANDOM_SAMPLE --------------\n",
      "El array unidimensional creado a partir del método  np.random.random_sample(): \n",
      "  [[[0.88156698 0.02038748 0.84520982 0.39661396]\n",
      "  [0.41855205 0.84924726 0.36162263 0.31564645]\n",
      "  [0.23977595 0.75099621 0.27634375 0.70419236]]\n",
      "\n",
      " [[0.83138214 0.93820041 0.07428851 0.66786977]\n",
      "  [0.69558011 0.05753442 0.25096624 0.73236191]\n",
      "  [0.4018233  0.44677918 0.89489079 0.07356772]]] \n",
      "\n"
     ]
    }
   ],
   "source": [
    "print(\"------------- ARRAY TRIDIMENSIONAL RANDOM_SAMPLE --------------\")\n",
    "# en este caso estamos generando un array tridimensional de 2 matrices, 3 filas  y 4 columnas con números aleatorios entre el 0 y el 1\n",
    "array_sample_tri = np.random.random_sample((2,3, 4))\n",
    "print(f\"El array unidimensional creado a partir del método  np.random.random_sample(): \\n  {array_sample_tri} \\n\")\n"
   ]
  },
  {
   "cell_type": "markdown",
   "metadata": {},
   "source": [
    "# Indexación \n",
    "\n",
    "Se utiliza para acceder a elementos especificando sus índices dentro del *array*, de una forma muy similar a como lo hacíamos con listas.\n",
    "\n",
    "Si recordamos de las listas: \n",
    "\n",
    "- Empezabamos a contar las posiciones de nuestros elementos desde 0. **En NumPy será igual**.\n",
    "\n",
    "    ![image.png](https://github.com/Adalab/data_imagenes/blob/main/Modulo-2/NumPy/index_Numpy.png?raw=true)\n",
    "\n",
    "\n",
    "- Si queremos acceder a un subconjunto de elementos de nuestra lista usabamos la siguiente sintaxis:\n",
    "\n",
    "    ```python\n",
    "    lista[start:stop:step]\n",
    "\n",
    "    # ejemplo:\n",
    "    lst = [12,20,3,45,6,23,81,93]\n",
    "\n",
    "    # seleccionamos desde el elemento 3 (incluido) hasta el final\n",
    "    lst[3:] \n",
    "    [45, 6, 23, 81, 93]\n",
    "\n",
    "\n",
    "    # seleccionamos desde el elemento 3 hasta el 5. ⚠️ Recordamos que en el límite superior el valor que especificamos NO SE INCLUYE\n",
    "    lst[3:6]\n",
    "    [45, 6, 23]\n",
    "\n",
    "\n",
    "    # seleccionamos los 4 primeros elementos\n",
    "    lst[:4]\n",
    "    [12, 20, 3, 45]\n",
    "\n",
    "\n",
    "    # seleccionamos todos los elementos que están en posición impar\n",
    "    lst[1::2]\n",
    "    [12, 3, 6, 81]\n",
    "    ```"
   ]
  },
  {
   "cell_type": "markdown",
   "metadata": {},
   "source": [
    "## Indexación en *arrays* unidimensionales\n",
    "\n",
    "Como ya hemos dicho, la indexación se utiliza para acceder y manipular elementos individuales o grupos de elementos en un array. En NumPy, la indexación se realiza utilizando corchetes `[]`, al igual que hacíamos en listas. \n",
    "\n",
    "```python\n",
    "array[i]\n",
    "# donde i es el índice del elemento al que queremos acceder\n",
    "```\n"
   ]
  },
  {
   "cell_type": "code",
   "execution_count": 39,
   "metadata": {},
   "outputs": [
    {
     "name": "stdout",
     "output_type": "stream",
     "text": [
      "El array unidimensional que tenemos es: \n",
      " [0.32573466 0.84880049 0.57053103 0.88727353 0.96049254 0.49598935\n",
      " 0.64505759 0.68222103 0.08355165 0.76326667 0.24582577 0.51407219\n",
      " 0.32139353 0.61957795 0.42491048]\n",
      "\n",
      "---------------------------\n",
      "\n",
      "El primer elemento de nuestro array es: \n",
      " 0.3257346573405563\n"
     ]
    }
   ],
   "source": [
    "# Imaginemos que tenemos el siguiente array unidimensional con 5 elementos\n",
    "## en nuestro array\n",
    "\n",
    "unidimensional = np.random.random_sample(15)\n",
    "print(f\"El array unidimensional que tenemos es: \\n {unidimensional}\")\n",
    "\n",
    "# si queremos acceder al primer elemento de nuestro array\n",
    "print(\"\\n---------------------------\\n\")\n",
    "print(f\"El primer elemento de nuestro array es: \\n {unidimensional[0]}\")"
   ]
  },
  {
   "cell_type": "code",
   "execution_count": 40,
   "metadata": {},
   "outputs": [
    {
     "name": "stdout",
     "output_type": "stream",
     "text": [
      "El array unidimensional que tenemos es: \n",
      " [0.62795091 0.27185442 0.35112754 0.22196279 0.41286824 0.11944249\n",
      " 0.57844201 0.20832481 0.65744568 0.03546854 0.76620912 0.42861934\n",
      " 0.78726559 0.17907503 0.36370131]\n",
      "\n",
      "---------------------------\n",
      "\n",
      "Los tres últimos elementos de nuestro array son: \n",
      " [0.78726559 0.17907503 0.36370131]\n"
     ]
    }
   ],
   "source": [
    "unidimensional = np.random.random_sample(15)\n",
    "print(f\"El array unidimensional que tenemos es: \\n {unidimensional}\")\n",
    "\n",
    "\n",
    "# si queremos acceder a los tres últimos elementos:\n",
    "print(\"\\n---------------------------\\n\")\n",
    "print(f\"Los tres últimos elementos de nuestro array son: \\n {unidimensional[-3:]}\")"
   ]
  },
  {
   "cell_type": "code",
   "execution_count": 41,
   "metadata": {},
   "outputs": [
    {
     "name": "stdout",
     "output_type": "stream",
     "text": [
      "El array unidimensional que tenemos es: \n",
      " [0.6479038  0.4108167  0.60073703 0.74096401 0.19396467 0.4276144\n",
      " 0.82327239 0.65265762 0.01331434 0.05560851 0.51149955 0.63357237\n",
      " 0.44233538 0.04228726 0.2470867 ]\n",
      "\n",
      "---------------------------\n",
      "\n",
      "El tercer y cuarto elemento de nuestro array son: \n",
      " [0.60073703 0.74096401]\n"
     ]
    }
   ],
   "source": [
    "unidimensional = np.random.random_sample(15)\n",
    "print(f\"El array unidimensional que tenemos es: \\n {unidimensional}\")\n",
    "\n",
    "# si queremos seleccionar el tercer y cuarto elemento\n",
    "print(\"\\n---------------------------\\n\")\n",
    "print(f\"El tercer y cuarto elemento de nuestro array son: \\n {unidimensional[2:4]}\")\n"
   ]
  },
  {
   "cell_type": "code",
   "execution_count": 42,
   "metadata": {},
   "outputs": [
    {
     "name": "stdout",
     "output_type": "stream",
     "text": [
      "El array unidimensional que tenemos es: \n",
      " [0.68228048 0.69717168 0.93672724 0.74361115 0.33452501 0.5084577\n",
      " 0.92410222 0.86370289 0.18249394 0.0770544  0.94879844 0.84181276\n",
      " 0.71305865 0.42357907 0.54693518]\n",
      "\n",
      "---------------------------\n",
      "\n",
      "Los elementos desde el inicio hasta el 10 de dos en dos son: \n",
      " [0.68228048 0.93672724 0.33452501 0.92410222 0.18249394 0.94879844]\n"
     ]
    }
   ],
   "source": [
    "unidimensional = np.random.random_sample(15)\n",
    "print(f\"El array unidimensional que tenemos es: \\n {unidimensional}\")\n",
    "\n",
    "# los elementos desde el inicio hasta el 10 en saltos de dos en dos\n",
    "print(\"\\n---------------------------\\n\")\n",
    "print(f\"Los elementos desde el inicio hasta el 10 de dos en dos son: \\n {unidimensional[:11:2]}\")\n",
    "\n"
   ]
  },
  {
   "cell_type": "markdown",
   "metadata": {},
   "source": [
    "## Indexación en *arrays* bidimensionales\n",
    "\n",
    "En el caso de este tipo de *arrays* se acceder a elementos individuales en una matriz bidimensional utilizando la sintaxis `[fila, columna]` entre corchetes.\n",
    "\n",
    "Los podemos entender como una lista de listas.\n",
    "\n",
    "```python\n",
    "array[i,j]\n",
    "array[i][j]\n",
    "\n",
    "# 🚨 Las dos lineas anteriores son exactamente lo mismo\n",
    "# seleccionará el elemento de la fila \"i\" y columna \"j\"\n",
    "```\n",
    "\n",
    "\n",
    "Donde: \n",
    "- `i` --> filas\n",
    "\n",
    "- `j` --> columnas"
   ]
  },
  {
   "cell_type": "code",
   "execution_count": 43,
   "metadata": {},
   "outputs": [
    {
     "name": "stdout",
     "output_type": "stream",
     "text": [
      "El array bidimensional que tenemos es: \n",
      " [[0.44651686 0.78119643 0.88881996 0.26448012]\n",
      " [0.83547254 0.17579086 0.64819595 0.58163478]\n",
      " [0.7594619  0.27941749 0.98465093 0.07181733]\n",
      " [0.39710703 0.39021528 0.78628449 0.53765086]\n",
      " [0.18720335 0.52555423 0.4473433  0.63404601]]\n",
      "\n",
      "El primer elemento de nuestro array es: \n",
      " [0.44651686 0.78119643 0.88881996 0.26448012]\n"
     ]
    }
   ],
   "source": [
    "# definimos un array bidimensional\n",
    "# en este caso estamos generando un array de 5 filas y 4 columnas con números aleatorios entre el 0 y el 1\n",
    "bidimensional = np.random.rand(5, 4)\n",
    "print(f\"El array bidimensional que tenemos es: \\n {bidimensional}\")\n",
    "\n",
    "# desgranemos la indexación en este tipo de arrays\n",
    "# si accedemos al elemento 0 del array obtenemos a la fila que queramos de nuestro array\n",
    "\n",
    "print(f\"\\nEl primer elemento de nuestro array es: \\n {bidimensional[0]}\")"
   ]
  },
  {
   "cell_type": "code",
   "execution_count": 44,
   "metadata": {},
   "outputs": [
    {
     "name": "stdout",
     "output_type": "stream",
     "text": [
      "El array bidimensional que tenemos es: \n",
      " [[0.44651686 0.78119643 0.88881996 0.26448012]\n",
      " [0.83547254 0.17579086 0.64819595 0.58163478]\n",
      " [0.7594619  0.27941749 0.98465093 0.07181733]\n",
      " [0.39710703 0.39021528 0.78628449 0.53765086]\n",
      " [0.18720335 0.52555423 0.4473433  0.63404601]]\n",
      "\n",
      "El primer elemento de la primera fila de nuestro array es: \n",
      " 0.44651685551490206\n",
      "\n",
      "-------------------------------------\n",
      "\n",
      "bidimensional[0][0] es exactamente lo mismo que bidimensional[0,0]: \n",
      " 0.44651685551490206\n"
     ]
    }
   ],
   "source": [
    "print(f\"El array bidimensional que tenemos es: \\n {bidimensional}\")\n",
    "\n",
    "# dado el resultado del paso anterior, sigamos buceando en el array, \n",
    "# en este caso querremos acceder al primer elemento del resultado anterior\n",
    "# fijaos como ponemos dos indices, el primero para acceder a las filas \n",
    "# y el segundo para acceder a las columnas\n",
    "# podríamos decir que es como el juego de hundir la flota\n",
    "print(f\"\\nEl primer elemento de la primera fila de nuestro array es: \\n {bidimensional[0][0]}\")\n",
    "print(\"\\n-------------------------------------\\n\")\n",
    "print(f\"bidimensional[0][0] es exactamente lo mismo que bidimensional[0,0]: \\n {bidimensional[0, 0]}\")"
   ]
  },
  {
   "cell_type": "code",
   "execution_count": 45,
   "metadata": {},
   "outputs": [
    {
     "name": "stdout",
     "output_type": "stream",
     "text": [
      "El array bidimensional que tenemos es: \n",
      " [[0.44651686 0.78119643 0.88881996 0.26448012]\n",
      " [0.83547254 0.17579086 0.64819595 0.58163478]\n",
      " [0.7594619  0.27941749 0.98465093 0.07181733]\n",
      " [0.39710703 0.39021528 0.78628449 0.53765086]\n",
      " [0.18720335 0.52555423 0.4473433  0.63404601]]\n",
      "\n",
      "---------------------------\n",
      "\n",
      "El elemento que esta en la 2ª fila y 3ª columna es: \n",
      " 0.6481959486879245\n"
     ]
    }
   ],
   "source": [
    "print(f\"El array bidimensional que tenemos es: \\n {bidimensional}\")\n",
    "# accedemos a la segunda fila, tercer columna. \n",
    "print(\"\\n---------------------------\\n\")\n",
    "print(f\"El elemento que esta en la 2ª fila y 3ª columna es: \\n {bidimensional[1,2]}\")\n"
   ]
  },
  {
   "cell_type": "markdown",
   "metadata": {},
   "source": [
    "📌 **NOTA** Cuando usamos la siguiente estructura `array[i,j]`: \n",
    "\n",
    "- Todo lo que haya antes de la coma se referirá a filas.\n",
    "\n",
    "\n",
    "- Todo lo que haya después de la coma se referirá a columnas. \n",
    "\n",
    "De esta forma, si por ejemplo queremos seleccionar solo las dos primeras filas usaremos la nomenclatura que ya conocemos con los `:`. Si no especificamos nada (o solo ponemos `:`) se entiende que lo queremos todo. Por ejemplo 👇🏽"
   ]
  },
  {
   "cell_type": "code",
   "execution_count": 46,
   "metadata": {},
   "outputs": [
    {
     "name": "stdout",
     "output_type": "stream",
     "text": [
      "El array bidimensional que tenemos es: \n",
      " [[0.44651686 0.78119643 0.88881996 0.26448012]\n",
      " [0.83547254 0.17579086 0.64819595 0.58163478]\n",
      " [0.7594619  0.27941749 0.98465093 0.07181733]\n",
      " [0.39710703 0.39021528 0.78628449 0.53765086]\n",
      " [0.18720335 0.52555423 0.4473433  0.63404601]]\n",
      "\n",
      "---------------------------\n",
      "\n",
      "Las dos primeras filas con todas sus columnas son: \n",
      " [[0.44651686 0.78119643 0.88881996 0.26448012]\n",
      " [0.83547254 0.17579086 0.64819595 0.58163478]]\n"
     ]
    }
   ],
   "source": [
    "print(f\"El array bidimensional que tenemos es: \\n {bidimensional}\")\n",
    "# seleccionamos las dos primeras filas, y todas las columnas (no ponemos \n",
    "# nada después de la coma). \n",
    "print(\"\\n---------------------------\\n\")\n",
    "print(f\"Las dos primeras filas con todas sus columnas son: \\n {bidimensional[:2,:]}\")\n",
    "\n"
   ]
  },
  {
   "cell_type": "code",
   "execution_count": 47,
   "metadata": {},
   "outputs": [
    {
     "name": "stdout",
     "output_type": "stream",
     "text": [
      "El array bidimensional que tenemos es: \n",
      " [[0.44651686 0.78119643 0.88881996 0.26448012]\n",
      " [0.83547254 0.17579086 0.64819595 0.58163478]\n",
      " [0.7594619  0.27941749 0.98465093 0.07181733]\n",
      " [0.39710703 0.39021528 0.78628449 0.53765086]\n",
      " [0.18720335 0.52555423 0.4473433  0.63404601]]\n",
      "\n",
      "---------------------------\n",
      "\n",
      "Todas las filas y las últimas tres columnas son: \n",
      " [[0.78119643 0.88881996 0.26448012]\n",
      " [0.17579086 0.64819595 0.58163478]\n",
      " [0.27941749 0.98465093 0.07181733]\n",
      " [0.39021528 0.78628449 0.53765086]\n",
      " [0.52555423 0.4473433  0.63404601]]\n"
     ]
    }
   ],
   "source": [
    "print(f\"El array bidimensional que tenemos es: \\n {bidimensional}\")\n",
    "\n",
    "# seleccionamos todas las filas y solo las tres últimas filas\n",
    "print(\"\\n---------------------------\\n\")\n",
    "print(f\"Todas las filas y las últimas tres columnas son: \\n {bidimensional[:,-3:]}\")"
   ]
  },
  {
   "cell_type": "markdown",
   "metadata": {},
   "source": [
    "## Indexación en *arrays* tridimensionales\n",
    "\n",
    "De la misma forma que en los bidimensionales, el los mutidimensionales podemos acceder a sus elementos de dos formas: \n",
    "\n",
    "```python\n",
    "array[i,j,k]\n",
    "array[i][j][k]\n",
    "```\n",
    "\n",
    "- i → *array* al que queremos acceder \n",
    "\n",
    "\n",
    "- j → fila de nuestro *array* al que queremos acceder\n",
    "\n",
    "\n",
    "- k → columna de nuestro *array* al que queremos acceder\n",
    "\n",
    "    ![3d-array-index.png](https://github.com/Adalab/data_imagenes/blob/main/Modulo-2/NumPy/index_numpy_multidimensional.png?raw=true)"
   ]
  },
  {
   "cell_type": "code",
   "execution_count": 48,
   "metadata": {},
   "outputs": [
    {
     "name": "stdout",
     "output_type": "stream",
     "text": [
      "El array multidimensional que tenemos es: \n",
      " [[[39 62 83 33 74]\n",
      "  [77 25 12 75 60]\n",
      "  [30 13 73 14 72]]\n",
      "\n",
      " [[45 22 74 76 42]\n",
      "  [20 34 75 30 14]\n",
      "  [68 27 72 77 34]]]\n",
      "\n",
      "---------------------------\n",
      "\n",
      "El elemento de la 1ª matriz, 2ª fila y 4ª columna es : \n",
      " 75\n"
     ]
    }
   ],
   "source": [
    "# definimos un array tridimensional\n",
    "# en este caso estamos creando un array de números enteros entre el 10 y el 100 con\n",
    "# 2 matrices, 3 filas y 5 columnas\n",
    "tridimensional = np.random.randint(10,100, (2,3,5))\n",
    "print(f\"El array multidimensional que tenemos es: \\n {tridimensional}\")\n",
    "\n",
    "# accedemos al primer array y al elemento que está en la fila 2 y la columna 4\n",
    "print(\"\\n---------------------------\\n\")\n",
    "print(f\"El elemento de la 1ª matriz, 2ª fila y 4ª columna es : \\n {tridimensional[0,1,3]}\")"
   ]
  },
  {
   "cell_type": "code",
   "execution_count": 49,
   "metadata": {},
   "outputs": [
    {
     "name": "stdout",
     "output_type": "stream",
     "text": [
      "El array multidimensional que tenemos es: \n",
      " [[[39 62 83 33 74]\n",
      "  [77 25 12 75 60]\n",
      "  [30 13 73 14 72]]\n",
      "\n",
      " [[45 22 74 76 42]\n",
      "  [20 34 75 30 14]\n",
      "  [68 27 72 77 34]]]\n",
      "\n",
      "---------------------------\n",
      "\n",
      "Los elementos del 1ª matriz, 1ª fila y todas las columnas  : \n",
      " [39 62 83 33 74]\n"
     ]
    }
   ],
   "source": [
    "print(f\"El array multidimensional que tenemos es: \\n {tridimensional}\")\n",
    "\n",
    "# primer array primera fila y todas las columnas\n",
    "print(\"\\n---------------------------\\n\")\n",
    "print(f\"Los elementos del 1ª matriz, 1ª fila y todas las columnas  : \\n {tridimensional[0,0, :]}\")\n"
   ]
  },
  {
   "cell_type": "markdown",
   "metadata": {},
   "source": [
    "# Filtrado de datos en *arrays*\n",
    "\n",
    "## Filtrado con condiciones\n",
    "\n",
    "El filtrado de datos en *arrays* de NumPy es una técnica para seleccionar elementos específicos de un *array* basado en ciertas condiciones. NumPy proporciona una forma eficiente de filtrar datos utilizando operaciones booleanas.\n",
    "\n",
    "Los pasos para poder filtrar datos en *arrays* de NumPy son:\n",
    "\n",
    "1. **Creación de una máscara booleana**: En el filtrado de datos, primero necesitamos crear una máscara booleana, que es un *array* booleano que tiene la misma forma que el *array* original. La máscara booleana contiene valores True o False, donde True indica que un elemento cumple una determinada condición y False indica que no la cumple. Por ejemplo:\n",
    "    ```python\n",
    "\n",
    "    array = np.array([1, 2, 3, 4, 5])\n",
    "    mascara = array > 3  # Crear una máscara booleana donde los elementos mayores que 3 son True\n",
    "    ```\n",
    "\n",
    "2. **Aplicación de la máscara booleana**: Una vez que tenemos la máscara booleana, podemos aplicarla para filtrar los datos del *array* original. Puedes utilizar la máscara booleana como índice para seleccionar los elementos correspondientes del array original. Por ejemplo:\n",
    "    ```python\n",
    "    elementos_filtrados = array[mascara]  # Filtrar los elementos del array original usando la máscara booleana\n",
    "    ```"
   ]
  },
  {
   "cell_type": "code",
   "execution_count": 50,
   "metadata": {},
   "outputs": [
    {
     "name": "stdout",
     "output_type": "stream",
     "text": [
      "El array bidimensional con el que vamos a trabajar es: \n",
      " [[0.44651686 0.78119643 0.88881996 0.26448012]\n",
      " [0.83547254 0.17579086 0.64819595 0.58163478]\n",
      " [0.7594619  0.27941749 0.98465093 0.07181733]\n",
      " [0.39710703 0.39021528 0.78628449 0.53765086]\n",
      " [0.18720335 0.52555423 0.4473433  0.63404601]]\n",
      "-----------------------------\n",
      "Primer paso: creación de una máscara booleana \n",
      " [[False  True  True False]\n",
      " [ True False  True  True]\n",
      " [ True False  True False]\n",
      " [False False  True  True]\n",
      " [False  True False  True]]\n",
      "-----------------------------\n",
      "Segundo paso: aplicar la máscara booleana \n",
      " [0.78119643 0.88881996 0.83547254 0.64819595 0.58163478 0.7594619\n",
      " 0.98465093 0.78628449 0.53765086 0.52555423 0.63404601]\n"
     ]
    }
   ],
   "source": [
    "# en este caso reutilizaremos el array bidimensional que creamos en el apartado anterior\n",
    "print(f\"El array bidimensional con el que vamos a trabajar es: \\n {bidimensional}\")\n",
    "\n",
    "# creamos la máscara, en este caso nuestra condición será: ¿qué elementos son mayores que 0.5?\n",
    "print(\"-----------------------------\")\n",
    "print(f\"Primer paso: creación de una máscara booleana \\n {bidimensional > 0.5}\")\n",
    "\n",
    "# aplicamos la máscara creada en el paso anterior, en este caso, NumPy nos devolverá solo los elementos \n",
    "# que coinciden con la condicion\n",
    "print(\"-----------------------------\")\n",
    "print(f\"Segundo paso: aplicar la máscara booleana \\n {bidimensional[bidimensional > 0.5]}\")"
   ]
  },
  {
   "cell_type": "markdown",
   "metadata": {},
   "source": [
    "Imaginemos ahora que queremos seleccionar ciertos valores basados en dos condiciones. En este caso:\n",
    "\n",
    "- Usaremos el operador `&` para indicar que queremos que se cumplan las dos condiciones. Lo que conocíamos hasta ahora como `and`.\n",
    "\n",
    "\n",
    "- Usaremos el operador `|` para indicar que se cumpla una condición y otra. Lo que conocíamos hasta ahora como `or`. "
   ]
  },
  {
   "cell_type": "code",
   "execution_count": 51,
   "metadata": {},
   "outputs": [
    {
     "name": "stdout",
     "output_type": "stream",
     "text": [
      "El array bidimensional con el que vamos a trabajar es: \n",
      " [[0.44651686 0.78119643 0.88881996 0.26448012]\n",
      " [0.83547254 0.17579086 0.64819595 0.58163478]\n",
      " [0.7594619  0.27941749 0.98465093 0.07181733]\n",
      " [0.39710703 0.39021528 0.78628449 0.53765086]\n",
      " [0.18720335 0.52555423 0.4473433  0.63404601]]\n",
      "-----------------------------\n",
      "El resultado del filtraod < 0.2 o > 0.7 es: \n",
      " [0.78119643 0.88881996 0.83547254 0.17579086 0.7594619  0.98465093\n",
      " 0.07181733 0.78628449 0.18720335]\n"
     ]
    }
   ],
   "source": [
    "# en este caso reutilizaremos el array bidimensional que creamos en el apartado anterior\n",
    "print(f\"El array bidimensional con el que vamos a trabajar es: \\n {bidimensional}\")\n",
    "\n",
    "\n",
    "# queremos seleccionar aquellos números que sean MENORES que 0.2 \n",
    "# o MAYORES que 0.7. FIJATE QUE CADA CONDICIÓN VA ENTRE PARÉNTESIS SEPARADA POR EL OPERADOR \"|\"\n",
    "print(\"-----------------------------\")\n",
    "resultado_filtradoI = bidimensional[(bidimensional < 0.2) |  (bidimensional >0.7)]\n",
    "print(f\"El resultado del filtraod < 0.2 o > 0.7 es: \\n {resultado_filtradoI}\")"
   ]
  },
  {
   "cell_type": "markdown",
   "metadata": {},
   "source": [
    "## Filtrado con `np.where()`\n",
    "\n",
    "Permite realizar una evaluación condicional sobre un *array*. La función `np.where()` devuelve un nuevo array con los elementos seleccionados según la condición especificada.\n",
    "\n",
    "Su sintaxis básica es:\n",
    "```python\n",
    "np.where(condición, valor_si_verdadero, valor_si_falso)\n",
    "```\n",
    "\n",
    "Donde:\n",
    "\n",
    "- **condición**: Es una expresión booleana que define la condición a evaluar. \n",
    "\n",
    "- **valor_si_verdadero** (opcional):  Es el valor o array que se selecciona si la condición es verdadera.\n",
    "\n",
    "- **valor_si_falso** (opcional): Es el valor o array que se selecciona si la condición es falsa."
   ]
  },
  {
   "cell_type": "code",
   "execution_count": 52,
   "metadata": {},
   "outputs": [
    {
     "name": "stdout",
     "output_type": "stream",
     "text": [
      "El array con el que vamos a trabajar en este apartado de la lección es: \n",
      " [[0.44651686 0.78119643 0.88881996 0.26448012]\n",
      " [0.83547254 0.17579086 0.64819595 0.58163478]\n",
      " [0.7594619  0.27941749 0.98465093 0.07181733]\n",
      " [0.39710703 0.39021528 0.78628449 0.53765086]\n",
      " [0.18720335 0.52555423 0.4473433  0.63404601]]\n",
      "--------------------------\n",
      "El resultado del np.where() es: \n",
      " (array([0, 1, 2]), array([2, 0, 2]))\n"
     ]
    }
   ],
   "source": [
    "print(f\"El array con el que vamos a trabajar en este apartado de la lección es: \\n {bidimensional}\")\n",
    "\n",
    "# usamos el método 'np.where()' para evaluar una condición, en este caso para encontrar los valores mayores que 0.8\n",
    "resultado_where = np.where(bidimensional > 0.8)\n",
    "print(\"--------------------------\")\n",
    "print(\"El resultado del np.where() es: \\n\", resultado_where)\n",
    "\n"
   ]
  },
  {
   "cell_type": "markdown",
   "metadata": {},
   "source": [
    "Interpretemos el *output* que nos da: \n",
    " 📌 ¡Ojo! Estos datos pueden variar en función del array! Pero analicemos este posible resultado y luego extrapolemoslo a tus resultados:\n",
    " \n",
    "Siendo el *array* \n",
    "\n",
    "```python\n",
    "# siendo el array: \n",
    " [[0.77903991 0.15437117 0.57456639 0.7733642 ]\n",
    " [0.57071481 0.85731511 0.45343035 0.88811929]\n",
    " [0.59041327 0.54515411 0.1909847  0.64404005]\n",
    " [0.39462897 0.93674338 0.89013927 0.38247099]\n",
    " [0.90641556 0.00374108 0.44098083 0.19549975]]\n",
    "\n",
    "# y estableciendo la siguiente condición: \n",
    "np.where(bidimensional > 0.9)\n",
    "\n",
    "# lo primero que vemos es que nos devuelve una tupla, que tiene dos arrays\n",
    "(array([3, 4]), array([1, 0]))\n",
    "```\n",
    "\n",
    "- El primer *array* del *output* hace referencia a las filas\n",
    "\n",
    "    ```python\n",
    "    array([3, 4])\n",
    "    ```\n",
    "\n",
    "- El segundo *array* hace refencia a las columnas\n",
    "\n",
    "    ```python\n",
    "    array([1, 0])\n",
    "    ```\n",
    "\n",
    "Entonces ¿qué significa?\n",
    "\n",
    "- El elemento `3,1` (fila, columna) cumple la condición.\n",
    "- El elemento `4,0` (fila, columna) cumple la condición.\n",
    "\n",
    "🚨 **NOTA** Fijaos que los valores de estos índices pueden variar cada vez que ejecutemos el código ya que estamos generando el *array* de forma aleatoria. "
   ]
  },
  {
   "cell_type": "markdown",
   "metadata": {},
   "source": [
    "# Operaciones aritméticas con *arrays* \n",
    "\n",
    "*NumPy* proporciona una amplia gama de funciones y operaciones para realizar cálculos aritméticos en *arrays* de manera eficiente.\n",
    "\n",
    "Algunas de las operaciones aritméticas comunes que puedes realizar con arrays de NumPy:\n",
    "\n",
    "1. Suma: Usaremos el método `np.add()`\n",
    "  \n",
    "2. Resta: En este caso`np.subtract()`\n",
    "\n",
    "3. Multiplicación: Usaremos `np.multiply()`\n",
    "\n",
    "4. División: Método `np.divide()`\n",
    "\n",
    "5. Potencia: Usaremos el método `np.power()`\n",
    "\n",
    "6. Operaciones con escalares\n",
    "\n",
    "Los operadores `+`, `-`, `*` y `/` también funcionan para realizar las operaciones correspondientes directamente entre *arrays* de *NumPy*. Sin embargo, aunque los podemos usar, los métodos aprendidos específicos de NumPy son los más adecuados."
   ]
  },
  {
   "cell_type": "code",
   "execution_count": 53,
   "metadata": {},
   "outputs": [
    {
     "name": "stdout",
     "output_type": "stream",
     "text": [
      "El array 1 es:\n",
      "  [[[4 9 4]\n",
      "  [8 4 4]]\n",
      "\n",
      " [[9 9 5]\n",
      "  [4 4 7]]] \n",
      "\n",
      "El array 2 es:\n",
      "  [[[8 8 8]\n",
      "  [2 6 1]]\n",
      "\n",
      " [[1 2 5]\n",
      "  [7 6 3]]]\n",
      "--------------------------------\n",
      "El resultado de la suma de los dos arrays es:\n",
      " [[[12 17 12]\n",
      "  [10 10  5]]\n",
      "\n",
      " [[10 11 10]\n",
      "  [11 10 10]]]\n"
     ]
    }
   ],
   "source": [
    "# lo primero que vamos a hacer es definir dos arrays con los que trabajaremos. \n",
    "# en este caso vamos a generar dos arrays tridimensionales con números enteros entre el 1 y 10\n",
    "# lel array consta de 2 matrices, 2 filas y tres colummas \n",
    "array1 = np.random.randint(1,10, (2, 2,3))\n",
    "array2 = np.random.randint(1,10, (2, 2,3))\n",
    "\n",
    "print(\"El array 1 es:\\n \", array1, '\\n')\n",
    "print(\"El array 2 es:\\n \", array2)\n",
    "\n",
    "# sumar dos arrays\n",
    "print(\"--------------------------------\")\n",
    "suma = np.add(array1, array2)  # Suma los elementos correspondientes de los dos arrays\n",
    "print(\"El resultado de la suma de los dos arrays es:\\n\", suma)\n"
   ]
  },
  {
   "cell_type": "code",
   "execution_count": 54,
   "metadata": {},
   "outputs": [
    {
     "name": "stdout",
     "output_type": "stream",
     "text": [
      "El array 1 es:\n",
      "  [[[4 9 4]\n",
      "  [8 4 4]]\n",
      "\n",
      " [[9 9 5]\n",
      "  [4 4 7]]] \n",
      "\n",
      "El array 2 es:\n",
      "  [[[8 8 8]\n",
      "  [2 6 1]]\n",
      "\n",
      " [[1 2 5]\n",
      "  [7 6 3]]]\n",
      "--------------------------------\n",
      "El resultado de la resta de los dos arrays es:\n",
      " [[[-4  1 -4]\n",
      "  [ 6 -2  3]]\n",
      "\n",
      " [[ 8  7  0]\n",
      "  [-3 -2  4]]]\n"
     ]
    }
   ],
   "source": [
    "\n",
    "print(\"El array 1 es:\\n \", array1, '\\n')\n",
    "print(\"El array 2 es:\\n \", array2)\n",
    "\n",
    "# restar dos arrays\n",
    "print(\"--------------------------------\")\n",
    "resta = np.subtract(array1, array2)  # Suma los elementos correspondientes de los dos arrays\n",
    "print(\"El resultado de la resta de los dos arrays es:\\n\", resta)"
   ]
  },
  {
   "cell_type": "code",
   "execution_count": 55,
   "metadata": {},
   "outputs": [
    {
     "name": "stdout",
     "output_type": "stream",
     "text": [
      "El array 1 es:\n",
      "  [[[4 9 4]\n",
      "  [8 4 4]]\n",
      "\n",
      " [[9 9 5]\n",
      "  [4 4 7]]] \n",
      "\n",
      "El array 2 es:\n",
      "  [[[8 8 8]\n",
      "  [2 6 1]]\n",
      "\n",
      " [[1 2 5]\n",
      "  [7 6 3]]]\n",
      "--------------------------------\n",
      "El resultado de la multiplicación de los dos arrays es:\n",
      " [[[32 72 32]\n",
      "  [16 24  4]]\n",
      "\n",
      " [[ 9 18 25]\n",
      "  [28 24 21]]]\n"
     ]
    }
   ],
   "source": [
    "print(\"El array 1 es:\\n \", array1, '\\n')\n",
    "print(\"El array 2 es:\\n \", array2)\n",
    "\n",
    "# multiplicar dos arrays\n",
    "print(\"--------------------------------\")\n",
    "multipicacion = np.multiply(array1, array2)  # Suma los elementos correspondientes de los dos arrays\n",
    "print(\"El resultado de la multiplicación de los dos arrays es:\\n\", multipicacion)\n",
    "\n"
   ]
  },
  {
   "cell_type": "code",
   "execution_count": 56,
   "metadata": {},
   "outputs": [
    {
     "name": "stdout",
     "output_type": "stream",
     "text": [
      "El array 1 es:\n",
      "  [[[4 9 4]\n",
      "  [8 4 4]]\n",
      "\n",
      " [[9 9 5]\n",
      "  [4 4 7]]] \n",
      "\n",
      "El array 2 es:\n",
      "  [[[8 8 8]\n",
      "  [2 6 1]]\n",
      "\n",
      " [[1 2 5]\n",
      "  [7 6 3]]]\n",
      "--------------------------------\n",
      "El resultado de la división de los dos arrays es:\n",
      " [[[0.5        1.125      0.5       ]\n",
      "  [4.         0.66666667 4.        ]]\n",
      "\n",
      " [[9.         4.5        1.        ]\n",
      "  [0.57142857 0.66666667 2.33333333]]]\n"
     ]
    }
   ],
   "source": [
    "print(\"El array 1 es:\\n \", array1, '\\n')\n",
    "print(\"El array 2 es:\\n \", array2)\n",
    "\n",
    "# dividir dos arrays\n",
    "print(\"--------------------------------\")\n",
    "division = np.divide(array1, array2)  # Suma los elementos correspondientes de los dos arrays\n",
    "print(\"El resultado de la división de los dos arrays es:\\n\", division)"
   ]
  },
  {
   "cell_type": "code",
   "execution_count": 57,
   "metadata": {},
   "outputs": [
    {
     "name": "stdout",
     "output_type": "stream",
     "text": [
      "El array 1 es:\n",
      "  [[[4 9 4]\n",
      "  [8 4 4]]\n",
      "\n",
      " [[9 9 5]\n",
      "  [4 4 7]]] \n",
      "\n",
      "El array 2 es:\n",
      "  [[[8 8 8]\n",
      "  [2 6 1]]\n",
      "\n",
      " [[1 2 5]\n",
      "  [7 6 3]]]\n",
      "--------------------------------\n",
      "El resultado de la potencia de los dos arrays es:\n",
      " [[[   65536 43046721    65536]\n",
      "  [      64     4096        4]]\n",
      "\n",
      " [[       9       81     3125]\n",
      "  [   16384     4096      343]]]\n"
     ]
    }
   ],
   "source": [
    "print(\"El array 1 es:\\n \", array1, '\\n')\n",
    "print(\"El array 2 es:\\n \", array2)\n",
    "\n",
    "# elevar dos arrays\n",
    "print(\"--------------------------------\")\n",
    "elevado = np.power(array1, array2)  # Suma los elementos correspondientes de los dos arrays\n",
    "print(\"El resultado de la potencia de los dos arrays es:\\n\", elevado)"
   ]
  },
  {
   "cell_type": "code",
   "execution_count": 58,
   "metadata": {},
   "outputs": [
    {
     "name": "stdout",
     "output_type": "stream",
     "text": [
      "El array 1 es:\n",
      "  [[[4 9 4]\n",
      "  [8 4 4]]\n",
      "\n",
      " [[9 9 5]\n",
      "  [4 4 7]]] \n",
      "\n",
      "--------------------------------\n",
      "El resultado de la multiplicación del array con el escalar es:\n",
      " [[[ 8 18  8]\n",
      "  [16  8  8]]\n",
      "\n",
      " [[18 18 10]\n",
      "  [ 8  8 14]]]\n"
     ]
    }
   ],
   "source": [
    "print(\"El array 1 es:\\n \", array1, '\\n')\n",
    "\n",
    "# operaciones con escalares\n",
    "# definimos un escalar\n",
    "print(\"--------------------------------\")\n",
    "escalar = 2\n",
    "multiplicacion_escalar = array1 * escalar\n",
    "print(\"El resultado de la multiplicación del array con el escalar es:\\n\", multiplicacion_escalar)"
   ]
  },
  {
   "cell_type": "markdown",
   "metadata": {},
   "source": [
    "# Funciones universales o `ufuncs`\n",
    "\n",
    "Las Funciones Universales (*ufuncs*) de NumPy permiten realizar operaciones eficientes elemento por elemento en *arrays* de NumPy. Estas funciones proporcionan un rendimiento optimizado, una amplia variedad de operaciones. "
   ]
  },
  {
   "cell_type": "markdown",
   "metadata": {},
   "source": [
    "## Operaciones estadísticas\n",
    "\n",
    "### `np.mean()`\n",
    "\n",
    "Calcula la media de todos los elementos del *array*. La **media** es una medida estadística que se utiliza para obtener el valor central de un conjunto de datos numéricos. Para calcular la media, se suman todos los valores y se dividen por la cantidad total de valores.\n",
    "\n",
    "Este método nos permite elegir el eje sobre el que queremos calcular la media. Para eso tendremos que usar el parámetro `axis`, donde:\n",
    "\n",
    "- `axis = 0`: nos calculará la media para cada **columna** de nuestro *array*.\n",
    "\n",
    "    ![mean.png](https://github.com/Adalab/data_imagenes/blob/main/Modulo-2/NumPy/mean_numpy.png?raw=true)\n",
    "\n",
    "- `axis = 1`: nos calculará la media para cada **fila** de nuestro *array*.\n",
    "\n",
    "    ![mean_filas.png](https://github.com/Adalab/data_imagenes/blob/main/Modulo-2/NumPy/mean_numpy_filas.png?raw=true)\n",
    "\n",
    "\n",
    "Cuando pasamos este parámetro la función `np.mean` produce un nuevo *array* con los resultados. "
   ]
  },
  {
   "cell_type": "code",
   "execution_count": 59,
   "metadata": {},
   "outputs": [
    {
     "data": {
      "text/plain": [
       "array([[0.45, 0.78, 0.89, 0.26],\n",
       "       [0.84, 0.18, 0.65, 0.58],\n",
       "       [0.76, 0.28, 0.98, 0.07],\n",
       "       [0.4 , 0.39, 0.79, 0.54],\n",
       "       [0.19, 0.53, 0.45, 0.63]])"
      ]
     },
     "execution_count": 59,
     "metadata": {},
     "output_type": "execute_result"
    }
   ],
   "source": [
    "# antes de seguir vamos a aprender el método np.round(), que al igual que en Python básico nos permite redondear los valores de los elementos de nuestor array\n",
    "bidimensional_red = np.round(bidimensional, 2)\n",
    "bidimensional_red"
   ]
  },
  {
   "cell_type": "code",
   "execution_count": 60,
   "metadata": {},
   "outputs": [
    {
     "name": "stdout",
     "output_type": "stream",
     "text": [
      "El array con el que vamos a trabajar en este apartado de la lección es: \n",
      " [[0.45 0.78 0.89 0.26]\n",
      " [0.84 0.18 0.65 0.58]\n",
      " [0.76 0.28 0.98 0.07]\n",
      " [0.4  0.39 0.79 0.54]\n",
      " [0.19 0.53 0.45 0.63]]\n",
      "--------------------------\n",
      "El cálculo de la media de todos los elementos del array es: \n",
      " 0.5319999999999999\n"
     ]
    }
   ],
   "source": [
    "print(f\"El array con el que vamos a trabajar en este apartado de la lección es: \\n {bidimensional_red}\")\n",
    "\n",
    "# calculamos la media de todos los elementos de array\n",
    "media = np.mean(bidimensional_red)\n",
    "print(\"--------------------------\")\n",
    "print(f\"El cálculo de la media de todos los elementos del array es: \\n {media}\")"
   ]
  },
  {
   "cell_type": "code",
   "execution_count": 61,
   "metadata": {},
   "outputs": [
    {
     "name": "stdout",
     "output_type": "stream",
     "text": [
      "El array con el que vamos a trabajar en este apartado de la lección es: \n",
      " [[0.45 0.78 0.89 0.26]\n",
      " [0.84 0.18 0.65 0.58]\n",
      " [0.76 0.28 0.98 0.07]\n",
      " [0.4  0.39 0.79 0.54]\n",
      " [0.19 0.53 0.45 0.63]]\n",
      "--------------------------\n",
      "La media de cada COLUMNA (axis = 0) del array es: \n",
      " [0.528 0.432 0.752 0.416]\n"
     ]
    }
   ],
   "source": [
    "print(f\"El array con el que vamos a trabajar en este apartado de la lección es: \\n {bidimensional_red}\")\n",
    "\n",
    "# calculamos la media por cada COLUMNA que tenemos en el array\n",
    "media_col = np.mean(bidimensional_red, axis = 0)\n",
    "print(\"--------------------------\")\n",
    "print(f\"La media de cada COLUMNA (axis = 0) del array es: \\n {media_col}\")"
   ]
  },
  {
   "cell_type": "code",
   "execution_count": 62,
   "metadata": {},
   "outputs": [
    {
     "name": "stdout",
     "output_type": "stream",
     "text": [
      "El array con el que vamos a trabajar en este apartado de la lección es: \n",
      " [[0.45 0.78 0.89 0.26]\n",
      " [0.84 0.18 0.65 0.58]\n",
      " [0.76 0.28 0.98 0.07]\n",
      " [0.4  0.39 0.79 0.54]\n",
      " [0.19 0.53 0.45 0.63]]\n",
      "--------------------------\n",
      "La media de cada FILA (axis = 1) del array es: \n",
      " [0.595  0.5625 0.5225 0.53   0.45  ]\n"
     ]
    }
   ],
   "source": [
    "print(f\"El array con el que vamos a trabajar en este apartado de la lección es: \\n {bidimensional_red}\")\n",
    "# calculamos la media por cada FILA que tenemos en el array\n",
    "media_fila = np.mean(bidimensional_red, axis = 1)\n",
    "print(\"--------------------------\")\n",
    "print(f\"La media de cada FILA (axis = 1) del array es: \\n {media_fila}\")"
   ]
  },
  {
   "cell_type": "markdown",
   "metadata": {},
   "source": [
    "### `np.var()`\n",
    "\n",
    "Calcula la varianza de los valores de mi *array*. Por defecto lo hará sobre todo el *array*, pero nosotros le podemos especificar el eje usando el parámetro `axis`. La **varianza** es una medida estadística que indica qué tan dispersos están los valores de un conjunto de datos alrededor de su media. Es una medida de la variabilidad de los datos. Una varianza alta indica que los valores están más dispersos, mientras que una varianza baja indica que los valores están más cercanos a la media.\n",
    "\n",
    "- `axis = 0`: columnas\n",
    "- `axis = 1`: filas\n",
    "\n"
   ]
  },
  {
   "cell_type": "code",
   "execution_count": 63,
   "metadata": {},
   "outputs": [
    {
     "name": "stdout",
     "output_type": "stream",
     "text": [
      "El array con el que vamos a trabajar en este apartado de la lección es: \n",
      " [[0.45 0.78 0.89 0.26]\n",
      " [0.84 0.18 0.65 0.58]\n",
      " [0.76 0.28 0.98 0.07]\n",
      " [0.4  0.39 0.79 0.54]\n",
      " [0.19 0.53 0.45 0.63]]\n",
      "--------------------------\n",
      "El cálculo de la varianza de todos los elementos del array es: \n",
      " 0.06362599999999999\n"
     ]
    }
   ],
   "source": [
    "print(f\"El array con el que vamos a trabajar en este apartado de la lección es: \\n {bidimensional_red}\")\n",
    "\n",
    "# calculamos la varianza de todos los elementos de array\n",
    "varianza = np.var(bidimensional_red)\n",
    "print(\"--------------------------\")\n",
    "print(f\"El cálculo de la varianza de todos los elementos del array es: \\n {varianza}\")"
   ]
  },
  {
   "cell_type": "code",
   "execution_count": 64,
   "metadata": {},
   "outputs": [
    {
     "name": "stdout",
     "output_type": "stream",
     "text": [
      "El array con el que vamos a trabajar en este apartado de la lección es: \n",
      " [[0.45 0.78 0.89 0.26]\n",
      " [0.84 0.18 0.65 0.58]\n",
      " [0.76 0.28 0.98 0.07]\n",
      " [0.4  0.39 0.79 0.54]\n",
      " [0.19 0.53 0.45 0.63]]\n",
      "--------------------------\n",
      "La varianza de cada COLUMNA (axis = 0) del array es: \n",
      " [0.057576 0.043816 0.034816 0.046424]\n"
     ]
    }
   ],
   "source": [
    "print(f\"El array con el que vamos a trabajar en este apartado de la lección es: \\n {bidimensional_red}\")\n",
    "# calculamos la varianza por cada COLUMNA que tenemos en el array\n",
    "varianza_col = np.var(bidimensional_red, axis = 0)\n",
    "print(\"--------------------------\")\n",
    "print(f\"La varianza de cada COLUMNA (axis = 0) del array es: \\n {varianza_col}\")"
   ]
  },
  {
   "cell_type": "code",
   "execution_count": 65,
   "metadata": {},
   "outputs": [
    {
     "name": "stdout",
     "output_type": "stream",
     "text": [
      "El array con el que vamos a trabajar en este apartado de la lección es: \n",
      " [[0.45 0.78 0.89 0.26]\n",
      " [0.84 0.18 0.65 0.58]\n",
      " [0.76 0.28 0.98 0.07]\n",
      " [0.4  0.39 0.79 0.54]\n",
      " [0.19 0.53 0.45 0.63]]\n",
      "--------------------------\n",
      "La varianza de cada FILA (axis = 1) del array es: \n",
      " [0.063625   0.05781875 0.13231875 0.02605    0.0266    ]\n"
     ]
    }
   ],
   "source": [
    "print(f\"El array con el que vamos a trabajar en este apartado de la lección es: \\n {bidimensional_red}\")\n",
    "# calculamos la varianza por cada FILA que tenemos en el array\n",
    "varianza_fila = np.var(bidimensional_red, axis = 1)\n",
    "print(\"--------------------------\")\n",
    "print(f\"La varianza de cada FILA (axis = 1) del array es: \\n {varianza_fila}\")"
   ]
  },
  {
   "cell_type": "markdown",
   "metadata": {},
   "source": [
    "### `np.std()`\n",
    "\n",
    "Calcula la desviación estándar en nuestro *array*, como hasta ahora, por defecto nos lo va a calcular para todos los elementos. La **desviación estándar** es una medida estadística que indica cuánto varían los valores de un conjunto de datos con respecto a la media. Proporciona una medida de dispersión o variabilidad en los datos. Una desviación estándar alta indica que los valores del conjunto de datos están más dispersos, mientras que una desviación estándar baja indica que los valores están más cerca de la media.\n",
    "\n",
    "\n",
    "Entonces... ¿Cuál es la diferencia entre desviación y varianza?\n",
    "\n",
    "- La varianza mide la dispersión de los datos alrededor de la media, expresada en unidades al cuadrado.\n",
    "- La desviación estándar mide la dispersión de los datos alrededor de la media, expresada en las mismas unidades que los datos originales.\n",
    "\n",
    "Si le pasamos el parámetro `axis` podemos especificar sobre que eje queremos que nos calcule la desviación estándar. \n",
    "\n",
    "- `axis = 0`: columnas\n",
    "- `axis = 1`: filas"
   ]
  },
  {
   "cell_type": "code",
   "execution_count": 66,
   "metadata": {},
   "outputs": [
    {
     "name": "stdout",
     "output_type": "stream",
     "text": [
      "El array con el que vamos a trabajar en este apartado de la lección es: \n",
      " [[0.45 0.78 0.89 0.26]\n",
      " [0.84 0.18 0.65 0.58]\n",
      " [0.76 0.28 0.98 0.07]\n",
      " [0.4  0.39 0.79 0.54]\n",
      " [0.19 0.53 0.45 0.63]]\n",
      "--------------------------\n",
      "El cálculo de la desviacion de todos los elementos del array es: \n",
      " 0.2522419473442115\n"
     ]
    }
   ],
   "source": [
    "print(f\"El array con el que vamos a trabajar en este apartado de la lección es: \\n {bidimensional_red}\")\n",
    "\n",
    "# calculamos la desviación de todos los elementos de array\n",
    "desviación = np.std(bidimensional_red)\n",
    "print(\"--------------------------\")\n",
    "print(f\"El cálculo de la desviacion de todos los elementos del array es: \\n {desviación}\")"
   ]
  },
  {
   "cell_type": "code",
   "execution_count": 67,
   "metadata": {},
   "outputs": [
    {
     "name": "stdout",
     "output_type": "stream",
     "text": [
      "El array con el que vamos a trabajar en este apartado de la lección es: \n",
      " [[0.45 0.78 0.89 0.26]\n",
      " [0.84 0.18 0.65 0.58]\n",
      " [0.76 0.28 0.98 0.07]\n",
      " [0.4  0.39 0.79 0.54]\n",
      " [0.19 0.53 0.45 0.63]]\n",
      "--------------------------\n",
      "La desviación de cada COLUMNA (axis = 0) del array es: \n",
      " [0.23994999 0.20932272 0.18659046 0.21546229]\n"
     ]
    }
   ],
   "source": [
    "print(f\"El array con el que vamos a trabajar en este apartado de la lección es: \\n {bidimensional_red}\")\n",
    "# calculamos la desviación por cada COLUMNA que tenemos en el array\n",
    "desviacion_col = np.std(bidimensional_red, axis = 0)\n",
    "print(\"--------------------------\")\n",
    "print(f\"La desviación de cada COLUMNA (axis = 0) del array es: \\n {desviacion_col}\")"
   ]
  },
  {
   "cell_type": "code",
   "execution_count": 68,
   "metadata": {},
   "outputs": [
    {
     "name": "stdout",
     "output_type": "stream",
     "text": [
      "El array con el que vamos a trabajar en este apartado de la lección es: \n",
      " [[0.45 0.78 0.89 0.26]\n",
      " [0.84 0.18 0.65 0.58]\n",
      " [0.76 0.28 0.98 0.07]\n",
      " [0.4  0.39 0.79 0.54]\n",
      " [0.19 0.53 0.45 0.63]]\n",
      "--------------------------\n",
      "La desviación de cada FILA (axis = 1) del array es: \n",
      " [0.25223997 0.2404553  0.36375644 0.16140012 0.16309506]\n"
     ]
    }
   ],
   "source": [
    "print(f\"El array con el que vamos a trabajar en este apartado de la lección es: \\n {bidimensional_red}\")\n",
    "# calculamos la desviación por cada FILA que tenemos en el array\n",
    "desviacion_fila = np.std(bidimensional_red, axis = 1)\n",
    "print(\"--------------------------\")\n",
    "print(f\"La desviación de cada FILA (axis = 1) del array es: \\n {desviacion_fila}\")"
   ]
  },
  {
   "cell_type": "markdown",
   "metadata": {},
   "source": [
    "## Operaciones aritméticas\n",
    "\n",
    "### `np.min()`\n",
    "\n",
    "Nos devuelve el valor mínimo de nuestro *array*. \n",
    "\n",
    "De la misma forma que `np.mean()` nos va a permitir identificar los valores mínimos a través de las columnas o las filas usando el parámetro `axis`. \n",
    "\n",
    "Igual que en `np.mean()`:\n",
    "\n",
    "- `axis = 0`: columnas\n",
    "- `axis = 1`: filas"
   ]
  },
  {
   "cell_type": "code",
   "execution_count": 69,
   "metadata": {},
   "outputs": [
    {
     "name": "stdout",
     "output_type": "stream",
     "text": [
      "El array con el que vamos a trabajar en este apartado de la lección es: \n",
      " [[0.45 0.78 0.89 0.26]\n",
      " [0.84 0.18 0.65 0.58]\n",
      " [0.76 0.28 0.98 0.07]\n",
      " [0.4  0.39 0.79 0.54]\n",
      " [0.19 0.53 0.45 0.63]]\n",
      "--------------------------\n",
      "El valor mínimo de todos los elementos del array es: \n",
      " 0.07\n"
     ]
    }
   ],
   "source": [
    "print(f\"El array con el que vamos a trabajar en este apartado de la lección es: \\n {bidimensional_red}\")\n",
    "\n",
    "# sacamos el valor mínimo del array\n",
    "minimo = np.min(bidimensional_red)\n",
    "print(\"--------------------------\")\n",
    "print(f\"El valor mínimo de todos los elementos del array es: \\n {minimo}\")"
   ]
  },
  {
   "cell_type": "code",
   "execution_count": 70,
   "metadata": {},
   "outputs": [
    {
     "name": "stdout",
     "output_type": "stream",
     "text": [
      "El array con el que vamos a trabajar en este apartado de la lección es: \n",
      " [[0.45 0.78 0.89 0.26]\n",
      " [0.84 0.18 0.65 0.58]\n",
      " [0.76 0.28 0.98 0.07]\n",
      " [0.4  0.39 0.79 0.54]\n",
      " [0.19 0.53 0.45 0.63]]\n",
      "--------------------------\n",
      "El valor mínimo de cada COLUMNA (axis = 0) del array es: \n",
      " [0.19 0.18 0.45 0.07]\n"
     ]
    }
   ],
   "source": [
    "print(f\"El array con el que vamos a trabajar en este apartado de la lección es: \\n {bidimensional_red}\")\n",
    "# sacamos el valor mínimo de cada COLUMNA que tenemos en el array\n",
    "minimo_col = np.min(bidimensional_red, axis = 0)\n",
    "print(\"--------------------------\")\n",
    "print(f\"El valor mínimo de cada COLUMNA (axis = 0) del array es: \\n {minimo_col}\")"
   ]
  },
  {
   "cell_type": "code",
   "execution_count": 71,
   "metadata": {},
   "outputs": [
    {
     "name": "stdout",
     "output_type": "stream",
     "text": [
      "El array con el que vamos a trabajar en este apartado de la lección es: \n",
      " [[0.45 0.78 0.89 0.26]\n",
      " [0.84 0.18 0.65 0.58]\n",
      " [0.76 0.28 0.98 0.07]\n",
      " [0.4  0.39 0.79 0.54]\n",
      " [0.19 0.53 0.45 0.63]]\n",
      "--------------------------\n",
      "El valor mínimo de cada FILA (axis = 1) del array es: \n",
      " [0.26 0.18 0.07 0.39 0.19]\n"
     ]
    }
   ],
   "source": [
    "print(f\"El array con el que vamos a trabajar en este apartado de la lección es: \\n {bidimensional_red}\")\n",
    "# sacamos el valor mínimo de cada FILA que tenemos en el array\n",
    "minimo_fila = np.min(bidimensional_red, axis = 1)\n",
    "print(\"--------------------------\")\n",
    "print(f\"El valor mínimo de cada FILA (axis = 1) del array es: \\n {minimo_fila}\")"
   ]
  },
  {
   "cell_type": "markdown",
   "metadata": {},
   "source": [
    "### `np.max()`\n",
    "\n",
    "Nos devuelve el valor máximo de nuestro *array*. \n",
    "\n",
    "Podemos seguir trabajando con el parámetro `axis` para sacar los valores máximos por filas o columnas:\n",
    "\n",
    "- `axis = 0`: columnas\n",
    "- `axis = 1`: filas"
   ]
  },
  {
   "cell_type": "code",
   "execution_count": 72,
   "metadata": {},
   "outputs": [
    {
     "name": "stdout",
     "output_type": "stream",
     "text": [
      "El array con el que vamos a trabajar en este apartado de la lección es: \n",
      " [[0.45 0.78 0.89 0.26]\n",
      " [0.84 0.18 0.65 0.58]\n",
      " [0.76 0.28 0.98 0.07]\n",
      " [0.4  0.39 0.79 0.54]\n",
      " [0.19 0.53 0.45 0.63]]\n",
      "--------------------------\n",
      "El valor máximo de todos los elementos del array es: \n",
      " 0.98\n"
     ]
    }
   ],
   "source": [
    "print(f\"El array con el que vamos a trabajar en este apartado de la lección es: \\n {bidimensional_red}\")\n",
    "\n",
    "# calculamos el valor máximo de todos los elementos del array\n",
    "maximo = np.max(bidimensional_red)\n",
    "print(\"--------------------------\")\n",
    "print(f\"El valor máximo de todos los elementos del array es: \\n {maximo}\")"
   ]
  },
  {
   "cell_type": "code",
   "execution_count": 73,
   "metadata": {},
   "outputs": [
    {
     "name": "stdout",
     "output_type": "stream",
     "text": [
      "El array con el que vamos a trabajar en este apartado de la lección es: \n",
      " [[0.45 0.78 0.89 0.26]\n",
      " [0.84 0.18 0.65 0.58]\n",
      " [0.76 0.28 0.98 0.07]\n",
      " [0.4  0.39 0.79 0.54]\n",
      " [0.19 0.53 0.45 0.63]]\n",
      "--------------------------\n",
      "El valor máximo de cada COLUMNA (axis = 0) del array es: \n",
      " [0.84 0.78 0.98 0.63]\n"
     ]
    }
   ],
   "source": [
    "print(f\"El array con el que vamos a trabajar en este apartado de la lección es: \\n {bidimensional_red}\")\n",
    "# calculamos el valor máximo por cada COLUMNA que tenemos en el array\n",
    "maximo_col = np.max(bidimensional_red, axis = 0)\n",
    "print(\"--------------------------\")\n",
    "print(f\"El valor máximo de cada COLUMNA (axis = 0) del array es: \\n {maximo_col}\")"
   ]
  },
  {
   "cell_type": "code",
   "execution_count": 74,
   "metadata": {},
   "outputs": [
    {
     "name": "stdout",
     "output_type": "stream",
     "text": [
      "El array con el que vamos a trabajar en este apartado de la lección es: \n",
      " [[0.45 0.78 0.89 0.26]\n",
      " [0.84 0.18 0.65 0.58]\n",
      " [0.76 0.28 0.98 0.07]\n",
      " [0.4  0.39 0.79 0.54]\n",
      " [0.19 0.53 0.45 0.63]]\n",
      "--------------------------\n",
      "El valor máximo de cada FILA (axis = 1) del array es: \n",
      " [0.89 0.84 0.98 0.79 0.63]\n"
     ]
    }
   ],
   "source": [
    "print(f\"El array con el que vamos a trabajar en este apartado de la lección es: \\n {bidimensional_red}\")\n",
    "# calculamos el valor máximo por cada FILA que tenemos en el array\n",
    "maximo_fila = np.max(bidimensional_red, axis = 1)\n",
    "print(\"--------------------------\")\n",
    "print(f\"El valor máximo de cada FILA (axis = 1) del array es: \\n {maximo_fila}\")"
   ]
  },
  {
   "cell_type": "markdown",
   "metadata": {},
   "source": [
    "### `np.sum()`\n",
    "\n",
    "Suma los elementos del *array*. Por defecto nos va a sumar todos los elementos del *array* (nos devuelve un único valor). Podemos especificar que nos haga la suma por filas o columnas con el parámetro `axis` (nos devolverá un valor por cada fila o columna que tengamos):\n",
    "\n",
    "- `axis = 0`: columnas\n",
    "- `axis = 1`: filas"
   ]
  },
  {
   "cell_type": "code",
   "execution_count": 75,
   "metadata": {},
   "outputs": [
    {
     "name": "stdout",
     "output_type": "stream",
     "text": [
      "El array con el que vamos a trabajar en este apartado de la lección es: \n",
      " [[0.45 0.78 0.89 0.26]\n",
      " [0.84 0.18 0.65 0.58]\n",
      " [0.76 0.28 0.98 0.07]\n",
      " [0.4  0.39 0.79 0.54]\n",
      " [0.19 0.53 0.45 0.63]]\n",
      "--------------------------\n",
      "La suma de todos los elementos del array es: \n",
      " 10.639999999999999\n"
     ]
    }
   ],
   "source": [
    "print(f\"El array con el que vamos a trabajar en este apartado de la lección es: \\n {bidimensional_red}\")\n",
    "\n",
    "# calculamos la suma de todos los elementos de array\n",
    "suma = np.sum(bidimensional_red)\n",
    "print(\"--------------------------\")\n",
    "print(f\"La suma de todos los elementos del array es: \\n {suma}\")"
   ]
  },
  {
   "cell_type": "code",
   "execution_count": 76,
   "metadata": {},
   "outputs": [
    {
     "name": "stdout",
     "output_type": "stream",
     "text": [
      "El array con el que vamos a trabajar en este apartado de la lección es: \n",
      " [[0.45 0.78 0.89 0.26]\n",
      " [0.84 0.18 0.65 0.58]\n",
      " [0.76 0.28 0.98 0.07]\n",
      " [0.4  0.39 0.79 0.54]\n",
      " [0.19 0.53 0.45 0.63]]\n",
      "--------------------------\n",
      "El valor máximo de cada COLUMNA (axis = 0) del array es: \n",
      " [2.64 2.16 3.76 2.08]\n"
     ]
    }
   ],
   "source": [
    "print(f\"El array con el que vamos a trabajar en este apartado de la lección es: \\n {bidimensional_red}\")\n",
    "# calculamos la suma de todos los elementos por cada COLUMNA que tenemos en el array\n",
    "suma_col = np.sum(bidimensional_red, axis = 0)\n",
    "print(\"--------------------------\")\n",
    "print(f\"El valor máximo de cada COLUMNA (axis = 0) del array es: \\n {suma_col}\")"
   ]
  },
  {
   "cell_type": "code",
   "execution_count": 77,
   "metadata": {},
   "outputs": [
    {
     "name": "stdout",
     "output_type": "stream",
     "text": [
      "El array con el que vamos a trabajar en este apartado de la lección es: \n",
      " [[0.45 0.78 0.89 0.26]\n",
      " [0.84 0.18 0.65 0.58]\n",
      " [0.76 0.28 0.98 0.07]\n",
      " [0.4  0.39 0.79 0.54]\n",
      " [0.19 0.53 0.45 0.63]]\n",
      "--------------------------\n",
      "El valor máximo de cada FILA (axis = 1) del array es: \n",
      " [2.38 2.25 2.09 2.12 1.8 ]\n"
     ]
    }
   ],
   "source": [
    "\n",
    "print(f\"El array con el que vamos a trabajar en este apartado de la lección es: \\n {bidimensional_red}\")\n",
    "# calculamos la suma de todos los elementos por cada FILA que tenemos en el array\n",
    "suma_fila = np.sum(bidimensional_red, axis = 1)\n",
    "print(\"--------------------------\")\n",
    "print(f\"El valor máximo de cada FILA (axis = 1) del array es: \\n {suma_fila}\")"
   ]
  },
  {
   "cell_type": "markdown",
   "metadata": {},
   "source": [
    "## Otros métodos\n",
    "\n",
    "### `np.sort()`\n",
    "\n",
    "Devuelve una copia ordenada de un *array*.\n",
    "\n",
    "Por defecto nos ordenará por filas de nuestro *array*, si lo que queremos es que nos ordene por columnas tendremos que pasarle el parámetro `axis = 0`. "
   ]
  },
  {
   "cell_type": "code",
   "execution_count": 78,
   "metadata": {},
   "outputs": [
    {
     "name": "stdout",
     "output_type": "stream",
     "text": [
      "El array con el que vamos a trabajar en este apartado de la lección es: \n",
      " [[0.45 0.78 0.89 0.26]\n",
      " [0.84 0.18 0.65 0.58]\n",
      " [0.76 0.28 0.98 0.07]\n",
      " [0.4  0.39 0.79 0.54]\n",
      " [0.19 0.53 0.45 0.63]]\n",
      "--------------------------\n",
      "\n",
      "El array ordenado por CADA FILA de menor a mayor es: \n",
      " [[0.26 0.45 0.78 0.89]\n",
      " [0.18 0.58 0.65 0.84]\n",
      " [0.07 0.28 0.76 0.98]\n",
      " [0.39 0.4  0.54 0.79]\n",
      " [0.19 0.45 0.53 0.63]]\n"
     ]
    }
   ],
   "source": [
    "print(f\"El array con el que vamos a trabajar en este apartado de la lección es: \\n {bidimensional_red}\")\n",
    "\n",
    "# ordenamos el array con el método np.sort()\n",
    "bidimensional_red_ordenado_filas = np.sort(bidimensional_red)\n",
    "print(\"--------------------------\\n\")\n",
    "print(\"El array ordenado por CADA FILA de menor a mayor es: \\n\", bidimensional_red_ordenado_filas)\n"
   ]
  },
  {
   "cell_type": "markdown",
   "metadata": {},
   "source": [
    "Si nos fijamos, el *array* esta ordenado de menor a mayor en cada fila. Si quisieramos ordenarlo de menor a mayor por columnas tendremos que usar el parámetro `axis = 0`"
   ]
  },
  {
   "cell_type": "code",
   "execution_count": 79,
   "metadata": {},
   "outputs": [
    {
     "name": "stdout",
     "output_type": "stream",
     "text": [
      "El array con el que vamos a trabajar en este apartado de la lección es: \n",
      " [[0.45 0.78 0.89 0.26]\n",
      " [0.84 0.18 0.65 0.58]\n",
      " [0.76 0.28 0.98 0.07]\n",
      " [0.4  0.39 0.79 0.54]\n",
      " [0.19 0.53 0.45 0.63]]\n",
      "--------------------------\n",
      "\n",
      "El array ordenado por CADA COLUMNA de menor a mayor es: \n",
      " [[0.19 0.18 0.45 0.07]\n",
      " [0.4  0.28 0.65 0.26]\n",
      " [0.45 0.39 0.79 0.54]\n",
      " [0.76 0.53 0.89 0.58]\n",
      " [0.84 0.78 0.98 0.63]]\n"
     ]
    }
   ],
   "source": [
    "print(f\"El array con el que vamos a trabajar en este apartado de la lección es: \\n {bidimensional_red}\")\n",
    "\n",
    "# ordenamos el array con el método np.sort()\n",
    "bidimensional_red_ordenado_col = np.sort(bidimensional_red, axis = 0)\n",
    "print(\"--------------------------\\n\")\n",
    "print(\"El array ordenado por CADA COLUMNA de menor a mayor es: \\n\", bidimensional_red_ordenado_col)"
   ]
  },
  {
   "cell_type": "markdown",
   "metadata": {},
   "source": [
    "⚠️ Si nos fijamos en cualquiera de los casos nos esta ordenando de menor a mayor. \n",
    "\n",
    "Pero... ¿Qué pasaría si quisieramos ordenar de mayor a menor? \n",
    "\n",
    "Le tendríamos que dar la vuelta primero al *array* y luego ordenarlo. ¿Cómo podemos darle la vuelta a un *array*? \n",
    "\n",
    "> Utilizando el operador `-` delante del *array* y del método\n"
   ]
  },
  {
   "cell_type": "code",
   "execution_count": 80,
   "metadata": {},
   "outputs": [
    {
     "name": "stdout",
     "output_type": "stream",
     "text": [
      "El array con el que vamos a trabajar en este apartado de la lección es: \n",
      " [[0.45 0.78 0.89 0.26]\n",
      " [0.84 0.18 0.65 0.58]\n",
      " [0.76 0.28 0.98 0.07]\n",
      " [0.4  0.39 0.79 0.54]\n",
      " [0.19 0.53 0.45 0.63]]\n",
      "--------------------------\n",
      "\n",
      "El array con un símbolo '-' antes es: \n",
      " [[-0.45 -0.78 -0.89 -0.26]\n",
      " [-0.84 -0.18 -0.65 -0.58]\n",
      " [-0.76 -0.28 -0.98 -0.07]\n",
      " [-0.4  -0.39 -0.79 -0.54]\n",
      " [-0.19 -0.53 -0.45 -0.63]]\n",
      "--------------------------\n",
      "\n",
      "El array con un símbolo '-' antes y usando el método 'np.sort()' es: \n",
      " [[-0.89 -0.78 -0.45 -0.26]\n",
      " [-0.84 -0.65 -0.58 -0.18]\n",
      " [-0.98 -0.76 -0.28 -0.07]\n",
      " [-0.79 -0.54 -0.4  -0.39]\n",
      " [-0.63 -0.53 -0.45 -0.19]]\n",
      "--------------------------\n",
      "\n",
      "El array con un símbolo '-' antes y usando el método 'np.sort()' y volviendolo a poner en negativo es: \n",
      " [[0.89 0.78 0.45 0.26]\n",
      " [0.84 0.65 0.58 0.18]\n",
      " [0.98 0.76 0.28 0.07]\n",
      " [0.79 0.54 0.4  0.39]\n",
      " [0.63 0.53 0.45 0.19]]\n"
     ]
    }
   ],
   "source": [
    "print(f\"El array con el que vamos a trabajar en este apartado de la lección es: \\n {bidimensional_red}\")\n",
    "\n",
    "# le ponemos un símbolo '-' al array, fijaos que lo ponemos todos los elementos a negativos\n",
    "print(\"--------------------------\\n\")\n",
    "print(f\"El array con un símbolo '-' antes es: \\n {-bidimensional_red}\")\n",
    "\n",
    "# ahora vamos a ordenar este array con el método np.sort()\n",
    "print(\"--------------------------\\n\")\n",
    "print(f\"El array con un símbolo '-' antes y usando el método 'np.sort()' es: \\n {np.sort(-bidimensional_red)}\")\n",
    "\n",
    "# si nos fijamos ahora, si ignoramos los símbolos '-' los valores más altos están al inicio de las filas, por lo que\n",
    "# tendremos que hacer ahora es quitarle los símbolos '-'. Para eso lo que haremos será poner un símbolo '-' delante del 'np.sort()'\n",
    "print(\"--------------------------\\n\")\n",
    "print(f\"El array con un símbolo '-' antes y usando el método 'np.sort()' y volviendolo a poner en negativo es: \\n {-np.sort(-bidimensional_red)}\")"
   ]
  },
  {
   "cell_type": "markdown",
   "metadata": {},
   "source": [
    "### `np.transpose()`\n",
    "\n",
    "Es una función de la biblioteca NumPy que se utiliza para intercambiar las dimensiones de un *array*. Toma como argumento un *array* y devuelve una nueva *array* con las dimensiones intercambiadas.\n",
    "\n",
    "La sintaxis básica de `np.transpose` es la siguiente:\n",
    "\n",
    "```python\n",
    "np.transpose(arr, axes)\n",
    "```\n",
    "\n",
    "Donde:\n",
    "- `arr`: Es la matriz que deseas transponer.\n",
    "- `axes`: Es una tupla opcional que especifica cómo se deben reordenar las dimensiones. Cada elemento de la tupla representa la dimensión correspondiente en la matriz transpuesta. Si no se proporciona `axes`, se realiza una permutación de las dimensiones en orden inverso.\n",
    "\n",
    "Visualmente lo podemos ver así:\n",
    "\n",
    "\n",
    "![image-2.png](https://github.com/Adalab/data_imagenes/blob/main/Modulo-2/NumPy/transpose.png?raw=true)\n",
    "\n",
    "\n",
    "En resumen, `np.transpose` es una función útil para cambiar las dimensiones de una matriz en NumPy. Puede ser especialmente útil en el análisis de datos cuando se necesita cambiar el orden de filas y columnas para realizar cálculos o manipulaciones específicas.\n",
    "\n",
    "\n",
    "Veamos varios ejemplos con arrays de distintas dimensiones:"
   ]
  },
  {
   "cell_type": "markdown",
   "metadata": {},
   "source": [
    "#### Unidimensional\n",
    "\n",
    "No tiene mucho sentido hacer una transposición de un *array* de una dimensión ya que:\n",
    "\n",
    "> La transposición de un *array* unidimensional devuelve una vista inalterada del *array* original."
   ]
  },
  {
   "cell_type": "markdown",
   "metadata": {},
   "source": [
    "#### Bidimensional\n",
    "\n",
    "Va ha cambiar las filas por columnas en nuestro *array*"
   ]
  },
  {
   "cell_type": "code",
   "execution_count": 81,
   "metadata": {},
   "outputs": [
    {
     "name": "stdout",
     "output_type": "stream",
     "text": [
      "El array con el que vamos a trabajar en este apartado de la lección es: \n",
      " [[0.45 0.78 0.89 0.26]\n",
      " [0.84 0.18 0.65 0.58]\n",
      " [0.76 0.28 0.98 0.07]\n",
      " [0.4  0.39 0.79 0.54]\n",
      " [0.19 0.53 0.45 0.63]]\n",
      "--------------------------\n",
      "\n",
      "El array después de aplicar el método 'np.transpose()': \n",
      " [[0.45 0.84 0.76 0.4  0.19]\n",
      " [0.78 0.18 0.28 0.39 0.53]\n",
      " [0.89 0.65 0.98 0.79 0.45]\n",
      " [0.26 0.58 0.07 0.54 0.63]]\n"
     ]
    }
   ],
   "source": [
    "print(f\"El array con el que vamos a trabajar en este apartado de la lección es: \\n {bidimensional_red}\")\n",
    "\n",
    "# transponemos el array bidimensional usando el método'np.transpose()'\n",
    "# Fijaos como después de aplicar el método transpose tenemos 4 filas y 5 columnas. El array original tenia 5 filas  y 4 columnas\n",
    "print(\"--------------------------\\n\")\n",
    "bidimensional_red_trans = np.transpose(bidimensional_red)\n",
    "print(f\"El array después de aplicar el método 'np.transpose()': \\n {bidimensional_red_trans}\")\n"
   ]
  },
  {
   "cell_type": "markdown",
   "metadata": {},
   "source": [
    "#### Multidimensional\n",
    "\n",
    "La cosa se complica cuando pasamos a *arrays* con más de dos dimensiones. \n",
    "\n",
    "Por defecto este método nos hará la siguiente transposicion:\n",
    "\n",
    "- El número de columnas --> número de *arrays* \n",
    "\n",
    "\n",
    "- El número de filas --> número de filas\n",
    "\n",
    "\n",
    "- El número de *arrays* --> número de columnas"
   ]
  },
  {
   "cell_type": "code",
   "execution_count": 82,
   "metadata": {},
   "outputs": [
    {
     "name": "stdout",
     "output_type": "stream",
     "text": [
      "El array con el que vamos a trabajar en este apartado de la lección es: \n",
      " [[[39 62 83 33 74]\n",
      "  [77 25 12 75 60]\n",
      "  [30 13 73 14 72]]\n",
      "\n",
      " [[45 22 74 76 42]\n",
      "  [20 34 75 30 14]\n",
      "  [68 27 72 77 34]]]\n",
      "--------------------------\n",
      "\n",
      "El array después de aplicar el método 'np.transpose()': \n",
      " [[[39 45]\n",
      "  [77 20]\n",
      "  [30 68]]\n",
      "\n",
      " [[62 22]\n",
      "  [25 34]\n",
      "  [13 27]]\n",
      "\n",
      " [[83 74]\n",
      "  [12 75]\n",
      "  [73 72]]\n",
      "\n",
      " [[33 76]\n",
      "  [75 30]\n",
      "  [14 77]]\n",
      "\n",
      " [[74 42]\n",
      "  [60 14]\n",
      "  [72 34]]]\n"
     ]
    }
   ],
   "source": [
    "print(f\"El array con el que vamos a trabajar en este apartado de la lección es: \\n {tridimensional}\")\n",
    "\n",
    "# aplicamos el método 'np.transpose()' para ver que nos devuelve por defecto\n",
    "print(\"--------------------------\\n\")\n",
    "tridimensional_trans_defecto = np.transpose(tridimensional)\n",
    "print(f\"El array después de aplicar el método 'np.transpose()': \\n {tridimensional_trans_defecto}\")\n",
    "# antes teníamos un array de 2 matrices x 3 filas x 5 columnas\n",
    "# después tenemos un array de 5 matrices x 3 filas x 2 columnas"
   ]
  },
  {
   "cell_type": "markdown",
   "metadata": {},
   "source": [
    "Pero nosotras podemos especificar el sentido en el que queremos que transpongan los elementos de mi *array*\n",
    "\n",
    "```python\n",
    "np.transpose(nuestro_array, (1,2,0))\n",
    "```\n",
    "\n",
    "Entendiendo lo siguiente cuando definimos el siguiente *array*:\n",
    "\n",
    "```python\n",
    "multidimensional = np.random.randint(0,100, (2,3,5))\n",
    "```\n",
    "\n",
    "- 2 (posición 0): hace referencia a el número de *subarrays* o  matrices que queremos. \n",
    "\n",
    "\n",
    "- 3 (posición 1): hace referencia al número de filas que queremos en cada uno de nuestros *subarrays*.\n",
    "\n",
    "\n",
    "- 5 (posición 2): hace referencia al número de columnas que queremos en cada uno de nuestros *subarrays*. \n",
    "\n",
    "> A este método le podemos pasar un parámetro adicional que puede ser una tupla o una lista donde indicaremos el orden de permutación que queremos\n",
    "\n",
    "**¿Cómo lo hacemos?**\n",
    "\n",
    "Lo haremos indicando donde queremos cada una de las posiciones antiguas. Es decir, imaginemos que queremos hacer la siguiente transposición:\n",
    "\n",
    "- Las columnas (posición 2) queremos que sean las filas (posición 1)\n",
    "\n",
    "\n",
    "- Las filas (posición 1) queremos que sean el número de *arrays* (posición 0)\n",
    "\n",
    "\n",
    "- El número de *arrays* (posición 0) queremos que sean columnas (posición 2)\n",
    "\n",
    "Lo único que tendremos que hacer es especificar este nuevo orden en el `transpose()`\n",
    "\n",
    "```python\n",
    "np.transpose(multidimensional, (1,2,0))\n",
    "```\n",
    "\n",
    "Si nos fijamos lo que hacemos en la tupla es, basándonos en las posiciones de la tupla:\n",
    "\n",
    "- ¿Qué quiero en la posición 0 de la tupla (y por lo tanto de mi nuevo *array* transpuesto*? -- > lo que antes era la posición 1. Por lo tanto, pongo un 1\n",
    "\n",
    "\n",
    "- ¿Qué quiero en la posción 1? --> lo que antes era la posición 2. Por lo tanto, pongo un 2\n",
    "\n",
    "\n",
    "\n",
    "- ¿Qué quiero en la posición 2? --> lo que antes era la posición 0. Por lo tanto, pongo un 0"
   ]
  },
  {
   "cell_type": "code",
   "execution_count": 83,
   "metadata": {},
   "outputs": [
    {
     "name": "stdout",
     "output_type": "stream",
     "text": [
      "El array con el que vamos a trabajar en este apartado de la lección es: \n",
      " [[[39 62 83 33 74]\n",
      "  [77 25 12 75 60]\n",
      "  [30 13 73 14 72]]\n",
      "\n",
      " [[45 22 74 76 42]\n",
      "  [20 34 75 30 14]\n",
      "  [68 27 72 77 34]]]\n",
      "--------------------------\n",
      "\n",
      "El array después de aplicar el método 'np.transpose()': \n",
      " [[[39 45]\n",
      "  [62 22]\n",
      "  [83 74]\n",
      "  [33 76]\n",
      "  [74 42]]\n",
      "\n",
      " [[77 20]\n",
      "  [25 34]\n",
      "  [12 75]\n",
      "  [75 30]\n",
      "  [60 14]]\n",
      "\n",
      " [[30 68]\n",
      "  [13 27]\n",
      "  [73 72]\n",
      "  [14 77]\n",
      "  [72 34]]]\n"
     ]
    }
   ],
   "source": [
    "print(f\"El array con el que vamos a trabajar en este apartado de la lección es: \\n {tridimensional}\")\n",
    "\n",
    "# aplicamos el método 'np.transpose()' para ver que nos devuelve por defecto\n",
    "print(\"--------------------------\\n\")\n",
    "tridimensional_trans_1 = np.transpose(tridimensional, (1,2,0))\n",
    "print(f\"El array después de aplicar el método 'np.transpose()': \\n {tridimensional_trans_1}\")\n",
    "# antes teníamos un array de 2 matrices x 3 filas x 5 columnas\n",
    "# después tenemos un array de 3 matrices x 5 filas x 2 columnas"
   ]
  },
  {
   "cell_type": "markdown",
   "metadata": {},
   "source": [
    "## `reshape()`:\n",
    "\n",
    "`np.reshape` es una función de NumPy que se utiliza para cambiar la forma de un *array* sin cambiar sus datos subyacentes. Permite reorganizar los elementos de un *array* en una nueva forma especificada por el usuario.\n",
    "\n",
    "La sintaxis básica de `np.reshape` es la siguiente:\n",
    "\n",
    "```python\n",
    "np.reshape(a, newshape, order='C')\n",
    "```\n",
    "\n",
    "Donde:\n",
    "- `a`: Es la matriz que se desea remodelar.\n",
    "- `newshape`: Es la nueva forma deseada de la matriz, especificada como una tupla de enteros.\n",
    "- `order` (opciona): Especifica el orden en el que se deben leer los elementos de la matriz. Puede tomar dos valores: 'C' (por defecto) para leer los elementos en orden de fila (por filas) y 'F' para leer los elementos en orden de columna (por columnas)."
   ]
  },
  {
   "cell_type": "code",
   "execution_count": 84,
   "metadata": {},
   "outputs": [
    {
     "name": "stdout",
     "output_type": "stream",
     "text": [
      "El array con el que vamos a trabajar es: \n",
      " [1 2 3 4 5 6]\n",
      "\n",
      "--------------------------\n",
      "\n",
      "El array después de aplicar el método 'np.reshape()' es: \n",
      " [[1 2 3]\n",
      " [4 5 6]]\n"
     ]
    }
   ],
   "source": [
    "# definimos un array unidimensional utilizando el método 'np.array()'\n",
    "a = np.array([1, 2, 3, 4, 5, 6])\n",
    "print(f\"El array con el que vamos a trabajar es: \\n {a}\")\n",
    "\n",
    "# Si queremos remodelar esta matriz en una matriz bidimensional \n",
    "# de 2 filas y 3 columnas, podemos usar `np.reshape` de la siguiente manera:\n",
    "print(\"\\n--------------------------\\n\")\n",
    "reshaped_a = np.reshape(a, (2, 3))\n",
    "print(f\"El array después de aplicar el método 'np.reshape()' es: \\n {reshaped_a}\")\n"
   ]
  },
  {
   "cell_type": "markdown",
   "metadata": {},
   "source": [
    "\n",
    "También podemos utilizar `np.reshape` para remodelar *arrays* multidimensionales. Veamos un ejemplo:"
   ]
  },
  {
   "cell_type": "code",
   "execution_count": 85,
   "metadata": {},
   "outputs": [
    {
     "name": "stdout",
     "output_type": "stream",
     "text": [
      "El array con el que vamos a trabajar es: \n",
      " [[1 2 3]\n",
      " [4 5 6]]\n",
      "\n",
      "--------------------------\n",
      "\n",
      "El array después de aplicar el método 'np.reshape()' es: \n",
      " [1 2 3 4 5 6]\n"
     ]
    }
   ],
   "source": [
    "# definimos un array unidimensional utilizando el método 'np.array()'\n",
    "b = np.array([[1, 2, 3], [4, 5, 6]])\n",
    "print(f\"El array con el que vamos a trabajar es: \\n {b}\")\n",
    "\n",
    "# Si queremos remodelar esta matriz en una matriz bidimensional \n",
    "# de 2 filas y 3 columnas, podemos usar `np.reshape` de la siguiente manera:\n",
    "print(\"\\n--------------------------\\n\")\n",
    "reshaped_b = np.reshape(a, (6,))\n",
    "print(f\"El array después de aplicar el método 'np.reshape()' es: \\n {reshaped_b}\")"
   ]
  },
  {
   "cell_type": "markdown",
   "metadata": {},
   "source": [
    "## `np.swapaxes()`\n",
    "\n",
    "El método `np.swapaxes` se utiliza para intercambiar dos ejes (dimensiones) específicos de un *array*. Permite reorganizar los ejes de un *array* sin cambiar los datos subyacentes.\n",
    "\n",
    "La sintaxis básica de `np.swapaxes` es la siguiente:\n",
    "\n",
    "```python\n",
    "np.swapaxes(arr, axis1, axis2)\n",
    "```\n",
    "\n",
    "Donde:\n",
    "- `arr` es la matriz en la que se desea intercambiar los ejes.\n",
    "- `axis1` y `axis2` son los ejes que se deben intercambiar."
   ]
  },
  {
   "cell_type": "code",
   "execution_count": 86,
   "metadata": {},
   "outputs": [
    {
     "name": "stdout",
     "output_type": "stream",
     "text": [
      "El array con el que vamos a trabajar es: \n",
      " [[1 2 3]\n",
      " [4 5 6]]\n",
      "\n",
      "--------------------------\n",
      "\n",
      "El array después de aplicar el método 'np.swapaxes()' es: [[1 4]\n",
      " [2 5]\n",
      " [3 6]]\n"
     ]
    }
   ],
   "source": [
    "# definimos un array nuevo bidimensional\n",
    "arr = np.array([[1, 2, 3], [4, 5, 6]])\n",
    "print(f\"El array con el que vamos a trabajar es: \\n {arr}\")\n",
    "\n",
    "# Si queremos intercambiar los ejes de este array, podemos usar `np.swapaxes` de la siguiente manera:\n",
    "print(\"\\n--------------------------\\n\")\n",
    "swapped_arr = np.swapaxes(arr, 0, 1)\n",
    "print(f\"El array después de aplicar el método 'np.swapaxes()' es: {swapped_arr}\")"
   ]
  },
  {
   "cell_type": "code",
   "execution_count": 87,
   "metadata": {},
   "outputs": [
    {
     "name": "stdout",
     "output_type": "stream",
     "text": [
      "El array con el que vamos a trabajar es: \n",
      " [[[1 2 3]\n",
      "  [3 4 3]]\n",
      "\n",
      " [[5 6 4]\n",
      "  [7 8 4]]]\n",
      "\n",
      "--------------------------\n",
      "\n",
      "El array después de aplicar el método 'np.swapaxes()' es: \n",
      " [[[1 5]\n",
      "  [3 7]]\n",
      "\n",
      " [[2 6]\n",
      "  [4 8]]\n",
      "\n",
      " [[3 4]\n",
      "  [3 4]]]\n"
     ]
    }
   ],
   "source": [
    "# definimos un array nuevo tridimensional\n",
    "arr_3d = np.array([[[1, 2, 3], [3, 4, 3]], [[5, 6, 4], [7, 8, 4]]])\n",
    "print(f\"El array con el que vamos a trabajar es: \\n {arr_3d}\")\n",
    "\n",
    "# Si queremos intercambiar los ejes 0 (matrices) y 2 (columnas) de este array, podemos hacer lo siguiente:\n",
    "print(\"\\n--------------------------\\n\")\n",
    "swapped_arr_3d = np.swapaxes(arr_3d, 0, 2)\n",
    "print(f\"El array después de aplicar el método 'np.swapaxes()' es: \\n {swapped_arr_3d}\")"
   ]
  },
  {
   "cell_type": "markdown",
   "metadata": {},
   "source": [
    "En este caso, el eje 0 representaba las matrices individuales, el eje 1 representaba las filas y el eje 2 representaba las columnas. Después del intercambio, el eje 0 representa las columnas, el eje 1 representa las filas y el eje 2 representa las matrices individuales.\n"
   ]
  }
 ],
 "metadata": {
  "kernelspec": {
   "display_name": "Python 3",
   "language": "python",
   "name": "python3"
  },
  "language_info": {
   "codemirror_mode": {
    "name": "ipython",
    "version": 3
   },
   "file_extension": ".py",
   "mimetype": "text/x-python",
   "name": "python",
   "nbconvert_exporter": "python",
   "pygments_lexer": "ipython3",
   "version": "3.11.9"
  },
  "toc": {
   "base_numbering": 1,
   "nav_menu": {},
   "number_sections": true,
   "sideBar": true,
   "skip_h1_title": false,
   "title_cell": "Table of Contents",
   "title_sidebar": "Contents",
   "toc_cell": true,
   "toc_position": {
    "height": "calc(100% - 180px)",
    "left": "10px",
    "top": "150px",
    "width": "426.664px"
   },
   "toc_section_display": true,
   "toc_window_display": true
  }
 },
 "nbformat": 4,
 "nbformat_minor": 2
}

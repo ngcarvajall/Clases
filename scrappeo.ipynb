{
 "cells": [
  {
   "cell_type": "code",
   "execution_count": 98,
   "metadata": {},
   "outputs": [
    {
     "ename": "ModuleNotFoundError",
     "evalue": "No module named 'sleep'",
     "output_type": "error",
     "traceback": [
      "\u001b[1;31m---------------------------------------------------------------------------\u001b[0m",
      "\u001b[1;31mModuleNotFoundError\u001b[0m                       Traceback (most recent call last)",
      "Cell \u001b[1;32mIn[98], line 8\u001b[0m\n\u001b[0;32m      6\u001b[0m \u001b[38;5;28;01mimport\u001b[39;00m \u001b[38;5;21;01mpandas\u001b[39;00m \u001b[38;5;28;01mas\u001b[39;00m \u001b[38;5;21;01mpd\u001b[39;00m\n\u001b[0;32m      7\u001b[0m \u001b[38;5;28;01mimport\u001b[39;00m \u001b[38;5;21;01mnumpy\u001b[39;00m \u001b[38;5;28;01mas\u001b[39;00m \u001b[38;5;21;01mnp\u001b[39;00m\n\u001b[1;32m----> 8\u001b[0m \u001b[38;5;28;01mimport\u001b[39;00m \u001b[38;5;21;01msleep\u001b[39;00m\n\u001b[0;32m      9\u001b[0m \u001b[38;5;28;01mfrom\u001b[39;00m \u001b[38;5;21;01mtime\u001b[39;00m \u001b[38;5;28;01mimport\u001b[39;00m sleep\n\u001b[0;32m     11\u001b[0m \u001b[38;5;66;03m# Importar librerías para automatización de navegadores web con Selenium\u001b[39;00m\n",
      "\u001b[1;31mModuleNotFoundError\u001b[0m: No module named 'sleep'"
     ]
    }
   ],
   "source": [
    "from bs4 import BeautifulSoup\n",
    "import random\n",
    "# Requests\n",
    "import requests\n",
    "\n",
    "import pandas as pd\n",
    "import numpy as np\n",
    "import sleep\n",
    "from time import sleep\n",
    "\n",
    "# Importar librerías para automatización de navegadores web con Selenium\n",
    "from selenium.webdriver.common.by import By\n",
    "from selenium import webdriver  # Selenium es una herramienta para automatizar la interacción con navegadores web.\n",
    "from webdriver_manager.chrome import ChromeDriverManager  # ChromeDriverManager gestiona la instalación del controlador de Chrome.\n",
    "from selenium.webdriver.common.keys import Keys  # Keys es útil para simular eventos de teclado en Selenium.\n",
    "from selenium.webdriver.support.ui import Select  # Select se utiliza para interactuar con elementos <select> en páginas web.\n",
    "from selenium.webdriver.support.ui import WebDriverWait\n",
    "from selenium.webdriver.support import expected_conditions as EC\n",
    "from selenium.common.exceptions import NoSuchElementException # Excepciones comunes de selenium que nos podemos encontrar "
   ]
  },
  {
   "cell_type": "code",
   "execution_count": 53,
   "metadata": {},
   "outputs": [
    {
     "name": "stdout",
     "output_type": "stream",
     "text": [
      "Sudadera algodón orgánico\n",
      "€55.00\n",
      "ColorNegra\n",
      "Descripción del producto: Sudadera de algodón orgánico fabricada de forma consciente y sostenible en Portugal. Minimalista, sin logos.\n"
     ]
    }
   ],
   "source": [
    "driver = webdriver.Chrome()\n",
    "url_proyecto = \"https://minimalismbrand.com/collections/sudaderas\"\n",
    "driver.get(url_proyecto)\n",
    "# colocar prints\n",
    "driver.maximize_window()\n",
    "driver.implicitly_wait(5)\n",
    "\n",
    "sudaderas = driver.find_element('xpath', '/html/body/main/div/div[5]/div/div[2]/div[3]/div[2]/div/div[1]/div/div/div[1]/a/div/div[1]/div/div/div/img').click()\n",
    "\n",
    "# Realizar un pequeño scroll hacia abajo\n",
    "driver.execute_script(\"window.scrollBy(0, 600);\")\n",
    "\n",
    "wait = WebDriverWait(driver, 3)\n",
    "titulo = wait.until(EC.presence_of_element_located((By.CLASS_NAME, 'title')))\n",
    "\n",
    "# Obtener y mostrar el nombre del producto\n",
    "nombre_producto = titulo.text\n",
    "print(nombre_producto)\n",
    "\n",
    "precio = wait.until(EC.presence_of_element_located((By.CLASS_NAME, 'current-price')))\n",
    "precio_producto = precio.text\n",
    "print(precio_producto)\n",
    "\n",
    "# Esperar a que el color esté presente y obtener su valor\n",
    "color = wait.until(EC.presence_of_element_located((By.CLASS_NAME, 'label')))\n",
    "color_producto = color.text\n",
    "print(color_producto)\n",
    "\n",
    "sleep(2)\n",
    "try: \n",
    "    driver.find_element(\"xpath\", '/html/body/main/div/div[1]/div/div[2]/div[2]/div/div[9]/div/details/summary').click()\n",
    "except:\n",
    "    print('No encuentro el botón')\n",
    "\n",
    "ac_Desc = wait.until(EC.presence_of_element_located((\"xpath\", '/html/body/main/div/div[1]/div/div[2]/div[2]/div/div[9]/div/details/div/div')))\n",
    "descripciones = ac_Desc.find_element(\"xpath\", '/html/body/main/div/div[1]/div/div[2]/div[2]/div/div[9]/div/details/div/div/p[2]').text\n",
    "\n",
    "# Mostrar la descripción del producto\n",
    "print(f\"Descripción del producto: {descripciones}\")\n",
    "\n",
    "driver.execute_script(\"window.scrollBy(0, 250);\")\n",
    "\n",
    "sleep(2)\n",
    "try: \n",
    "    driver.find_element(\"xpath\", '/html/body/main/div/div[1]/div/div[2]/div[2]/div/div[12]/div/details/summary').click()\n",
    "except:\n",
    "    print('No encuentro el botón')\n",
    "\n",
    "ac_desglose = wait.until(EC.presence_of_element_located((\"xpath\", '/html/body/main/div/div[1]/div/div[2]/div[2]/div/div[12]/div/details/div/div')))\n",
    "costes = ac_desglose.find_elements(\"xpath\", '/html/body/main/div/div[1]/div/div[2]/div[2]/div/div[12]/div/details/div/div/ul/li')"
   ]
  },
  {
   "cell_type": "code",
   "execution_count": 54,
   "metadata": {},
   "outputs": [],
   "source": [
    "lista_desglose = []\n",
    "lista_columnas = []\n",
    "for i in costes:\n",
    "    texto = i.text\n",
    "    porcentaje = texto.split(' — ')[0]\n",
    "    columna = texto.split(' — ')[1]\n",
    "    lista_desglose.append(porcentaje)\n",
    "    lista_columnas.append(columna)"
   ]
  },
  {
   "cell_type": "code",
   "execution_count": 55,
   "metadata": {},
   "outputs": [
    {
     "data": {
      "text/plain": [
       "['44%', '13%', '38%', '5%']"
      ]
     },
     "execution_count": 55,
     "metadata": {},
     "output_type": "execute_result"
    }
   ],
   "source": [
    "lista_desglose"
   ]
  },
  {
   "cell_type": "code",
   "execution_count": 56,
   "metadata": {},
   "outputs": [
    {
     "data": {
      "text/plain": [
       "['Fabricación (materia prima + confección + mano de obra)',\n",
       " 'Operaciones (logística + transporte)',\n",
       " 'Sueldos equipo + marketing + comunicación',\n",
       " 'Margen antes de impuestos']"
      ]
     },
     "execution_count": 56,
     "metadata": {},
     "output_type": "execute_result"
    }
   ],
   "source": [
    "lista_columnas"
   ]
  },
  {
   "cell_type": "code",
   "execution_count": 57,
   "metadata": {},
   "outputs": [
    {
     "data": {
      "text/html": [
       "<div>\n",
       "<style scoped>\n",
       "    .dataframe tbody tr th:only-of-type {\n",
       "        vertical-align: middle;\n",
       "    }\n",
       "\n",
       "    .dataframe tbody tr th {\n",
       "        vertical-align: top;\n",
       "    }\n",
       "\n",
       "    .dataframe thead th {\n",
       "        text-align: right;\n",
       "    }\n",
       "</style>\n",
       "<table border=\"1\" class=\"dataframe\">\n",
       "  <thead>\n",
       "    <tr style=\"text-align: right;\">\n",
       "      <th></th>\n",
       "      <th>nombre</th>\n",
       "      <th>precio</th>\n",
       "      <th>descripción</th>\n",
       "      <th>Fabricación (materia prima + confección + mano de obra)</th>\n",
       "      <th>Operaciones (logística + transporte)</th>\n",
       "      <th>Sueldos equipo + marketing + comunicación</th>\n",
       "      <th>Margen antes de impuestos</th>\n",
       "    </tr>\n",
       "  </thead>\n",
       "  <tbody>\n",
       "    <tr>\n",
       "      <th>0</th>\n",
       "      <td>Sudadera algodón orgánico</td>\n",
       "      <td>€55.00</td>\n",
       "      <td>Sudadera de algodón orgánico fabricada de form...</td>\n",
       "      <td>44%</td>\n",
       "      <td>13%</td>\n",
       "      <td>38%</td>\n",
       "      <td>5%</td>\n",
       "    </tr>\n",
       "  </tbody>\n",
       "</table>\n",
       "</div>"
      ],
      "text/plain": [
       "                      nombre  precio  \\\n",
       "0  Sudadera algodón orgánico  €55.00   \n",
       "\n",
       "                                         descripción  \\\n",
       "0  Sudadera de algodón orgánico fabricada de form...   \n",
       "\n",
       "  Fabricación (materia prima + confección + mano de obra)  \\\n",
       "0                                                44%        \n",
       "\n",
       "  Operaciones (logística + transporte)  \\\n",
       "0                                  13%   \n",
       "\n",
       "  Sueldos equipo + marketing + comunicación Margen antes de impuestos  \n",
       "0                                       38%                        5%  "
      ]
     },
     "execution_count": 57,
     "metadata": {},
     "output_type": "execute_result"
    }
   ],
   "source": [
    "df_sudadera = pd.DataFrame({\n",
    "    'nombre':nombre_producto,\n",
    "    'precio': precio_producto,\n",
    "    'descripción': descripciones,\n",
    "    lista_columnas[0]:[lista_desglose[0]],\n",
    "    lista_columnas[1]:[lista_desglose[1]],\n",
    "    lista_columnas[2]:[lista_desglose[2]],\n",
    "    lista_columnas[3]:[lista_desglose[3]],\n",
    "})\n",
    "df_sudadera"
   ]
  },
  {
   "cell_type": "code",
   "execution_count": null,
   "metadata": {},
   "outputs": [],
   "source": [
    "driver.close()"
   ]
  },
  {
   "cell_type": "markdown",
   "metadata": {},
   "source": [
    "Sudadera capucha"
   ]
  },
  {
   "cell_type": "code",
   "execution_count": null,
   "metadata": {},
   "outputs": [
    {
     "ename": "TimeoutException",
     "evalue": "Message: \nStacktrace:\n\tGetHandleVerifier [0x00007FF62DC338A5+3004357]\n\t(No symbol) [0x00007FF62D8C9970]\n\t(No symbol) [0x00007FF62D77582A]\n\t(No symbol) [0x00007FF62D7C5B8E]\n\t(No symbol) [0x00007FF62D7C5E7C]\n\t(No symbol) [0x00007FF62D80EC27]\n\t(No symbol) [0x00007FF62D7EBC1F]\n\t(No symbol) [0x00007FF62D80BA4C]\n\t(No symbol) [0x00007FF62D7EB983]\n\t(No symbol) [0x00007FF62D7B7628]\n\t(No symbol) [0x00007FF62D7B8791]\n\tGetHandleVerifier [0x00007FF62DC5A00D+3161901]\n\tGetHandleVerifier [0x00007FF62DCAE060+3506048]\n\tGetHandleVerifier [0x00007FF62DCA400D+3465005]\n\tGetHandleVerifier [0x00007FF62DA20EEB+830987]\n\t(No symbol) [0x00007FF62D8D467F]\n\t(No symbol) [0x00007FF62D8D09D4]\n\t(No symbol) [0x00007FF62D8D0B6D]\n\t(No symbol) [0x00007FF62D8C0149]\n\tBaseThreadInitThunk [0x00007FFE3BA5259D+29]\n\tRtlUserThreadStart [0x00007FFE3C5EAF38+40]\n",
     "output_type": "error",
     "traceback": [
      "\u001b[1;31m---------------------------------------------------------------------------\u001b[0m",
      "\u001b[1;31mTimeoutException\u001b[0m                          Traceback (most recent call last)",
      "Cell \u001b[1;32mIn[76], line 10\u001b[0m\n\u001b[0;32m      7\u001b[0m driver\u001b[38;5;241m.\u001b[39mimplicitly_wait(\u001b[38;5;241m15\u001b[39m) \u001b[38;5;66;03m### es como un sleep, pero aquí va a intentar lo siguiente durante el tiempo que le digo\u001b[39;00m\n\u001b[0;32m      8\u001b[0m \u001b[38;5;66;03m#aceptamos las cookies\u001b[39;00m\n\u001b[1;32m---> 10\u001b[0m iframe \u001b[38;5;241m=\u001b[39m \u001b[43mWebDriverWait\u001b[49m\u001b[43m(\u001b[49m\u001b[43mdriver\u001b[49m\u001b[43m,\u001b[49m\u001b[43m \u001b[49m\u001b[38;5;241;43m10\u001b[39;49m\u001b[43m)\u001b[49m\u001b[38;5;241;43m.\u001b[39;49m\u001b[43muntil\u001b[49m\u001b[43m(\u001b[49m\u001b[43mEC\u001b[49m\u001b[38;5;241;43m.\u001b[39;49m\u001b[43mpresence_of_element_located\u001b[49m\u001b[43m(\u001b[49m\u001b[43m(\u001b[49m\u001b[38;5;124;43m'\u001b[39;49m\u001b[38;5;124;43mxpath\u001b[39;49m\u001b[38;5;124;43m'\u001b[39;49m\u001b[43m,\u001b[49m\u001b[43m \u001b[49m\u001b[38;5;124;43m'\u001b[39;49m\u001b[38;5;124;43m/html/body/div[16]/div/div[2]/div/div/div/div/div/form\u001b[39;49m\u001b[38;5;124;43m'\u001b[39;49m\u001b[43m)\u001b[49m\u001b[43m)\u001b[49m\u001b[43m)\u001b[49m \u001b[38;5;66;03m# usamos xpath porque si\u001b[39;00m\n\u001b[0;32m     11\u001b[0m driver\u001b[38;5;241m.\u001b[39mswitch_to\u001b[38;5;241m.\u001b[39mframe(iframe) \u001b[38;5;66;03m# para que busque por delante\u001b[39;00m\n\u001b[0;32m     13\u001b[0m \u001b[38;5;28;01mtry\u001b[39;00m: \n",
      "File \u001b[1;32m~\\AppData\\Local\\Packages\\PythonSoftwareFoundation.Python.3.11_qbz5n2kfra8p0\\LocalCache\\local-packages\\Python311\\site-packages\\selenium\\webdriver\\support\\wait.py:105\u001b[0m, in \u001b[0;36mWebDriverWait.until\u001b[1;34m(self, method, message)\u001b[0m\n\u001b[0;32m    103\u001b[0m     \u001b[38;5;28;01mif\u001b[39;00m time\u001b[38;5;241m.\u001b[39mmonotonic() \u001b[38;5;241m>\u001b[39m end_time:\n\u001b[0;32m    104\u001b[0m         \u001b[38;5;28;01mbreak\u001b[39;00m\n\u001b[1;32m--> 105\u001b[0m \u001b[38;5;28;01mraise\u001b[39;00m TimeoutException(message, screen, stacktrace)\n",
      "\u001b[1;31mTimeoutException\u001b[0m: Message: \nStacktrace:\n\tGetHandleVerifier [0x00007FF62DC338A5+3004357]\n\t(No symbol) [0x00007FF62D8C9970]\n\t(No symbol) [0x00007FF62D77582A]\n\t(No symbol) [0x00007FF62D7C5B8E]\n\t(No symbol) [0x00007FF62D7C5E7C]\n\t(No symbol) [0x00007FF62D80EC27]\n\t(No symbol) [0x00007FF62D7EBC1F]\n\t(No symbol) [0x00007FF62D80BA4C]\n\t(No symbol) [0x00007FF62D7EB983]\n\t(No symbol) [0x00007FF62D7B7628]\n\t(No symbol) [0x00007FF62D7B8791]\n\tGetHandleVerifier [0x00007FF62DC5A00D+3161901]\n\tGetHandleVerifier [0x00007FF62DCAE060+3506048]\n\tGetHandleVerifier [0x00007FF62DCA400D+3465005]\n\tGetHandleVerifier [0x00007FF62DA20EEB+830987]\n\t(No symbol) [0x00007FF62D8D467F]\n\t(No symbol) [0x00007FF62D8D09D4]\n\t(No symbol) [0x00007FF62D8D0B6D]\n\t(No symbol) [0x00007FF62D8C0149]\n\tBaseThreadInitThunk [0x00007FFE3BA5259D+29]\n\tRtlUserThreadStart [0x00007FFE3C5EAF38+40]\n"
     ]
    }
   ],
   "source": [
    "driver = webdriver.Chrome()\n",
    "url_proyecto = \"https://minimalismbrand.com/collections/sudaderas\"\n",
    "driver.get(url_proyecto)\n",
    "# colocar prints\n",
    "driver.maximize_window()\n",
    "driver.implicitly_wait(5)\n",
    "\n",
    "driver.execute_script(\"window.scrollBy(0, 600);\")\n",
    "\n",
    "\n",
    "sudaderas_capucha = driver.find_element('xpath', '/html/body/main/div/div[5]/div/div[2]/div[3]/div[2]/div/div[8]/div/div/div[1]/a/div/div[1]/div/div/div/img').click()\n",
    "\n",
    "# Realizar un pequeño scroll hacia abajo\n",
    "driver.execute_script(\"window.scrollBy(0, 600);\")\n",
    "\n",
    "wait = WebDriverWait(driver, 3)\n",
    "titulo = wait.until(EC.presence_of_element_located((By.CLASS_NAME, 'title')))\n",
    "\n",
    "# Obtener y mostrar el nombre del producto\n",
    "nombre_producto = titulo.text\n",
    "print(nombre_producto)\n",
    "\n",
    "precio = wait.until(EC.presence_of_element_located((By.CLASS_NAME, 'current-price')))\n",
    "precio_producto = precio.text\n",
    "print(precio_producto)\n",
    "\n",
    "# Esperar a que el color esté presente y obtener su valor\n",
    "color = wait.until(EC.presence_of_element_located((By.CLASS_NAME, 'label')))\n",
    "color_producto = color.text\n",
    "print(color_producto)\n",
    "\n",
    "sleep(2)\n",
    "try: \n",
    "    driver.find_element(\"xpath\", '/html/body/main/div/div[1]/div/div[2]/div[2]/div/div[9]/div/details/summary').click()\n",
    "except:\n",
    "    print('No encuentro el botón')\n",
    "\n",
    "ac_Desc = wait.until(EC.presence_of_element_located((\"xpath\", '/html/body/main/div/div[1]/div/div[2]/div[2]/div/div[9]/div/details/div/div')))\n",
    "descripciones = ac_Desc.find_element(\"xpath\", '/html/body/main/div/div[1]/div/div[2]/div[2]/div/div[9]/div/details/div/div/p[1]').text\n",
    "\n",
    "# Mostrar la descripción del producto\n",
    "print(f\"Descripción del producto: {descripciones}\")\n",
    "\n",
    "driver.execute_script(\"window.scrollBy(0, 250);\")\n",
    "\n",
    "sleep(2)\n",
    "try: \n",
    "    driver.find_element(\"xpath\", '/html/body/main/div/div[1]/div/div[2]/div[2]/div/div[12]/div/details/summary').click()\n",
    "except:\n",
    "    print('No encuentro el botón')\n",
    "\n",
    "ac_desglose = wait.until(EC.presence_of_element_located((\"xpath\", '/html/body/main/div/div[1]/div/div[2]/div[2]/div/div[12]/div/details/div/div')))\n",
    "costes = ac_desglose.find_elements(\"xpath\", '/html/body/main/div/div[1]/div/div[2]/div[2]/div/div[12]/div/details/div/div/ul/li')"
   ]
  },
  {
   "cell_type": "code",
   "execution_count": 61,
   "metadata": {},
   "outputs": [],
   "source": [
    "lista_desglose = []\n",
    "lista_columnas = []\n",
    "for i in costes:\n",
    "    texto = i.text\n",
    "    porcentaje = texto.split(' — ')[0]\n",
    "    columna = texto.split(' — ')[1]\n",
    "    lista_desglose.append(porcentaje)\n",
    "    lista_columnas.append(columna)"
   ]
  },
  {
   "cell_type": "code",
   "execution_count": 62,
   "metadata": {},
   "outputs": [
    {
     "data": {
      "text/plain": [
       "['44%', '13%', '38%', '5%']"
      ]
     },
     "execution_count": 62,
     "metadata": {},
     "output_type": "execute_result"
    }
   ],
   "source": [
    "lista_desglose"
   ]
  },
  {
   "cell_type": "code",
   "execution_count": 63,
   "metadata": {},
   "outputs": [
    {
     "data": {
      "text/plain": [
       "['Fabricación (materia prima + confección + mano de obra)',\n",
       " 'Operaciones (logística + transporte)',\n",
       " 'Sueldos equipo + marketing + comunicación',\n",
       " 'Margen antes de impuestos']"
      ]
     },
     "execution_count": 63,
     "metadata": {},
     "output_type": "execute_result"
    }
   ],
   "source": [
    "lista_columnas"
   ]
  },
  {
   "cell_type": "code",
   "execution_count": 64,
   "metadata": {},
   "outputs": [
    {
     "data": {
      "text/html": [
       "<div>\n",
       "<style scoped>\n",
       "    .dataframe tbody tr th:only-of-type {\n",
       "        vertical-align: middle;\n",
       "    }\n",
       "\n",
       "    .dataframe tbody tr th {\n",
       "        vertical-align: top;\n",
       "    }\n",
       "\n",
       "    .dataframe thead th {\n",
       "        text-align: right;\n",
       "    }\n",
       "</style>\n",
       "<table border=\"1\" class=\"dataframe\">\n",
       "  <thead>\n",
       "    <tr style=\"text-align: right;\">\n",
       "      <th></th>\n",
       "      <th>nombre</th>\n",
       "      <th>precio</th>\n",
       "      <th>descripción</th>\n",
       "      <th>Fabricación (materia prima + confección + mano de obra)</th>\n",
       "      <th>Operaciones (logística + transporte)</th>\n",
       "      <th>Sueldos equipo + marketing + comunicación</th>\n",
       "      <th>Margen antes de impuestos</th>\n",
       "    </tr>\n",
       "  </thead>\n",
       "  <tbody>\n",
       "    <tr>\n",
       "      <th>0</th>\n",
       "      <td>Sudadera algodón orgánico con capucha</td>\n",
       "      <td>€65.00</td>\n",
       "      <td>Sudadera con capucha de algodón orgánico fabri...</td>\n",
       "      <td>44%</td>\n",
       "      <td>13%</td>\n",
       "      <td>38%</td>\n",
       "      <td>5%</td>\n",
       "    </tr>\n",
       "  </tbody>\n",
       "</table>\n",
       "</div>"
      ],
      "text/plain": [
       "                                  nombre  precio  \\\n",
       "0  Sudadera algodón orgánico con capucha  €65.00   \n",
       "\n",
       "                                         descripción  \\\n",
       "0  Sudadera con capucha de algodón orgánico fabri...   \n",
       "\n",
       "  Fabricación (materia prima + confección + mano de obra)  \\\n",
       "0                                                44%        \n",
       "\n",
       "  Operaciones (logística + transporte)  \\\n",
       "0                                  13%   \n",
       "\n",
       "  Sueldos equipo + marketing + comunicación Margen antes de impuestos  \n",
       "0                                       38%                        5%  "
      ]
     },
     "execution_count": 64,
     "metadata": {},
     "output_type": "execute_result"
    }
   ],
   "source": [
    "df_sudadera_cap = pd.DataFrame({\n",
    "    'nombre':nombre_producto,\n",
    "    'precio': precio_producto,\n",
    "    'descripción': descripciones,\n",
    "    lista_columnas[0]:[lista_desglose[0]],\n",
    "    lista_columnas[1]:[lista_desglose[1]],\n",
    "    lista_columnas[2]:[lista_desglose[2]],\n",
    "    lista_columnas[3]:[lista_desglose[3]],\n",
    "})\n",
    "df_sudadera_cap"
   ]
  },
  {
   "cell_type": "markdown",
   "metadata": {},
   "source": [
    "# Jerseys"
   ]
  },
  {
   "cell_type": "code",
   "execution_count": 46,
   "metadata": {},
   "outputs": [
    {
     "name": "stdout",
     "output_type": "stream",
     "text": [
      "Jersey de punto de lana merino reciclado con cremallera\n",
      "€80.00\n",
      "ColorGris Vigore\n",
      "Descripción del producto: Jerséis de punto fino confeccionados con 30% lana reciclada, 50% lana merino y 20% de poliamida reciclada. Al emplear lana reciclada reducimos la producción de lana virgen, con el consiguiente ahorro en consumo de agua, energía, recursos naturales y residuos para el planeta.\n"
     ]
    },
    {
     "data": {
      "text/html": [
       "<div>\n",
       "<style scoped>\n",
       "    .dataframe tbody tr th:only-of-type {\n",
       "        vertical-align: middle;\n",
       "    }\n",
       "\n",
       "    .dataframe tbody tr th {\n",
       "        vertical-align: top;\n",
       "    }\n",
       "\n",
       "    .dataframe thead th {\n",
       "        text-align: right;\n",
       "    }\n",
       "</style>\n",
       "<table border=\"1\" class=\"dataframe\">\n",
       "  <thead>\n",
       "    <tr style=\"text-align: right;\">\n",
       "      <th></th>\n",
       "      <th>nombre</th>\n",
       "      <th>precio</th>\n",
       "      <th>descripción</th>\n",
       "      <th>Fabricación (materia prima + confección + mano de obra)</th>\n",
       "      <th>Operaciones (logística + transporte)</th>\n",
       "      <th>Sueldos equipo + marketing + comunicación</th>\n",
       "      <th>Margen antes de impuestos</th>\n",
       "    </tr>\n",
       "  </thead>\n",
       "  <tbody>\n",
       "    <tr>\n",
       "      <th>0</th>\n",
       "      <td>Jersey de punto de lana merino reciclado con c...</td>\n",
       "      <td>€80.00</td>\n",
       "      <td>Jerséis de punto fino confeccionados con 30% l...</td>\n",
       "      <td>44%</td>\n",
       "      <td>13%</td>\n",
       "      <td>38%</td>\n",
       "      <td>5%</td>\n",
       "    </tr>\n",
       "  </tbody>\n",
       "</table>\n",
       "</div>"
      ],
      "text/plain": [
       "                                              nombre  precio  \\\n",
       "0  Jersey de punto de lana merino reciclado con c...  €80.00   \n",
       "\n",
       "                                         descripción  \\\n",
       "0  Jerséis de punto fino confeccionados con 30% l...   \n",
       "\n",
       "  Fabricación (materia prima + confección + mano de obra)  \\\n",
       "0                                                44%        \n",
       "\n",
       "  Operaciones (logística + transporte)  \\\n",
       "0                                  13%   \n",
       "\n",
       "  Sueldos equipo + marketing + comunicación Margen antes de impuestos  \n",
       "0                                       38%                        5%  "
      ]
     },
     "execution_count": 46,
     "metadata": {},
     "output_type": "execute_result"
    }
   ],
   "source": [
    "driver = webdriver.Chrome()\n",
    "url_proyecto = \"https://minimalismbrand.com/collections/sweater-men\"\n",
    "driver.get(url_proyecto)\n",
    "# colocar prints\n",
    "driver.maximize_window()\n",
    "driver.implicitly_wait(5)\n",
    "\n",
    "driver.execute_script(\"window.scrollBy(0, 600);\")\n",
    "\n",
    "\n",
    "sudaderas_jersey = driver.find_element('xpath', '/html/body/main/div/div[5]/div/div[2]/div[3]/div[2]/div/div[1]/div/div/div[1]/a/div/div[1]/div/div/div/img').click()\n",
    "\n",
    "# Realizar un pequeño scroll hacia abajo\n",
    "driver.execute_script(\"window.scrollBy(0, 600);\")\n",
    "\n",
    "wait = WebDriverWait(driver, 3)\n",
    "titulo = wait.until(EC.presence_of_element_located((By.CLASS_NAME, 'title')))\n",
    "\n",
    "# Obtener y mostrar el nombre del producto\n",
    "nombre_producto = titulo.text\n",
    "print(nombre_producto)\n",
    "\n",
    "precio = wait.until(EC.presence_of_element_located((By.CLASS_NAME, 'current-price')))\n",
    "precio_producto = precio.text\n",
    "print(precio_producto)\n",
    "\n",
    "# Esperar a que el color esté presente y obtener su valor\n",
    "color = wait.until(EC.presence_of_element_located((By.CLASS_NAME, 'label')))\n",
    "color_producto = color.text\n",
    "print(color_producto)\n",
    "\n",
    "sleep(2)\n",
    "try: \n",
    "    driver.find_element(\"xpath\", '/html/body/main/div/div[1]/div/div[2]/div[2]/div/div[9]/div/details/summary').click()\n",
    "except:\n",
    "    print('No encuentro el botón')\n",
    "\n",
    "ac_Desc = wait.until(EC.presence_of_element_located((\"xpath\", '/html/body/main/div/div[1]/div/div[2]/div[2]/div/div[9]/div/details/div/div')))\n",
    "descripciones = ac_Desc.find_element(\"xpath\", '/html/body/main/div/div[1]/div/div[2]/div[2]/div/div[9]/div/details/div/div/p[1]').text\n",
    "\n",
    "# Mostrar la descripción del producto\n",
    "print(f\"Descripción del producto: {descripciones}\")\n",
    "\n",
    "driver.execute_script(\"window.scrollBy(0, 900);\")\n",
    "\n",
    "sleep(2)\n",
    "try: \n",
    "    driver.find_element(\"xpath\", '/html/body/main/div/div[1]/div/div[2]/div[2]/div/div[11]/div/details/summary').click()\n",
    "except:\n",
    "    print('No encuentro el botón')\n",
    "\n",
    "ac_desglose = wait.until(EC.presence_of_element_located((\"xpath\", '/html/body/main/div/div[1]/div/div[2]/div[2]/div/div[11]/div/details/div/div')))\n",
    "costes = ac_desglose.find_elements(\"xpath\", '/html/body/main/div/div[1]/div/div[2]/div[2]/div/div[11]/div/details/div/div/ul/li')\n",
    "\n",
    "lista_desglose = []\n",
    "lista_columnas = []\n",
    "for i in costes:\n",
    "    texto = i.text\n",
    "    porcentaje = texto.split(' — ')[0]\n",
    "    columna = texto.split(' — ')[1]\n",
    "    lista_desglose.append(porcentaje)\n",
    "    lista_columnas.append(columna)\n",
    "lista_desglose\n",
    "lista_columnas\n",
    "df_jersey_punto_lana = pd.DataFrame({\n",
    "    'nombre':nombre_producto,\n",
    "    'precio': precio_producto,\n",
    "    'descripción': descripciones,\n",
    "    lista_columnas[0]:[lista_desglose[0]],\n",
    "    lista_columnas[1]:[lista_desglose[1]],\n",
    "    lista_columnas[2]:[lista_desglose[2]],\n",
    "    lista_columnas[3]:[lista_desglose[3]],\n",
    "})\n",
    "df_jersey_punto_lana\n",
    "\n",
    "driver.close()"
   ]
  },
  {
   "cell_type": "markdown",
   "metadata": {},
   "source": [
    "## Jersey punto fino"
   ]
  },
  {
   "cell_type": "code",
   "execution_count": 48,
   "metadata": {},
   "outputs": [
    {
     "name": "stdout",
     "output_type": "stream",
     "text": [
      "Jersey de punto fino de lana merino reciclado\n",
      "€75.00\n",
      "ColorGris Vigore\n",
      "Descripción del producto: Jerséis de punto fino confeccionados con 30% lana reciclada, 50% lana merino y 20% de poliamida reciclada. Al emplear lana reciclada reducimos la producción de lana virgen, con el consiguiente ahorro en consumo de agua, energía, recursos naturales y residuos para el planeta.\n"
     ]
    },
    {
     "data": {
      "text/html": [
       "<div>\n",
       "<style scoped>\n",
       "    .dataframe tbody tr th:only-of-type {\n",
       "        vertical-align: middle;\n",
       "    }\n",
       "\n",
       "    .dataframe tbody tr th {\n",
       "        vertical-align: top;\n",
       "    }\n",
       "\n",
       "    .dataframe thead th {\n",
       "        text-align: right;\n",
       "    }\n",
       "</style>\n",
       "<table border=\"1\" class=\"dataframe\">\n",
       "  <thead>\n",
       "    <tr style=\"text-align: right;\">\n",
       "      <th></th>\n",
       "      <th>nombre</th>\n",
       "      <th>precio</th>\n",
       "      <th>descripción</th>\n",
       "      <th>Fabricación (materia prima + confección + mano de obra)</th>\n",
       "      <th>Operaciones (logística + transporte)</th>\n",
       "      <th>Sueldos equipo + marketing + comunicación</th>\n",
       "      <th>Margen antes de impuestos</th>\n",
       "    </tr>\n",
       "  </thead>\n",
       "  <tbody>\n",
       "    <tr>\n",
       "      <th>0</th>\n",
       "      <td>Jersey de punto fino de lana merino reciclado</td>\n",
       "      <td>€75.00</td>\n",
       "      <td>Jerséis de punto fino confeccionados con 30% l...</td>\n",
       "      <td>44%</td>\n",
       "      <td>13%</td>\n",
       "      <td>38%</td>\n",
       "      <td>5%</td>\n",
       "    </tr>\n",
       "  </tbody>\n",
       "</table>\n",
       "</div>"
      ],
      "text/plain": [
       "                                          nombre  precio  \\\n",
       "0  Jersey de punto fino de lana merino reciclado  €75.00   \n",
       "\n",
       "                                         descripción  \\\n",
       "0  Jerséis de punto fino confeccionados con 30% l...   \n",
       "\n",
       "  Fabricación (materia prima + confección + mano de obra)  \\\n",
       "0                                                44%        \n",
       "\n",
       "  Operaciones (logística + transporte)  \\\n",
       "0                                  13%   \n",
       "\n",
       "  Sueldos equipo + marketing + comunicación Margen antes de impuestos  \n",
       "0                                       38%                        5%  "
      ]
     },
     "execution_count": 48,
     "metadata": {},
     "output_type": "execute_result"
    }
   ],
   "source": [
    "driver = webdriver.Chrome()\n",
    "url_proyecto = \"https://minimalismbrand.com/collections/sweater-men\"\n",
    "driver.get(url_proyecto)\n",
    "# colocar prints\n",
    "driver.maximize_window()\n",
    "driver.implicitly_wait(5)\n",
    "\n",
    "driver.execute_script(\"window.scrollBy(0, 1200);\")\n",
    "\n",
    "\n",
    "jersey_punto_fino = driver.find_element('xpath', '/html/body/main/div/div[5]/div/div[2]/div[3]/div[2]/div/div[5]/div/div/div[1]/a/div/div[1]/div/div/div/img').click()\n",
    "\n",
    "# Realizar un pequeño scroll hacia abajo\n",
    "driver.execute_script(\"window.scrollBy(0, 600);\")\n",
    "\n",
    "wait = WebDriverWait(driver, 3)\n",
    "titulo = wait.until(EC.presence_of_element_located((By.CLASS_NAME, 'title')))\n",
    "\n",
    "# Obtener y mostrar el nombre del producto\n",
    "nombre_producto = titulo.text\n",
    "print(nombre_producto)\n",
    "\n",
    "precio = wait.until(EC.presence_of_element_located((By.CLASS_NAME, 'current-price')))\n",
    "precio_producto = precio.text\n",
    "print(precio_producto)\n",
    "\n",
    "# Esperar a que el color esté presente y obtener su valor\n",
    "color = wait.until(EC.presence_of_element_located((By.CLASS_NAME, 'label')))\n",
    "color_producto = color.text\n",
    "print(color_producto)\n",
    "\n",
    "sleep(2)\n",
    "try: \n",
    "    driver.find_element(\"xpath\", '/html/body/main/div/div[1]/div/div[2]/div[2]/div/div[9]/div/details/summary').click()\n",
    "except:\n",
    "    print('No encuentro el botón')\n",
    "\n",
    "ac_Desc = wait.until(EC.presence_of_element_located((\"xpath\", '/html/body/main/div/div[1]/div/div[2]/div[2]/div/div[9]/div/details/div/div')))\n",
    "descripciones = ac_Desc.find_element(\"xpath\", '/html/body/main/div/div[1]/div/div[2]/div[2]/div/div[9]/div/details/div/div/p[1]').text\n",
    "\n",
    "# Mostrar la descripción del producto\n",
    "print(f\"Descripción del producto: {descripciones}\")\n",
    "\n",
    "driver.execute_script(\"window.scrollBy(0, 900);\")\n",
    "\n",
    "sleep(2)\n",
    "try: \n",
    "    driver.find_element(\"xpath\", '/html/body/main/div/div[1]/div/div[2]/div[2]/div/div[11]/div/details/summary').click()\n",
    "except:\n",
    "    print('No encuentro el botón')\n",
    "\n",
    "ac_desglose = wait.until(EC.presence_of_element_located((\"xpath\", '/html/body/main/div/div[1]/div/div[2]/div[2]/div/div[11]/div/details/div/div')))\n",
    "costes = ac_desglose.find_elements(\"xpath\", '/html/body/main/div/div[1]/div/div[2]/div[2]/div/div[11]/div/details/div/div/ul/li')\n",
    "\n",
    "lista_desglose = []\n",
    "lista_columnas = []\n",
    "for i in costes:\n",
    "    texto = i.text\n",
    "    porcentaje = texto.split(' — ')[0]\n",
    "    columna = texto.split(' — ')[1]\n",
    "    lista_desglose.append(porcentaje)\n",
    "    lista_columnas.append(columna)\n",
    "lista_desglose\n",
    "lista_columnas\n",
    "df_jersey_punto_fino = pd.DataFrame({\n",
    "    'nombre':nombre_producto,\n",
    "    'precio': precio_producto,\n",
    "    'descripción': descripciones,\n",
    "    lista_columnas[0]:[lista_desglose[0]],\n",
    "    lista_columnas[1]:[lista_desglose[1]],\n",
    "    lista_columnas[2]:[lista_desglose[2]],\n",
    "    lista_columnas[3]:[lista_desglose[3]],\n",
    "})\n",
    "df_jersey_punto_fino\n"
   ]
  },
  {
   "cell_type": "markdown",
   "metadata": {},
   "source": [
    "## Jersey lana merino"
   ]
  },
  {
   "cell_type": "code",
   "execution_count": 50,
   "metadata": {},
   "outputs": [
    {
     "name": "stdout",
     "output_type": "stream",
     "text": [
      "Jersey lana merino reciclada\n",
      "€55.00\n",
      "ColorCrudo\n",
      "Descripción del producto: Jerséis de punto confeccionados con 55% lana reciclada y 45% lana merino. Al emplear lana reciclada reducimos la producción de lana virgen, con el consiguiente ahorro en consumo de agua, energía, recursos naturales y residuos para el planeta.\n"
     ]
    },
    {
     "data": {
      "text/html": [
       "<div>\n",
       "<style scoped>\n",
       "    .dataframe tbody tr th:only-of-type {\n",
       "        vertical-align: middle;\n",
       "    }\n",
       "\n",
       "    .dataframe tbody tr th {\n",
       "        vertical-align: top;\n",
       "    }\n",
       "\n",
       "    .dataframe thead th {\n",
       "        text-align: right;\n",
       "    }\n",
       "</style>\n",
       "<table border=\"1\" class=\"dataframe\">\n",
       "  <thead>\n",
       "    <tr style=\"text-align: right;\">\n",
       "      <th></th>\n",
       "      <th>nombre</th>\n",
       "      <th>precio</th>\n",
       "      <th>descripción</th>\n",
       "      <th>Fabricación (materia prima + confección + mano de obra)</th>\n",
       "      <th>Operaciones (logística + transporte)</th>\n",
       "      <th>Sueldos equipo + marketing + comunicación</th>\n",
       "      <th>Margen antes de impuestos</th>\n",
       "    </tr>\n",
       "  </thead>\n",
       "  <tbody>\n",
       "    <tr>\n",
       "      <th>0</th>\n",
       "      <td>Jersey lana merino reciclada</td>\n",
       "      <td>€55.00</td>\n",
       "      <td>Jerséis de punto confeccionados con 55% lana r...</td>\n",
       "      <td>44%</td>\n",
       "      <td>13%</td>\n",
       "      <td>38%</td>\n",
       "      <td>5%</td>\n",
       "    </tr>\n",
       "  </tbody>\n",
       "</table>\n",
       "</div>"
      ],
      "text/plain": [
       "                         nombre  precio  \\\n",
       "0  Jersey lana merino reciclada  €55.00   \n",
       "\n",
       "                                         descripción  \\\n",
       "0  Jerséis de punto confeccionados con 55% lana r...   \n",
       "\n",
       "  Fabricación (materia prima + confección + mano de obra)  \\\n",
       "0                                                44%        \n",
       "\n",
       "  Operaciones (logística + transporte)  \\\n",
       "0                                  13%   \n",
       "\n",
       "  Sueldos equipo + marketing + comunicación Margen antes de impuestos  \n",
       "0                                       38%                        5%  "
      ]
     },
     "execution_count": 50,
     "metadata": {},
     "output_type": "execute_result"
    }
   ],
   "source": [
    "\n",
    "driver = webdriver.Chrome()\n",
    "url_proyecto = \"https://minimalismbrand.com/collections/sweater-men\"\n",
    "driver.get(url_proyecto)\n",
    "# colocar prints\n",
    "driver.maximize_window()\n",
    "driver.implicitly_wait(5)\n",
    "\n",
    "driver.execute_script(\"window.scrollBy(0, 1800);\")\n",
    "\n",
    "\n",
    "jersey_lana_merino = driver.find_element('xpath', '/html/body/main/div/div[5]/div/div[2]/div[3]/div[2]/div/div[10]/div/div/div[1]/a/div/div[1]/div/div/div/img').click()\n",
    "\n",
    "# Realizar un pequeño scroll hacia abajo\n",
    "driver.execute_script(\"window.scrollBy(0, 600);\")\n",
    "\n",
    "wait = WebDriverWait(driver, 3)\n",
    "titulo = wait.until(EC.presence_of_element_located((By.CLASS_NAME, 'title')))\n",
    "\n",
    "# Obtener y mostrar el nombre del producto\n",
    "nombre_producto = titulo.text\n",
    "print(nombre_producto)\n",
    "\n",
    "precio = wait.until(EC.presence_of_element_located((By.CLASS_NAME, 'current-price')))\n",
    "precio_producto = precio.text\n",
    "print(precio_producto)\n",
    "\n",
    "# Esperar a que el color esté presente y obtener su valor\n",
    "color = wait.until(EC.presence_of_element_located((By.CLASS_NAME, 'label')))\n",
    "color_producto = color.text\n",
    "print(color_producto)\n",
    "\n",
    "sleep(2)\n",
    "try: \n",
    "    driver.find_element(\"xpath\", '/html/body/main/div/div[1]/div/div[2]/div[2]/div/div[9]/div/details/summary').click()\n",
    "except:\n",
    "    print('No encuentro el botón')\n",
    "\n",
    "ac_Desc = wait.until(EC.presence_of_element_located((\"xpath\", '/html/body/main/div/div[1]/div/div[2]/div[2]/div/div[9]/div/details/div/div')))\n",
    "descripciones = ac_Desc.find_element(\"xpath\", '/html/body/main/div/div[1]/div/div[2]/div[2]/div/div[9]/div/details/div/div/p[1]').text\n",
    "\n",
    "# Mostrar la descripción del producto\n",
    "print(f\"Descripción del producto: {descripciones}\")\n",
    "\n",
    "driver.execute_script(\"window.scrollBy(0, 300);\")\n",
    "\n",
    "sleep(2)\n",
    "try: \n",
    "    driver.find_element(\"xpath\", '/html/body/main/div/div[1]/div/div[2]/div[2]/div/div[11]/div/details/summary').click()\n",
    "except:\n",
    "    print('No encuentro el botón')\n",
    "\n",
    "ac_desglose = wait.until(EC.presence_of_element_located((\"xpath\", '/html/body/main/div/div[1]/div/div[2]/div[2]/div/div[11]/div/details/div/div')))\n",
    "costes = ac_desglose.find_elements(\"xpath\", '/html/body/main/div/div[1]/div/div[2]/div[2]/div/div[11]/div/details/div/div/ul/li')\n",
    "\n",
    "lista_desglose = []\n",
    "lista_columnas = []\n",
    "for i in costes:\n",
    "    texto = i.text\n",
    "    porcentaje = texto.split(' — ')[0]\n",
    "    columna = texto.split(' — ')[1]\n",
    "    lista_desglose.append(porcentaje)\n",
    "    lista_columnas.append(columna)\n",
    "lista_desglose\n",
    "lista_columnas\n",
    "df_jersey_lana_merino = pd.DataFrame({\n",
    "    'nombre':nombre_producto,\n",
    "    'precio': precio_producto,\n",
    "    'descripción': descripciones,\n",
    "    lista_columnas[0]:[lista_desglose[0]],\n",
    "    lista_columnas[1]:[lista_desglose[1]],\n",
    "    lista_columnas[2]:[lista_desglose[2]],\n",
    "    lista_columnas[3]:[lista_desglose[3]],\n",
    "})\n",
    "df_jersey_lana_merino"
   ]
  },
  {
   "cell_type": "code",
   "execution_count": 65,
   "metadata": {},
   "outputs": [],
   "source": [
    "df_completo = pd.concat([df_sudadera, df_sudadera_cap, df_jersey_punto_lana, df_jersey_punto_fino, df_jersey_lana_merino], ignore_index=True)"
   ]
  },
  {
   "cell_type": "code",
   "execution_count": 66,
   "metadata": {},
   "outputs": [
    {
     "data": {
      "text/html": [
       "<div>\n",
       "<style scoped>\n",
       "    .dataframe tbody tr th:only-of-type {\n",
       "        vertical-align: middle;\n",
       "    }\n",
       "\n",
       "    .dataframe tbody tr th {\n",
       "        vertical-align: top;\n",
       "    }\n",
       "\n",
       "    .dataframe thead th {\n",
       "        text-align: right;\n",
       "    }\n",
       "</style>\n",
       "<table border=\"1\" class=\"dataframe\">\n",
       "  <thead>\n",
       "    <tr style=\"text-align: right;\">\n",
       "      <th></th>\n",
       "      <th>nombre</th>\n",
       "      <th>precio</th>\n",
       "      <th>descripción</th>\n",
       "      <th>Fabricación (materia prima + confección + mano de obra)</th>\n",
       "      <th>Operaciones (logística + transporte)</th>\n",
       "      <th>Sueldos equipo + marketing + comunicación</th>\n",
       "      <th>Margen antes de impuestos</th>\n",
       "    </tr>\n",
       "  </thead>\n",
       "  <tbody>\n",
       "    <tr>\n",
       "      <th>0</th>\n",
       "      <td>Sudadera algodón orgánico</td>\n",
       "      <td>€55.00</td>\n",
       "      <td>Sudadera de algodón orgánico fabricada de form...</td>\n",
       "      <td>44%</td>\n",
       "      <td>13%</td>\n",
       "      <td>38%</td>\n",
       "      <td>5%</td>\n",
       "    </tr>\n",
       "    <tr>\n",
       "      <th>1</th>\n",
       "      <td>Sudadera algodón orgánico con capucha</td>\n",
       "      <td>€65.00</td>\n",
       "      <td>Sudadera con capucha de algodón orgánico fabri...</td>\n",
       "      <td>44%</td>\n",
       "      <td>13%</td>\n",
       "      <td>38%</td>\n",
       "      <td>5%</td>\n",
       "    </tr>\n",
       "    <tr>\n",
       "      <th>2</th>\n",
       "      <td>Jersey de punto de lana merino reciclado con c...</td>\n",
       "      <td>€80.00</td>\n",
       "      <td>Jerséis de punto fino confeccionados con 30% l...</td>\n",
       "      <td>44%</td>\n",
       "      <td>13%</td>\n",
       "      <td>38%</td>\n",
       "      <td>5%</td>\n",
       "    </tr>\n",
       "    <tr>\n",
       "      <th>3</th>\n",
       "      <td>Jersey de punto fino de lana merino reciclado</td>\n",
       "      <td>€75.00</td>\n",
       "      <td>Jerséis de punto fino confeccionados con 30% l...</td>\n",
       "      <td>44%</td>\n",
       "      <td>13%</td>\n",
       "      <td>38%</td>\n",
       "      <td>5%</td>\n",
       "    </tr>\n",
       "    <tr>\n",
       "      <th>4</th>\n",
       "      <td>Jersey lana merino reciclada</td>\n",
       "      <td>€55.00</td>\n",
       "      <td>Jerséis de punto confeccionados con 55% lana r...</td>\n",
       "      <td>44%</td>\n",
       "      <td>13%</td>\n",
       "      <td>38%</td>\n",
       "      <td>5%</td>\n",
       "    </tr>\n",
       "  </tbody>\n",
       "</table>\n",
       "</div>"
      ],
      "text/plain": [
       "                                              nombre  precio  \\\n",
       "0                          Sudadera algodón orgánico  €55.00   \n",
       "1              Sudadera algodón orgánico con capucha  €65.00   \n",
       "2  Jersey de punto de lana merino reciclado con c...  €80.00   \n",
       "3      Jersey de punto fino de lana merino reciclado  €75.00   \n",
       "4                       Jersey lana merino reciclada  €55.00   \n",
       "\n",
       "                                         descripción  \\\n",
       "0  Sudadera de algodón orgánico fabricada de form...   \n",
       "1  Sudadera con capucha de algodón orgánico fabri...   \n",
       "2  Jerséis de punto fino confeccionados con 30% l...   \n",
       "3  Jerséis de punto fino confeccionados con 30% l...   \n",
       "4  Jerséis de punto confeccionados con 55% lana r...   \n",
       "\n",
       "  Fabricación (materia prima + confección + mano de obra)  \\\n",
       "0                                                44%        \n",
       "1                                                44%        \n",
       "2                                                44%        \n",
       "3                                                44%        \n",
       "4                                                44%        \n",
       "\n",
       "  Operaciones (logística + transporte)  \\\n",
       "0                                  13%   \n",
       "1                                  13%   \n",
       "2                                  13%   \n",
       "3                                  13%   \n",
       "4                                  13%   \n",
       "\n",
       "  Sueldos equipo + marketing + comunicación Margen antes de impuestos  \n",
       "0                                       38%                        5%  \n",
       "1                                       38%                        5%  \n",
       "2                                       38%                        5%  \n",
       "3                                       38%                        5%  \n",
       "4                                       38%                        5%  "
      ]
     },
     "execution_count": 66,
     "metadata": {},
     "output_type": "execute_result"
    }
   ],
   "source": [
    "df_completo"
   ]
  },
  {
   "cell_type": "code",
   "execution_count": 67,
   "metadata": {},
   "outputs": [],
   "source": [
    "df_completo.to_csv('C:\\\\Users\\\\DELL\\\\Git\\\\Clases\\\\Semana 6\\datos\\\\prendas.csv')"
   ]
  },
  {
   "cell_type": "markdown",
   "metadata": {},
   "source": [
    "# Seppia"
   ]
  },
  {
   "cell_type": "code",
   "execution_count": 107,
   "metadata": {},
   "outputs": [],
   "source": [
    "driver = webdriver.Chrome()\n",
    "url_sepia = \"https://sepiia.com/pages/abrigo-air-coat-sepiia\"\n",
    "driver.get(url_proyecto)\n",
    "# colocar prints\n",
    "driver.maximize_window()\n",
    "driver.implicitly_wait(3)\n",
    "\n",
    "driver.execute_script(\"window.scrollBy(0, 100);\")\n",
    "\n",
    "driver.find_element('xpath', '/html/body/main/div[1]/section/a/div[1]/video[1]').click()\n",
    "\n",
    "driver.implicitly_wait(10)\n",
    "\n",
    "nombre = driver.find_element('xpath', '/html/body/main/section[1]/section/div/div[2]/div/div[2]/div[1]/h2').text\n",
    "\n",
    "precio = driver.find_element('xpath', '/html/body/main/section[1]/section/div/div[2]/div/div[2]/div[2]/div/div/div[2]/span[2]').text\n",
    "\n",
    "driver.execute_script(\"window.scrollBy(0, 1000);\")\n",
    "sleep(2)\n",
    "\n",
    "driver.find_element('xpath', '/html/body/main/section[1]/section/div/div[2]/div/div[11]/details/summary/div').click()\n",
    "\n",
    "descripcion_seppia = driver.find_element('xpath', '/html/body/main/section[1]/section/div/div[2]/div/div[11]/details/div/ul/li[7]/span').text\n",
    "\n",
    "driver.execute_script(\"window.scrollBy(0, 400);\")\n",
    "\n",
    "driver.find_element('xpath', '/html/body/main/section[1]/section/div/div[2]/div/div[12]/details/summary/div').click()\n",
    "\n",
    "entregas = driver.find_element('xpath', '/html/body/main/section[1]/section/div/div[2]/div/div[12]/details/div/p[2]').text"
   ]
  },
  {
   "cell_type": "code",
   "execution_count": 109,
   "metadata": {},
   "outputs": [
    {
     "data": {
      "text/plain": [
       "'AIR COAT AZUL MARINO'"
      ]
     },
     "execution_count": 109,
     "metadata": {},
     "output_type": "execute_result"
    }
   ],
   "source": [
    "nombre"
   ]
  },
  {
   "cell_type": "code",
   "execution_count": 110,
   "metadata": {},
   "outputs": [
    {
     "data": {
      "text/plain": [
       "'299,00€'"
      ]
     },
     "execution_count": 110,
     "metadata": {},
     "output_type": "execute_result"
    }
   ],
   "source": [
    "precio"
   ]
  },
  {
   "cell_type": "code",
   "execution_count": 105,
   "metadata": {},
   "outputs": [
    {
     "data": {
      "text/plain": [
       "'Fibras innovadoras de poliéster reciclado antibacteriano'"
      ]
     },
     "execution_count": 105,
     "metadata": {},
     "output_type": "execute_result"
    }
   ],
   "source": [
    "descripcion_seppia"
   ]
  },
  {
   "cell_type": "code",
   "execution_count": 108,
   "metadata": {},
   "outputs": [
    {
     "data": {
      "text/plain": [
       "'→ Entrega en 24-48 horas'"
      ]
     },
     "execution_count": 108,
     "metadata": {},
     "output_type": "execute_result"
    }
   ],
   "source": [
    "entregas"
   ]
  },
  {
   "cell_type": "code",
   "execution_count": 112,
   "metadata": {},
   "outputs": [],
   "source": [
    "df_seppia = pd.DataFrame({\n",
    "    'nombre':[nombre],\n",
    "    'precio': [precio],\n",
    "    'descripción': [descripcion_seppia],\n",
    "    'entregas': [entregas]})"
   ]
  },
  {
   "cell_type": "code",
   "execution_count": 114,
   "metadata": {},
   "outputs": [],
   "source": [
    "df_seppia.to_csv('C:\\\\Users\\\\DELL\\\\Git\\\\Clases\\\\Semana 6\\\\datos\\\\chaqueta_competencia.csv')"
   ]
  },
  {
   "cell_type": "code",
   "execution_count": null,
   "metadata": {},
   "outputs": [],
   "source": [
    "# Esperar a que el nombre del producto esté visible y obtener su texto\n",
    "\n",
    "\n",
    "# Mostrar el nombre del producto\n",
    "print(f\"Nombre del producto: {nombre_producto}\")\n",
    "\n",
    "# Obtener y mostrar el nombre del producto\n",
    "nombre_producto = titulo.text\n",
    "print(nombre_producto)\n",
    "\n",
    "precio = wait.until(EC.presence_of_element_located((By.CLASS_NAME, 'current-price')))\n",
    "precio_producto = precio.text\n",
    "print(precio_producto)\n",
    "\n",
    "# Esperar a que el color esté presente y obtener su valor\n",
    "color = wait.until(EC.presence_of_element_located((By.CLASS_NAME, 'label')))\n",
    "color_producto = color.text\n",
    "print(color_producto)\n",
    "\n",
    "sleep(2)\n",
    "try: \n",
    "    driver.find_element(\"xpath\", '/html/body/main/div/div[1]/div/div[2]/div[2]/div/div[9]/div/details/summary').click()\n",
    "except:\n",
    "    print('No encuentro el botón')\n",
    "\n",
    "ac_Desc = wait.until(EC.presence_of_element_located((\"xpath\", '/html/body/main/div/div[1]/div/div[2]/div[2]/div/div[9]/div/details/div/div')))\n",
    "descripciones = ac_Desc.find_element(\"xpath\", '/html/body/main/div/div[1]/div/div[2]/div[2]/div/div[9]/div/details/div/div/p[1]').text\n",
    "\n",
    "# Mostrar la descripción del producto\n",
    "print(f\"Descripción del producto: {descripciones}\")\n",
    "\n",
    "driver.execute_script(\"window.scrollBy(0, 250);\")\n",
    "\n",
    "sleep(2)\n",
    "try: \n",
    "    driver.find_element(\"xpath\", '/html/body/main/div/div[1]/div/div[2]/div[2]/div/div[12]/div/details/summary').click()\n",
    "except:\n",
    "    print('No encuentro el botón')\n",
    "\n",
    "ac_desglose = wait.until(EC.presence_of_element_located((\"xpath\", '/html/body/main/div/div[1]/div/div[2]/div[2]/div/div[12]/div/details/div/div')))\n",
    "costes = ac_desglose.find_elements(\"xpath\", '/html/body/main/div/div[1]/div/div[2]/div[2]/div/div[12]/div/details/div/div/ul/li')"
   ]
  },
  {
   "cell_type": "code",
   "execution_count": null,
   "metadata": {},
   "outputs": [],
   "source": []
  }
 ],
 "metadata": {
  "kernelspec": {
   "display_name": "Python 3",
   "language": "python",
   "name": "python3"
  },
  "language_info": {
   "codemirror_mode": {
    "name": "ipython",
    "version": 3
   },
   "file_extension": ".py",
   "mimetype": "text/x-python",
   "name": "python",
   "nbconvert_exporter": "python",
   "pygments_lexer": "ipython3",
   "version": "3.11.9"
  }
 },
 "nbformat": 4,
 "nbformat_minor": 2
}

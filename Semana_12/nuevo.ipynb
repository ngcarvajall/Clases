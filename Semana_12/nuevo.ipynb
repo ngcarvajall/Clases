{
 "cells": [
  {
   "cell_type": "code",
   "execution_count": 1,
   "metadata": {},
   "outputs": [],
   "source": [
    "import tensorflow as tf\n",
    "import keras\n",
    "\n",
    "\n",
    "from tensorflow.keras.layers import Rescaling\n",
    "from tensorflow.keras.utils import image_dataset_from_directory\n",
    "\n",
    "\n",
    "\n",
    "\n",
    "\n",
    "from tensorflow.keras.models import Sequential\n",
    "from tensorflow.keras.layers import Input, Conv2D, BatchNormalization, MaxPooling2D, Dropout, Flatten, Dense\n",
    "\n",
    "from tensorflow.keras.callbacks import EarlyStopping, ModelCheckpoint\n",
    "\n",
    "\n",
    "from tensorflow.keras.metrics import Precision, Recall"
   ]
  },
  {
   "cell_type": "code",
   "execution_count": 4,
   "metadata": {},
   "outputs": [],
   "source": [
    "from tensorflow.keras.utils import load_img, img_to_array\n",
    "import numpy as np\n",
    "import matplotlib.pyplot as plt"
   ]
  },
  {
   "cell_type": "code",
   "execution_count": 8,
   "metadata": {},
   "outputs": [],
   "source": [
    "train_dirt = 'datos/Train'\n",
    "val_dirt = 'datos/Validation'\n",
    "test_dirt = 'datos/Test'"
   ]
  },
  {
   "cell_type": "code",
   "execution_count": 9,
   "metadata": {},
   "outputs": [
    {
     "name": "stdout",
     "output_type": "stream",
     "text": [
      "Found 1322 files belonging to 3 classes.\n",
      "Found 60 files belonging to 3 classes.\n",
      "Found 150 files belonging to 3 classes.\n"
     ]
    }
   ],
   "source": [
    "image_size = (256,256)\n",
    "batch_size = 16\n",
    "# carga y división de los datos (train test split)\n",
    "train = image_dataset_from_directory(train_dirt,\n",
    "                                     labels = 'inferred',\n",
    "                                     class_names = ['Healthy', 'Powdery', 'Rust'], # si y solo si los nombres de clases no estan en el directorio del conjunto de entrenamiento\n",
    "                                    #  validation_split = 0.2, #si nuestro banco no esta clasificado anteriormente\n",
    "                                    # subset = 'training'\n",
    "                                    label_mode = 'categorical',\n",
    "                                    image_size = image_size,\n",
    "                                    batch_size = batch_size,\n",
    "                                    seed = 42\n",
    "                                                                                                               )\n",
    "\n",
    "val = image_dataset_from_directory(val_dirt,\n",
    "                                     labels = 'inferred',\n",
    "                                     class_names = ['Healthy', 'Powdery', 'Rust'], # si y solo si los nombres de clases no estan en el directorio del conjunto de entrenamiento\n",
    "                                    #  validation_split = 0.2, #si nuestro banco no esta clasificado anteriormente\n",
    "                                    # subset = 'training'\n",
    "                                    label_mode = 'categorical',\n",
    "                                    image_size = image_size,\n",
    "                                    batch_size = batch_size,\n",
    "                                    seed = 42\n",
    "                                                                                                               )\n",
    "\n",
    "\n",
    "test = image_dataset_from_directory(test_dirt,\n",
    "                                     labels = 'inferred',\n",
    "                                     class_names = ['Healthy', 'Powdery', 'Rust'], # si y solo si los nombres de clases no estan en el directorio del conjunto de entrenamiento\n",
    "                                    #  validation_split = 0.2, #si nuestro banco no esta clasificado anteriormente\n",
    "                                    # subset = 'training'\n",
    "                                    label_mode = 'categorical',\n",
    "                                    image_size = image_size,\n",
    "                                    batch_size = batch_size,\n",
    "                                    seed = 42\n",
    "                                                                                                               )"
   ]
  },
  {
   "cell_type": "code",
   "execution_count": 10,
   "metadata": {},
   "outputs": [],
   "source": [
    "scaler = Rescaling(1.0/255) # re-escalar con las dimensiones anteriores\n",
    "train = train.map(lambda x,y: (scaler(x),y))\n",
    "val = val.map(lambda x,y: (scaler(x),y))\n",
    "test = test.map(lambda x,y: (scaler(x),y))"
   ]
  },
  {
   "cell_type": "code",
   "execution_count": 11,
   "metadata": {},
   "outputs": [],
   "source": [
    "augmentation = tf.keras.Sequential(\n",
    "    [\n",
    "        tf.keras.layers.RandomRotation(\n",
    "            factor=(-0.25, 0.3),\n",
    "            fill_mode='reflect',\n",
    "            interpolation='bilinear',\n",
    "            seed=42),\n",
    "\n",
    "        tf.keras.layers.RandomBrightness(\n",
    "            factor=(-0.45, 0.45),\n",
    "            value_range=(0.0, 1.0),\n",
    "            seed=42),\n",
    "\n",
    "        tf.keras.layers.RandomContrast(\n",
    "            factor=0.5,\n",
    "            seed=42),\n",
    "\n",
    "        tf.keras.layers.RandomFlip(\n",
    "            mode='horizontal_and_vertical', \n",
    "            seed=42),\n",
    "\n",
    "        tf.keras.layers.RandomZoom(\n",
    "            height_factor=(-0.2, 0.2),\n",
    "            width_factor=(-0.2, 0.2),\n",
    "            seed=42),\n",
    "\n",
    "        tf.keras.layers.RandomTranslation(\n",
    "            height_factor=0.2,\n",
    "            width_factor=0.2,\n",
    "            fill_mode='reflect',\n",
    "            seed=42)\n",
    "    ]\n",
    ")"
   ]
  },
  {
   "cell_type": "code",
   "execution_count": null,
   "metadata": {},
   "outputs": [],
   "source": []
  },
  {
   "cell_type": "code",
   "execution_count": null,
   "metadata": {},
   "outputs": [],
   "source": [
    "model.compile(optimizer=tf.keras.optimizers.Adam(learning_rate=0.001,\n",
    "                                                 loss= 'categorical_crossentropy', \n",
    "                                                 metrics = ['accuracy']))"
   ]
  },
  {
   "cell_type": "code",
   "execution_count": null,
   "metadata": {},
   "outputs": [],
   "source": [
    "early_stopping = EarlyStopping(monitor='val_loss', patience=5, restore_best_weights=True)\n",
    "\n",
    "checkpoint = ModelCheckpoint(filepath='best_model2.keras',\n",
    "                             monitor='val_accuracy',\n",
    "                             save_best_only=True,\n",
    "                             mode='max')"
   ]
  }
 ],
 "metadata": {
  "kernelspec": {
   "display_name": "deep_learning",
   "language": "python",
   "name": "python3"
  },
  "language_info": {
   "codemirror_mode": {
    "name": "ipython",
    "version": 3
   },
   "file_extension": ".py",
   "mimetype": "text/x-python",
   "name": "python",
   "nbconvert_exporter": "python",
   "pygments_lexer": "ipython3",
   "version": "3.12.8"
  }
 },
 "nbformat": 4,
 "nbformat_minor": 2
}

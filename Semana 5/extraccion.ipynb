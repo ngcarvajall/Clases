{
 "cells": [
  {
   "cell_type": "code",
   "execution_count": 1,
   "metadata": {},
   "outputs": [],
   "source": [
    "from selenium.webdriver.support.ui import WebDriverWait\n",
    "from selenium.webdriver.common.by import By\n",
    "from selenium.webdriver.support import expected_conditions as EC\n",
    "from time import sleep\n",
    "# Selenium para establecer la configuración del driver\n",
    "# -----------------------------------------------------------------------\n",
    "from selenium import webdriver\n",
    "\n",
    "# Para generar una barra de proceso en los bucles for\n",
    "# -----------------------------------------------------------------------\n",
    "from tqdm import tqdm\n",
    "\n",
    "# Para trabajar con ficheros\n",
    "# -----------------------------------------------------------------------\n",
    "import os\n",
    "\n",
    "import re\n",
    "\n",
    "import zipfile\n",
    "import shutil"
   ]
  },
  {
   "cell_type": "code",
   "execution_count": 68,
   "metadata": {},
   "outputs": [],
   "source": [
    "# lo primero que vamos a hacer es configurar nuestras preferencias del navegador para el driver\n",
    "chrome_options = webdriver.ChromeOptions()\n",
    "\n",
    "# establacemos las preferencias que queremos\n",
    "prefs = {\n",
    "    \"download.default_directory\": \"C:\\\\Users\\\\DELL\\\\Git\\\\Clases\\\\Semana 5\\\\datos\",  # AQUÍ CADA UNO TENDREMOS QUE PONER LA RUTA QUE QUERAMOS PARA QUE SE GUARDEN LOS ARCHIVOS DESCARGADOS\n",
    "    \"download.prompt_for_download\": False,   # desactiva el diálogo que Chrome normalmente muestra para pedir confirmación del usuario antes de descargar un archivo\n",
    "    \"directory_upgrade\": True,\n",
    "    \"safebrowsing.enabled\": True, # Desactiva las alertas de archivos peligrosos\n",
    "    \"plugins.always_open_pdf_externally\": True,  \n",
    "    # hace que Chrome actualice el directorio de descarga predeterminado a la nueva ubicación especificada por download.default_directory si esta ha cambiado.\n",
    "}\n",
    "\n",
    "url = \"https://www.sanidad.gob.es/estadisticas/microdatos.do\"\n",
    "chrome_options.add_experimental_option(\"prefs\", prefs) #añade las opciones \n",
    "\n",
    "driver = webdriver.Chrome(options= chrome_options) # le decimos las opciones que hemos hecho previamente\n",
    "\n",
    "driver.get(url)"
   ]
  },
  {
   "cell_type": "markdown",
   "metadata": {},
   "source": [
    "prefs = {\n",
    "    \"download.default_directory\": \"C:\\HACKIO_DATA\\BOOTCAMP\\DATA SCIENCIE AR\\Modulo4\\datos_descargados\",\n",
    "    \"download.prompt_for_download\": False,\n",
    "    \"download.directory_upgrade\": True,\n",
    "    \"safebrowsing.enabled\": True,  # Desactiva las alertas de archivos peligrosos\n",
    "    \"plugins.always_open_pdf_externally\": True,  # Si el archivo es PDF, abrirlo directamente sin confirmación\n",
    "}"
   ]
  },
  {
   "cell_type": "code",
   "execution_count": 69,
   "metadata": {},
   "outputs": [],
   "source": [
    "driver.find_element('css selector', '#tipoMicrodatos').click()\n",
    "sleep(2)\n",
    "driver.find_element('css selector',  '#tipoMicrodatos > option:nth-child(7)').click()\n",
    "sleep(2)\n",
    "anios_padre = driver.find_elements('css selector', '#anioMicrodatos')"
   ]
  },
  {
   "cell_type": "code",
   "execution_count": 70,
   "metadata": {},
   "outputs": [],
   "source": [
    "cant_anios = anios_padre[0].find_elements(By.TAG_NAME, 'option')\n",
    "#tipoMicrodatos > option:nth-child(8)"
   ]
  },
  {
   "cell_type": "code",
   "execution_count": 71,
   "metadata": {},
   "outputs": [
    {
     "name": "stdout",
     "output_type": "stream",
     "text": [
      "13\n"
     ]
    }
   ],
   "source": [
    "print(len(cant_anios))"
   ]
  },
  {
   "cell_type": "code",
   "execution_count": 72,
   "metadata": {},
   "outputs": [
    {
     "name": "stderr",
     "output_type": "stream",
     "text": [
      "100%|██████████| 12/12 [02:22<00:00, 11.84s/it]\n"
     ]
    }
   ],
   "source": [
    "for anio in tqdm(range(2, len(cant_anios) +1 )):\n",
    "    \n",
    "    WebDriverWait(driver, 10).until(EC.element_to_be_clickable((By.CSS_SELECTOR, f\"#anioMicrodatos > option:nth-child({anio})\"))).click()\n",
    "\n",
    "    sleep(3)\n",
    "\n",
    "    driver.find_element(\"css selector\", \"#fl1 > div.text-center > input\").click()\n",
    "\n",
    "    sleep(2)\n",
    "\n",
    "    driver.find_element(By.PARTIAL_LINK_TEXT, '.zip').click()\n",
    "\n",
    "    # driver.find_element(\"css selector\", \"#estMicrodato > ul:nth-child(28) > li > a\").click()\n",
    "\n",
    "    \n",
    "    driver.back()\n",
    "    sleep(5)"
   ]
  },
  {
   "cell_type": "code",
   "execution_count": 74,
   "metadata": {},
   "outputs": [
    {
     "name": "stdout",
     "output_type": "stream",
     "text": [
      "<re.Match object; span=(0, 4), match='2010'>\n",
      "<re.Match object; span=(0, 4), match='2011'>\n",
      "<re.Match object; span=(0, 4), match='2012'>\n",
      "<re.Match object; span=(0, 4), match='2013'>\n",
      "<re.Match object; span=(0, 4), match='2014'>\n",
      "<re.Match object; span=(0, 4), match='2015'>\n",
      "<re.Match object; span=(0, 4), match='2016'>\n",
      "<re.Match object; span=(4, 8), match='2020'>\n",
      "<re.Match object; span=(5, 9), match='2017'>\n",
      "<re.Match object; span=(5, 9), match='2018'>\n",
      "<re.Match object; span=(5, 9), match='2019'>\n",
      "<re.Match object; span=(6, 10), match='2021'>\n"
     ]
    }
   ],
   "source": [
    "ruta = \"C:\\\\Users\\\\DELL\\\\Git\\\\Clases\\\\Semana 5\\\\datos\"\n",
    "for archivo in os.listdir(ruta):  # lista todo de mi ubicación de mi jupyter\n",
    "    patron_anio = r\"\\d{4}\"\n",
    "\n",
    "    anio_regex = re.search(patron_anio, archivo)\n",
    "    print(anio_regex)\n",
    "\n",
    "    if anio_regex:\n",
    "        anio = anio_regex.group()\n",
    "\n",
    "        os.rename(f'{ruta}/{archivo}', f'{ruta}/{anio}.zip') #renombra el archivo"
   ]
  },
  {
   "cell_type": "code",
   "execution_count": 78,
   "metadata": {},
   "outputs": [
    {
     "name": "stdout",
     "output_type": "stream",
     "text": [
      "2011.zip\n",
      "C:/Users/DELL/Git/Clases/Semana 5/datos\\2011.zip\n",
      "2012.zip\n",
      "C:/Users/DELL/Git/Clases/Semana 5/datos\\2012.zip\n",
      "2013.zip\n",
      "C:/Users/DELL/Git/Clases/Semana 5/datos\\2013.zip\n",
      "2014.zip\n",
      "C:/Users/DELL/Git/Clases/Semana 5/datos\\2014.zip\n",
      "2015.zip\n",
      "C:/Users/DELL/Git/Clases/Semana 5/datos\\2015.zip\n",
      "2016.zip\n",
      "C:/Users/DELL/Git/Clases/Semana 5/datos\\2016.zip\n",
      "2017.zip\n",
      "C:/Users/DELL/Git/Clases/Semana 5/datos\\2017.zip\n",
      "2018.zip\n",
      "C:/Users/DELL/Git/Clases/Semana 5/datos\\2018.zip\n",
      "2019.zip\n",
      "C:/Users/DELL/Git/Clases/Semana 5/datos\\2019.zip\n",
      "2020.zip\n",
      "C:/Users/DELL/Git/Clases/Semana 5/datos\\2020.zip\n",
      "2021.zip\n",
      "C:/Users/DELL/Git/Clases/Semana 5/datos\\2021.zip\n",
      "descomprimidos\n",
      "C:/Users/DELL/Git/Clases/Semana 5/datos\\descomprimidos\n"
     ]
    },
    {
     "ename": "PermissionError",
     "evalue": "[Errno 13] Permission denied: 'C:/Users/DELL/Git/Clases/Semana 5/datos\\\\descomprimidos'",
     "output_type": "error",
     "traceback": [
      "\u001b[1;31m---------------------------------------------------------------------------\u001b[0m",
      "\u001b[1;31mPermissionError\u001b[0m                           Traceback (most recent call last)",
      "Cell \u001b[1;32mIn[78], line 19\u001b[0m\n\u001b[0;32m     16\u001b[0m ruta_final \u001b[38;5;241m=\u001b[39m \u001b[38;5;124mf\u001b[39m\u001b[38;5;124m\"\u001b[39m\u001b[38;5;124mC:/Users/DELL/Git/Clases/Semana 5/datos/descomprimidos/\u001b[39m\u001b[38;5;132;01m{\u001b[39;00mitem\u001b[38;5;241m.\u001b[39msplit(\u001b[38;5;124m'\u001b[39m\u001b[38;5;124m.\u001b[39m\u001b[38;5;124m'\u001b[39m)[\u001b[38;5;241m0\u001b[39m]\u001b[38;5;132;01m}\u001b[39;00m\u001b[38;5;124m\"\u001b[39m\n\u001b[0;32m     17\u001b[0m os\u001b[38;5;241m.\u001b[39mmakedirs(ruta_final, exist_ok\u001b[38;5;241m=\u001b[39m\u001b[38;5;28;01mTrue\u001b[39;00m)\n\u001b[1;32m---> 19\u001b[0m \u001b[38;5;28;01mwith\u001b[39;00m \u001b[43mzipfile\u001b[49m\u001b[38;5;241;43m.\u001b[39;49m\u001b[43mZipFile\u001b[49m\u001b[43m(\u001b[49m\u001b[43mruta_origen\u001b[49m\u001b[43m)\u001b[49m \u001b[38;5;28;01mas\u001b[39;00m zip_ref:\n\u001b[0;32m     20\u001b[0m     zip_ref\u001b[38;5;241m.\u001b[39mextractall(ruta_final)\n",
      "File \u001b[1;32mC:\\Program Files\\WindowsApps\\PythonSoftwareFoundation.Python.3.11_3.11.2544.0_x64__qbz5n2kfra8p0\\Lib\\zipfile.py:1294\u001b[0m, in \u001b[0;36mZipFile.__init__\u001b[1;34m(self, file, mode, compression, allowZip64, compresslevel, strict_timestamps, metadata_encoding)\u001b[0m\n\u001b[0;32m   1292\u001b[0m \u001b[38;5;28;01mwhile\u001b[39;00m \u001b[38;5;28;01mTrue\u001b[39;00m:\n\u001b[0;32m   1293\u001b[0m     \u001b[38;5;28;01mtry\u001b[39;00m:\n\u001b[1;32m-> 1294\u001b[0m         \u001b[38;5;28mself\u001b[39m\u001b[38;5;241m.\u001b[39mfp \u001b[38;5;241m=\u001b[39m io\u001b[38;5;241m.\u001b[39mopen(file, filemode)\n\u001b[0;32m   1295\u001b[0m     \u001b[38;5;28;01mexcept\u001b[39;00m \u001b[38;5;167;01mOSError\u001b[39;00m:\n\u001b[0;32m   1296\u001b[0m         \u001b[38;5;28;01mif\u001b[39;00m filemode \u001b[38;5;129;01min\u001b[39;00m modeDict:\n",
      "\u001b[1;31mPermissionError\u001b[0m: [Errno 13] Permission denied: 'C:/Users/DELL/Git/Clases/Semana 5/datos\\\\descomprimidos'"
     ]
    }
   ],
   "source": [
    "carpeta_descomprimir = \"C:/Users/DELL/Git/Clases/Semana 5/datos/descomprimidos\"\n",
    "carpeta_zips = \"C:/Users/DELL/Git/Clases/Semana 5/datos\"\n",
    "\n",
    "if not os.path.exists(carpeta_descomprimir):\n",
    "    os.mkdir(carpeta_descomprimir)\n",
    "\n",
    "# este codigo hace lo mismo que lo anterior\n",
    "os.makedirs(carpeta_descomprimir, exist_ok= True)\n",
    "\n",
    "for item in os.listdir(carpeta_zips)[1:]:\n",
    "    print(item)\n",
    "\n",
    "    ruta_origen = os.path.join(carpeta_zips, item)\n",
    "    print(ruta_origen)\n",
    "\n",
    "    ruta_final = f\"C:/Users/DELL/Git/Clases/Semana 5/datos/descomprimidos/{item.split('.')[0]}\"\n",
    "    os.makedirs(ruta_final, exist_ok=True)\n",
    "\n",
    "    with zipfile.ZipFile(ruta_origen) as zip_ref:\n",
    "        zip_ref.extractall(ruta_final)"
   ]
  },
  {
   "cell_type": "code",
   "execution_count": null,
   "metadata": {},
   "outputs": [],
   "source": [
    "\n",
    "# if not os.path.exists(carpeta_descomprimir):\n",
    "#     os.mkdir(carpeta_descomprimir)\n",
    "\n",
    "# #este hace lo mismo que el anterior\n",
    "# if not os.path.exists(carpeta_descomprimir):\n",
    "#     os.makedirs(carpeta_descomprimir, exist_ok=True)\n",
    "\n",
    "# for item in os.listdir(carpeta_zips)[1:]:\n",
    "#     print(item)\n",
    "#     ruta_origen = os.path.join(carpeta_zips, item)\n",
    "#     print(ruta_origen)\n",
    "\n",
    "#     ruta_final = f'C:/Users/DELL/Git/Clases/Semana 5/datos/descomprimidos/{item.split('.')[0]}'\n",
    "\n",
    "#     os.makedirs(ruta_final, exist_ok=True)\n",
    "#     with zipfile.ZipFile(ruta_origen) as zip_ref:\n",
    "#         zip_ref.extractall(ruta_final)\n"
   ]
  },
  {
   "cell_type": "code",
   "execution_count": null,
   "metadata": {},
   "outputs": [],
   "source": [
    "# if not os.path.exists(carpeta_descomprimir):\n",
    "#     os.mkdir(carpeta_descomprimir)\n",
    "\n",
    "# # este codigo hace lo mismo que lo anterior\n",
    "# os.makedirs(carpeta_descomprimir, exist_ok= True)\n",
    "\n",
    "# for item in os.listdir(carpeta_zips)[1:]:\n",
    "#     print(item)\n",
    "\n",
    "#     ruta_origen = os.path.join(carpeta_zips, item)\n",
    "#     print(ruta_origen)\n",
    "\n",
    "#     ruta_final = f\"/Users/ana.garcia/Documents/clases/DS/Modulo5/datos/DatosDescomprimidos/{item.split('.')[0]}\"\n",
    "#     os.makedirs(ruta_final, exist_ok=True)\n",
    "\n",
    "#     with zipfile.ZipFile(ruta_origen) as zip_ref:\n",
    "#         zip_ref.extractall(ruta_final)"
   ]
  },
  {
   "cell_type": "code",
   "execution_count": 100,
   "metadata": {},
   "outputs": [],
   "source": [
    "carpeta_descomprimir = \"C:/Users/DELL/Git/Clases/Semana 5/datos/descomprimidos\"\n",
    "def identificar_fichero_carpeta(ruta_check):\n",
    "\n",
    "\n",
    "    for elemento in os.listdir(ruta_check):\n",
    "\n",
    "        archivo_check = os.path.join(ruta_check, elemento)\n",
    "        if os.path.isdir(archivo_check):\n",
    "            return archivo_check\n",
    "        elif os.path.isfile(archivo_check):\n",
    "            return None\n",
    "        else:\n",
    "            print('Puede estar vacia')\n",
    "        print('-----')\n",
    "\n"
   ]
  },
  {
   "cell_type": "code",
   "execution_count": 101,
   "metadata": {},
   "outputs": [],
   "source": [
    "for carpeta in os.listdir(carpeta_descomprimir):\n",
    "    ruta = os.path.join(carpeta_descomprimir, carpeta)\n",
    "    ruta_original = identificar_fichero_carpeta(ruta)\n",
    "    if ruta_original:\n",
    "        print('pasan cosas')\n",
    "        for archivo in os.listdir(ruta_original):\n",
    "            \n",
    "            ruta_mover = os.path.join(ruta_original, archivo)\n",
    "            print(ruta_mover)\n",
    "            shutil.move(ruta_mover, ruta)\n",
    "        os.removedirs(ruta_original)\n",
    "\n",
    "    else:\n",
    "        pass\n"
   ]
  },
  {
   "cell_type": "code",
   "execution_count": null,
   "metadata": {},
   "outputs": [],
   "source": []
  }
 ],
 "metadata": {
  "kernelspec": {
   "display_name": "Python 3",
   "language": "python",
   "name": "python3"
  },
  "language_info": {
   "codemirror_mode": {
    "name": "ipython",
    "version": 3
   },
   "file_extension": ".py",
   "mimetype": "text/x-python",
   "name": "python",
   "nbconvert_exporter": "python",
   "pygments_lexer": "ipython3",
   "version": "3.11.9"
  }
 },
 "nbformat": 4,
 "nbformat_minor": 2
}

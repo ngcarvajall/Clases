{
 "cells": [
  {
   "cell_type": "markdown",
   "metadata": {},
   "source": [
    "\n",
    "<div style=\"text-align: center;\">\n",
    "  <img src=\"https://github.com/Hack-io-Data/Imagenes/blob/main/01-LogosHackio/logo_celeste@4x.png?raw=true\" alt=\"esquema\" />\n",
    "</div>\n"
   ]
  },
  {
   "cell_type": "markdown",
   "metadata": {
    "toc": true
   },
   "source": [
    "<h1>Table of Contents<span class=\"tocSkip\"></span></h1>\n",
    "<div class=\"toc\"><ul class=\"toc-item\"><li><span><a href=\"#Control-de-errores\" data-toc-modified-id=\"Control-de-errores-1\"><span class=\"toc-item-num\">1&nbsp;&nbsp;</span>Control de errores</a></span><ul class=\"toc-item\"><li><span><a href=\"#try-...-except:\" data-toc-modified-id=\"try-...-except:-1.1\"><span class=\"toc-item-num\">1.1&nbsp;&nbsp;</span><code>try ... except</code>:</a></span></li><li><span><a href=\"#try-...-except-...-except-...\" data-toc-modified-id=\"try-...-except-...-except-...-1.2\"><span class=\"toc-item-num\">1.2&nbsp;&nbsp;</span><code>try ... except ... except ...</code></a></span></li><li><span><a href=\"#try-...-except-...-else-...\" data-toc-modified-id=\"try-...-except-...-else-...-1.3\"><span class=\"toc-item-num\">1.3&nbsp;&nbsp;</span><code>try ... except ... else ...</code></a></span></li><li><span><a href=\"#try-...-except-...-else-...-finally-...\" data-toc-modified-id=\"try-...-except-...-else-...-finally-...-1.4\"><span class=\"toc-item-num\">1.4&nbsp;&nbsp;</span><code>try ... except ... else ... finally ...</code></a></span></li></ul></li></ul></div>"
   ]
  },
  {
   "cell_type": "markdown",
   "metadata": {},
   "source": [
    "# Control de Errores: Programación Defensiva Avanzada\n",
    "\n",
    "El concepto de **programación defensiva** se refiere a un enfoque en el que el programador anticipa posibles errores, excepciones y casos límite que pueden surgir durante la ejecución de un programa. El objetivo principal de esta técnica es aumentar la robustez y estabilidad del código, asegurando que pueda gestionar situaciones inesperadas de manera segura y sin fallos críticos.\n",
    "\n",
    "Python ofrece un conjunto de herramientas para manejar errores y excepciones. Entre las más importantes se encuentran las estructuras `try`, `except`, `else`, y `finally`. Estas herramientas permiten capturar y gestionar excepciones de manera controlada, proporcionando alternativas seguras cuando el código no se comporta como se esperaba.\n",
    "\n",
    "- `Estructura Básica`: `try` ... `except`: Esta estructura se utiliza para capturar excepciones específicas o generales que puedan ocurrir dentro del bloque `try`.\n",
    "\n",
    "    ```python\n",
    "    try:\n",
    "        # Código que puede generar una excepción\n",
    "    except TipoDeExcepcion:\n",
    "        # Código que se ejecuta si ocurre la excepción\n",
    "    ```\n",
    "\n",
    "    Cuando se coloca un bloque de código dentro de un `try`, se asume que dicho código podría generar una excepción. Si se produce una excepción del tipo indicado, el control del programa pasa automáticamente al bloque `except`, evitando que el programa se detenga inesperadamente.\n",
    "\n",
    "- `Manejo Específico de Errores`: `try` ... `except` ... `except`: Es posible manejar múltiples tipos de excepciones con diferentes bloques `except`, lo que nos permite una mayor precisión en la gestión de errores. Esto es útil cuando diferentes excepciones requieren respuestas distintas. Por ejemplo, podríamos manejar un `ValueError` de manera diferente a un `FileNotFoundError`.\n",
    "\n",
    "\n",
    "    ```python\n",
    "    try:\n",
    "        # Código que puede generar excepciones\n",
    "    except TipoDeExcepcion1:\n",
    "        # Manejo específico para TipoDeExcepcion1\n",
    "    except TipoDeExcepcion2:\n",
    "        # Manejo específico para TipoDeExcepcion2\n",
    "    ```\n",
    "\n",
    "\n",
    "- `Ejecución Condicional`: `try` ... `except` ... `else`: El bloque `else` se ejecuta únicamente si no se produjo ninguna excepción en el bloque `try`. Esta estructura es útil cuando tienes código que solo debería ejecutarse si todo dentro del `try` fue exitoso.\n",
    "\n",
    "    ```python\n",
    "    try:\n",
    "        # Código que puede generar excepciones\n",
    "    except TipoDeExcepcion:\n",
    "        # Código que se ejecuta si ocurre la excepción\n",
    "    else:\n",
    "        # Código que se ejecuta solo si no hubo excepciones\n",
    "    ```\n",
    "\n",
    "- `Limpieza y Recursos`: `try` ... `except` ... `finally`: El bloque `finally` se ejecuta siempre, independientemente de si ocurrió o no una excepción. Es ideal para la limpieza de recursos, como cerrar archivos o liberar conexiones a bases de datos.\n",
    "\n",
    "    ```python\n",
    "    try:\n",
    "        # Código que puede generar excepciones\n",
    "    except TipoDeExcepcion:\n",
    "        # Código que se ejecuta si ocurre la excepción\n",
    "    finally:\n",
    "        # Código que se ejecuta siempre, ocurra o no una excepción\n",
    "    ```\n",
    "\n",
    "**Buenas Prácticas en el Manejo de Errores**\n",
    "\n",
    "- Debemos utilizar bloques `try` ... `except` solo cuando realmente esperemos una excepción. Rodear demasiado código con bloques de control de errores puede dificultar la lectura y depuración.\n",
    "\n",
    "- Siempre que nuestro código maneje recursos que necesitan ser liberados (archivos, conexiones, etc.), debemos asegurarnos de utilizar `finally` para garantizar que la limpieza se realice, ocurra o no un error.\n",
    "\n",
    "- Debemos asegurarnos de que el propósito y las condiciones de tus bloques `try` ... `except` estén claros para otros desarrolladores que lean tu código."
   ]
  },
  {
   "cell_type": "markdown",
   "metadata": {},
   "source": [
    "## `try ... except`:\n",
    "\n",
    "El manejo de errores con `try` y `except` es una técnica común en Python para controlar los errores que pueden ocurrir durante la ejecución del programa. La idea básica detrás de esta técnica es que el programador envuelve una sección de código potencialmente peligrosa en un bloque try, y luego define una o más cláusulas except que manejan los errores que pueden ocurrir en ese bloque.\n",
    "\n",
    "\n",
    "\n",
    "Su sintaxis es: \n",
    "\n",
    "```python\n",
    "try:\n",
    "    # código que puede generar un error\n",
    "except ExceptionType:\n",
    "    # código para manejar el error\n",
    "\n",
    "``` \n",
    "\n",
    "En este código vemos que tenemos `ExceptionType`, pero ... ¿qué es esto? \n",
    "\n",
    "El término `ExceptionType` se refiere a la clase de excepción que se utiliza para manejar un error específico en un código. Cada tipo de excepción tiene su propia clase de excepción correspondiente que se utiliza para capturar y manejar errores específicos en el código. Por ejemplo, si queremos manejar una excepción de tipo `ValueError`, podemos usar la clase de excepción correspondiente \"ValueError\". Entonces, si se produce un error de este tipo en nuestro código, podemos capturarlo usando una declaración `try-except` y especificando \"ValueError\" como el tipo de excepción que queremos manejar. Los más usuales son: \n",
    "\n",
    "- `TypeError`:Se produce cuando una función o operación se aplica a un objeto de tipo inapropiado.\n",
    "\n",
    "- `ValueError`: Se produce cuando una función o método recibe un argumento de tipo correcto pero con un valor inapropiado.\n",
    "\n",
    "- `IndexError`: Se produce cuando se intenta acceder a un índice que está fuera del rango de una lista o secuencia.\n",
    "\n",
    "- `KeyError`: Se produce cuando se intenta acceder a una clave que no existe en un diccionario.\n",
    "\n",
    "- `AttributeError`: Se produce cuando se intenta acceder a un atributo que no existe en un objeto.\n",
    "\n",
    "- `IOError`: Se produce cuando se intenta acceder a un archivo que no existe o no se puede abrir.\n",
    "\n",
    "- `ZeroDivisionError`:Se produce cuando se intenta dividir un número por cero.\n",
    "\n",
    "- `ImportError`: Se produce cuando no se puede importar un módulo.\n",
    "\n",
    "- `KeyboardInterrupt`: Se produce cuando el usuario interrumpe la ejecución del programa.\n"
   ]
  },
  {
   "cell_type": "code",
   "execution_count": 1,
   "metadata": {},
   "outputs": [
    {
     "ename": "ZeroDivisionError",
     "evalue": "division by zero",
     "output_type": "error",
     "traceback": [
      "\u001b[1;31m---------------------------------------------------------------------------\u001b[0m",
      "\u001b[1;31mZeroDivisionError\u001b[0m                         Traceback (most recent call last)",
      "Cell \u001b[1;32mIn[1], line 8\u001b[0m\n\u001b[0;32m      5\u001b[0m \u001b[38;5;66;03m# empezamos nuestro for loop usando un range, que recordemos nos crea una secuencia de números, en este caso entre el -3 y el 5(no incluido)\u001b[39;00m\n\u001b[0;32m      6\u001b[0m \u001b[38;5;28;01mfor\u001b[39;00m i \u001b[38;5;129;01min\u001b[39;00m \u001b[38;5;28mrange\u001b[39m(\u001b[38;5;241m-\u001b[39m\u001b[38;5;241m3\u001b[39m, \u001b[38;5;241m5\u001b[39m):\n\u001b[0;32m      7\u001b[0m     \u001b[38;5;66;03m# añadimos los resultado de la división  en la lista vacía\u001b[39;00m\n\u001b[1;32m----> 8\u001b[0m     divisiones2\u001b[38;5;241m.\u001b[39mappend(\u001b[38;5;241;43m2\u001b[39;49m\u001b[43m \u001b[49m\u001b[38;5;241;43m/\u001b[39;49m\u001b[43m \u001b[49m\u001b[43mi\u001b[49m)\n",
      "\u001b[1;31mZeroDivisionError\u001b[0m: division by zero"
     ]
    }
   ],
   "source": [
    "# imaginemos que queremos hacer una lista con los resultados de la division de 2 entre una serie de numeros, entre ellos el 0, que pasará? Recordemos que un número nunca podrá dividirse entre 0. \n",
    "# creamos la lista vacía para ir añadiendo los resultados de la división\n",
    "divisiones2 = []\n",
    "\n",
    "# empezamos nuestro for loop usando un range, que recordemos nos crea una secuencia de números, en este caso entre el -3 y el 5(no incluido)\n",
    "for i in range(-3, 5):\n",
    "    # añadimos los resultado de la división  en la lista vacía\n",
    "    divisiones2.append(2 / i)"
   ]
  },
  {
   "cell_type": "markdown",
   "metadata": {},
   "source": [
    "Vaya... nos devuelve un error, y es que, como hemos dicho, no podemos dividir entre 0. Lo malo de esto es que no se ha podido ejecutar todo el código, ya que en el momento en el que se produjo el error el código se paró y no pudo continuar con el código. Para estas situaciones son útiles los `try: ... except:`. Lo que haremos será decirle a nuestro código, intenta hacer esto, que no puedes... no pasa nada! Veamos un ejemplo: "
   ]
  },
  {
   "cell_type": "code",
   "execution_count": 3,
   "metadata": {},
   "outputs": [
    {
     "name": "stdout",
     "output_type": "stream",
     "text": [
      "La lista de 'divisiones3' antes del for loop contiene: [] \n",
      "\n",
      "-3\n",
      "-2\n",
      "-1\n",
      "0\n",
      "🚨 no se puede dividir entre 0\n",
      "1\n",
      "2\n",
      "3\n",
      "4\n",
      "\n",
      "La lista de 'divisiones3' después del for loop contiene: [-0.6666666666666666, -1.0, -2.0, 'no data', 2.0, 1.0, 0.6666666666666666, 0.5]\n"
     ]
    }
   ],
   "source": [
    "# esta parte de código es igual que en la celda anterior\n",
    "divisiones3 = []\n",
    "print(f\"La lista de 'divisiones3' antes del for loop contiene: {divisiones3} \\n\")\n",
    "\n",
    "for i in range(-3, 5):\n",
    "\n",
    "    # con el try le decimos que intente hacer una parte del código\n",
    "    try:\n",
    "        print(i)\n",
    "        divisiones3.append(2 / i)\n",
    "    \n",
    "    # en caso de que el código anterior de error y no se pueda hacer...\n",
    "    except:\n",
    "        # nos printea un error diciendo sobre que número no nos pudo ejecutar la línea de error\n",
    "        print(f'🚨 no se puede dividir entre {i}')\n",
    "\n",
    "        # y apendeamos a la lista \"no data\"\n",
    "        divisiones3.append(\"no data\")\n",
    "        \n",
    "print(f\"\\nLa lista de 'divisiones3' después del for loop contiene: {divisiones3}\")"
   ]
  },
  {
   "cell_type": "markdown",
   "metadata": {},
   "source": [
    "Si nos fijamos ahora nuestro programa no se paró, nos salió un mensaje de que no se pudo dividir entre 0 y en la lista de los resultados deberíamos tener todos los resultados de las divisiones y un valor debería ser \"no data\". Veamoslo! "
   ]
  },
  {
   "cell_type": "markdown",
   "metadata": {},
   "source": [
    "## `try ... except ... except ...`\n",
    "\n",
    "Como hemos visto la idea básica detrás del `try-except` es que se intenta ejecutar un bloque de código (el bloque \"try\"), y si se produce una excepción durante la ejecución del bloque de código, en lugar de que el programa se detenga, se captura la excepción y se maneja en un bloque \"except\" separado. Sin embargo, podemos repetir el `except` para distintos tipos de errores para verificar múltiples excepciones. Esto es útil si sospechamos que podemos tener varios errores en nuestro código pero no estamos seguros donde lo vamos a encontrar.\n",
    "\n",
    "La sintaxis general del `try-except-except` es la siguiente:\n",
    "\n",
    "```python\n",
    "try:\n",
    "    # Código que se desea intentar ejecutar\n",
    "except ExceptionType1:\n",
    "    # Código que se ejecutará si se produce una excepción de tipo ExceptionType1\n",
    "except ExceptionType2:\n",
    "    # Código que se ejecutará si se produce una excepción de tipo ExceptionType2\n",
    "...\n",
    "except ExceptionTypeN:\n",
    "    # Código que se ejecutará si se produce una excepción de tipo ExceptionTypeN\n",
    "```\n",
    "\n",
    "Siguiendo con el mismo ejemplo de la división entre 0, en este caso vamos a incluir alguna condición más: \n",
    "\n",
    "- Le preguntaremos al usuario que nos de un número que utilizaremos como divisor. Dividiremos 100 entre el valor que nos pasa el usuario. \n",
    "\n",
    "- Puede que usuario nos pase un 0, por lo que no podremos realizar esta operación, por lo que tendremos que incluir un `try`\n",
    "\n",
    "- También puede ser que el usuario no nos pase una opción válida, por ejemplo una letras, por lo que tendremos que tener en cuenta que no podremos dividir 100 entre una letra. \n"
   ]
  },
  {
   "cell_type": "code",
   "execution_count": 5,
   "metadata": {},
   "outputs": [
    {
     "name": "stdout",
     "output_type": "stream",
     "text": [
      "el número elegido por el usuario ha sido:  0\n",
      "no se puede dividir entre cero\n"
     ]
    }
   ],
   "source": [
    "# lo primero que vamos a hacer es indicar a nuestro código que intente:\n",
    "try:\n",
    "    # preguntar al usuario por un número y que lo convierta a integer\n",
    "    num = int(input(\"Ingrese un número: \"))\n",
    "    \n",
    "    # que nos muestre por pantalla el número elegido\n",
    "    print(\"el número elegido por el usuario ha sido: \", num)\n",
    "    \n",
    "    # que divida 100 entre el número elegido por el usuario\n",
    "    resultado = 100 / num\n",
    "    \n",
    "    # nos muestre por pantalla el resultado de la división\n",
    "    print(f\"el resultado de la división es: {round(resultado, 2)}\")\n",
    "    \n",
    "# como hemos dicho antes, puede que el usuario nos pase una letra, por lo que no podremos convertirlo a integer. Ponemos el primer except con un ValueError indicando que no nos ha pasado un valor correcto\n",
    "except ValueError:\n",
    "    print(\"debe ingresar un número válido\")\n",
    "    \n",
    "# pero además otro error que nos podemos encontrar es que el usuario nos pase un 0, el cual si podrá convertir a integer, pero no podremos usarlo para dividir, por lo que generamos otro except para este posible error. \n",
    "except ZeroDivisionError:\n",
    "    print(\"no se puede dividir entre cero\")\n",
    "\n",
    "# os animamos a que ejecutéis este código varias veces pasando distintas opciones para ver como se va ejecutando el código. "
   ]
  },
  {
   "cell_type": "markdown",
   "metadata": {},
   "source": [
    "## `try ... except ... else ...`\n",
    "La idea detrás de esta estructura es intentar ejecutar un bloque de código que podría lanzar una excepción. Si la excepción se produce, se captura con un bloque `except` que maneja la excepción. Si hay varias excepciones posibles, cada una puede tener su propio bloque except.\n",
    "\n",
    "En el bloque `else`, se coloca el código que se ejecutará si no se produce ninguna excepción en el bloque `try`. Por lo tanto, el bloque `else` se ejecutará solo si no se producen excepciones, es decir, solo se ejecutará si no ejecuta ningún except antes.\n",
    "\n",
    "```python\n",
    "try:\n",
    "    # Código que se puede lanzar una excepción\n",
    "\n",
    "except ExceptionTipo1:\n",
    "    # Manejo de la excepción Tipo 1\n",
    "\n",
    "except ExceptionTipo2:\n",
    "    # Manejo de la excepción Tipo 2\n",
    "\n",
    "else:\n",
    "    # Código a ejecutar si no se produce ninguna excepción\n",
    "```\n",
    "\n",
    "Sigamos con el ejemplo de la división de un número elegido por el usuario. En este caso vamos a hacer una pequeña modificación del código, en concreto: \n",
    "\n",
    "- Incluiremos el `else` al final del código\n",
    "\n",
    "- Moveremos el `print` del resultado de la división al `else`, para que en el caso de que se ejecute el `try` nos muestre por pantalla el resultado de la división. "
   ]
  },
  {
   "cell_type": "code",
   "execution_count": 2,
   "metadata": {},
   "outputs": [
    {
     "name": "stdout",
     "output_type": "stream",
     "text": [
      "el número elegido por el usuario ha sido:  10\n",
      "El resultado de la división es: 10.0\n"
     ]
    }
   ],
   "source": [
    "try:\n",
    "    # preguntar al usuario por un número y que lo convierta a integer\n",
    "    num = int(input(\"Ingrese un número: \"))\n",
    "    \n",
    "    # que nos muestre por pantalla el número elegido\n",
    "    print(\"el número elegido por el usuario ha sido: \", num)\n",
    "    \n",
    "    # que divida 100 entre el número elegido por el usuario\n",
    "    resultado = 100 / num\n",
    "\n",
    "# como hemos dicho antes, puede que el usuario nos pase una letra, por lo que no podremos convertirlo a integer. Ponemos el primer except con un ValueError indicando que no nos ha pasado un valor correcto\n",
    "except ValueError:\n",
    "    print(\"debe ingresar un número válido\")\n",
    "    \n",
    "# pero además otro error que nos podemos encontrar es que el usuario nos pase un 0, el cual si podrá convertir a integer, pero no podremos usarlo para dividir, por lo que generamos otro except para este posible error. \n",
    "except ZeroDivisionError:\n",
    "    print(\"no se puede dividir entre cero\")\n",
    "    \n",
    "else:\n",
    "    # fijaos como en este caso, hemos quitado el print con el resultado de la división que haciamos en el try y lo hemos movido al else.\n",
    "    # este bloque de código se ejecutará si y solo si se ejecuta el try\n",
    "    print(\"El resultado de la división es:\", round(resultado, 2))\n",
    "\n"
   ]
  },
  {
   "cell_type": "markdown",
   "metadata": {},
   "source": [
    "## `try ... except ... else ... finally ...`\n",
    "\n",
    "De nuevo es una estructura de control en Python que se utiliza para manejar excepciones (errores) que pueden ocurrir durante la ejecución de un programa. En concreto, el bloque `finally` se utiliza para incluir código que se ejecutará siempre, independientemente de si se produce una excepción o no. Esto puede ser útil para realizar operaciones de limpieza o liberar recursos, independientemente de si el código del bloque `try` produce una excepción o no.\n",
    "\n",
    "\n",
    "La principal diferencia entre el bloque `finally` y el bloque  `else` es que el bloque `finally` se ejecuta siempre, independientemente de si se producen o no excepciones en el bloque `try`, mientras que el bloque `else` solo se ejecuta si no se produce ninguna excepción en el bloque  `try`.\n",
    "\n",
    "\n",
    "```python\n",
    "try:\n",
    "    # Código que puede causar una excepción\n",
    "except ExceptionTipo1:\n",
    "    # Código que maneja la excepción de tipo ExceptionTipo1\n",
    "except ExceptionTipo2:\n",
    "    # Código que maneja la excepción de tipo ExceptionTipo2\n",
    "...\n",
    "except:\n",
    "    # Código que maneja cualquier otra excepción\n",
    "finally:\n",
    "    # Código que se ejecuta siempre, independientemente de si se produce una excepción o no\n",
    "```"
   ]
  },
  {
   "cell_type": "code",
   "execution_count": 3,
   "metadata": {},
   "outputs": [
    {
     "name": "stdout",
     "output_type": "stream",
     "text": [
      "el número elegido por el usuario ha sido:  2\n",
      "el resultado de la división es: 50.0\n",
      "el bloque de código ha terminado\n"
     ]
    }
   ],
   "source": [
    "try:\n",
    "    # preguntar al usuario por un número y que lo convierta a integer\n",
    "    num = int(input(\"Ingrese un número: \"))\n",
    "    \n",
    "    # que nos muestre por pantalla el número elegido\n",
    "    print(\"el número elegido por el usuario ha sido: \", num)\n",
    "    \n",
    "    # que divida 100 entre el número elegido por el usuario\n",
    "    resultado = 100 / num\n",
    "\n",
    "# como hemos dicho antes, puede que el usuario nos pase una letra, por lo que no podremos convertirlo a integer. Ponemos el primer except con un ValueError indicando que no nos ha pasado un valor correcto\n",
    "except ValueError:\n",
    "    print(\"debe ingresar un número válido\")\n",
    "    \n",
    "# pero además otro error que nos podemos encontrar es que el usuario nos pase un 0, el cual si podrá convertir a integer, pero no podremos usarlo para dividir, por lo que generamos otro except para este posible error. \n",
    "except ZeroDivisionError:\n",
    "    print(\"no se puede dividir entre cero\")\n",
    "    \n",
    "else:\n",
    "    # fijaos como en este caso, hemos quitado el print con el resultado de la división que haciamos en el try y lo hemos movido al else.\n",
    "    # este bloque de código se ejecutará si y solo si se ejecuta el try\n",
    "    print(\"el resultado de la división es:\", round(resultado, 2))\n",
    "\n",
    "finally: \n",
    "    # fijaos como en este caso, independientemente de lo que pase en las lineas anteriores este código siempre se ejecutará \n",
    "    print(\"el bloque de código ha terminado\")"
   ]
  },
  {
   "cell_type": "markdown",
   "metadata": {},
   "source": []
  }
 ],
 "metadata": {
  "kernelspec": {
   "display_name": "Python 3",
   "language": "python",
   "name": "python3"
  },
  "language_info": {
   "codemirror_mode": {
    "name": "ipython",
    "version": 3
   },
   "file_extension": ".py",
   "mimetype": "text/x-python",
   "name": "python",
   "nbconvert_exporter": "python",
   "pygments_lexer": "ipython3",
   "version": "3.11.9"
  },
  "toc": {
   "base_numbering": 1,
   "nav_menu": {},
   "number_sections": true,
   "sideBar": true,
   "skip_h1_title": false,
   "title_cell": "Table of Contents",
   "title_sidebar": "Contents",
   "toc_cell": true,
   "toc_position": {},
   "toc_section_display": true,
   "toc_window_display": true
  }
 },
 "nbformat": 4,
 "nbformat_minor": 2
}

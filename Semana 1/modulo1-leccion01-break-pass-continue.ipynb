{
 "cells": [
  {
   "cell_type": "markdown",
   "metadata": {},
   "source": [
    "\n",
    "<div style=\"text-align: center;\">\n",
    "  <img src=\"https://github.com/Hack-io-Data/Imagenes/blob/main/01-LogosHackio/logo_celeste@4x.png?raw=true\" alt=\"esquema\" />\n",
    "</div>\n"
   ]
  },
  {
   "cell_type": "markdown",
   "metadata": {
    "toc": true
   },
   "source": [
    "<h1>Table of Contents<span class=\"tocSkip\"></span></h1>\n",
    "<div class=\"toc\"><ul class=\"toc-item\"><li><span><a href=\"#Estructuras-control\" data-toc-modified-id=\"Estructuras-control-1\"><span class=\"toc-item-num\">1&nbsp;&nbsp;</span>Estructuras control</a></span><ul class=\"toc-item\"><li><span><a href=\"#break\" data-toc-modified-id=\"break-1.1\"><span class=\"toc-item-num\">1.1&nbsp;&nbsp;</span><code>break</code></a></span></li><li><span><a href=\"#continue\" data-toc-modified-id=\"continue-1.2\"><span class=\"toc-item-num\">1.2&nbsp;&nbsp;</span><code>continue</code></a></span></li><li><span><a href=\"#pass\" data-toc-modified-id=\"pass-1.3\"><span class=\"toc-item-num\">1.3&nbsp;&nbsp;</span><code>pass</code></a></span></li></ul></li></ul></div>"
   ]
  },
  {
   "cell_type": "markdown",
   "metadata": {},
   "source": [
    "# Estructuras control\n",
    "\n",
    "En programación, es común encontrarse con situaciones donde es necesario controlar el flujo de ejecución de un programa, es decir, decidir qué parte del código debe ejecutarse y cuál no, según una determinada condición. En el caso específico de los bucles, las palabras clave `break`, `continue` y `pass` las utilizaremos para alterar el comportamiento del bucle, permitiendo controlar la lógica de repetición y tomar decisiones sobre qué código ejecutar. Veamos en detalle cómo funcionan las palabras clave `break`, `continue` y `pass`:\n",
    "\n",
    "- `break`: La utilizaremos dentro de un bucle `for` o `while`, detiene inmediatamente la ejecución del bucle, saliendo de él y continuando con la ejecución del código que sigue a la estructura del bucle. Esto es útil cuando necesitemos interrumpir el ciclo en función de una condición específica, evitando iteraciones innecesarias. Por ejemplo, si en un bucle estamos buscando un elemento en una lista y lo encuentramos, `break` puede usarse para salir del bucle inmediatamente, ya que no tiene sentido continuar buscando.\n",
    "\n",
    "- `continue`: Hace que el programa salte inmediatamente a la siguiente iteración, ignorando cualquier código restante en el cuerpo del bucle para esa iteración en particular. Es útil cuando se desea omitir el procesamiento de ciertos elementos en una iteración pero continuar con las siguientes Por ejemplo, si estamos procesando una lista y ciertos elementos deben ser ignorados bajo una condición específica, `continue` permite omitir esos elementos sin detener el bucle por completo.\n",
    "\n",
    "- `pass`: A diferencia de `break` y `continue`, `pass` no afecta directamente el flujo de control dentro de un bucle. En realidad, `pass` es una operación nula: no hace nada y simplemente actúa como un marcador de posición. Se utiliza comúnmente cuando se quiere escribir un bloque de código vacío, por ejemplo, cuando se está diseñando una estructura que aún no se ha implementado pero se desea evitar un error de sintaxis. Por ejemplo, durante el desarrollo de una función o clase, si aún no se ha decidido qué código irá en un bloque pero se necesita un cuerpo de control, `pass` permite dejarlo temporalmente vacío sin interrumpir la ejecución del programa.\n",
    "\n",
    "\n",
    "> Es importante destacar que tanto `break` como `continue` y `pass` pueden utilizarse dentro de los bucles `for` y `while`, lo que proporciona flexibilidad en la forma en que controlamos la repetición del código. Sin embargo, el uso adecuado de estas palabras clave depende del contexto y de la lógica que se quiera implementar.\n",
    "\n",
    "<div style=\"background-color: #F74646; padding: 10px; border-left: 6px solid #000080; color: black; border-radius: 10px;\">\n",
    "\n",
    "**Resumiendo:**\n",
    "\n",
    "- `break`: Interrumpe el bucle por completo.\n",
    "\n",
    "- `continue`: Salta a la siguiente iteración del bucle.\n",
    "\n",
    "- `pass`: No realiza ninguna acción, actuando como un marcador de posición.\n",
    "\n",
    "</div>"
   ]
  },
  {
   "cell_type": "markdown",
   "metadata": {},
   "source": [
    "## `break`\n",
    "\n",
    "Como hemos dicho, la instrucción `break` nos permite salir de un bucle, ya sea un `for` o un `while`, antes de que se complete su ciclo natural. Cuando `break` es ejecutado dentro del cuerpo de un bucle, el flujo de control abandona inmediatamente el bucle y continúa con la ejecución del código en la siguiente línea después de la estructura de bucle. Esto es útil cuando una condición específica dentro del bucle indica que no es necesario seguir procesando más elementos o iteraciones. Para entender mejor cómo funciona, imaginemos un escenario concreto en un contexto de programación real.\n",
    "\n",
    "\n",
    "Supongamos que tenemos una lista de nombres de clientes que nos ha pasado nuestra jefa. Ella nos ha solicitado que validemos la lista para asegurarnos de que no contiene valores no deseados, como números en lugar de nombres. Si detectamos un número en la lista, deberíamos interrumpir la ejecución del bucle y mostrar un mensaje de error que indique la presencia de un dato inválido. Este ejemplo muestra cómo `break` puede detener el proceso de validación tan pronto como se detecte un error, ahorrando tiempo y recursos al evitar realizar comprobaciones adicionales innecesarias.\n",
    "\n",
    "En este caso:\n",
    "\n",
    "1. El bucle comienza revisando los elementos de la lista uno por uno.\n",
    "\n",
    "2. Si se encuentra un elemento que es un dígito o un valor que no corresponde a un nombre válido, se activa la instrucción `break`.\n",
    "\n",
    "3. La ejecución del bucle se interrumpe inmediatamente y se muestra un mensaje de error, evitando que el código continúe revisando el resto de los elementos, ya que se ha encontrado un problema en los datos.\n"
   ]
  },
  {
   "cell_type": "code",
   "execution_count": 1,
   "metadata": {},
   "outputs": [
    {
     "name": "stdout",
     "output_type": "stream",
     "text": [
      "Los nombres de los clientes de la compañia son: ['Aurelio', 'Agüeda', 'Lola', 'Lolo', '1723', 'Antonio', 'Aura', 'Asunción']\n",
      "-----------------------------------\n",
      "Lo que ocurre si NO ponemos el break en nuestro código:\n",
      "El nombre Aurelio es correcto 😄\n",
      "El nombre Agüeda es correcto 😄\n",
      "El nombre Lola es correcto 😄\n",
      "El nombre Lolo es correcto 😄\n",
      "El nombre 1723 no es correcto ya que contiene un dígito🚨\n",
      "El nombre Antonio es correcto 😄\n",
      "El nombre Aura es correcto 😄\n",
      "El nombre Asunción es correcto 😄\n"
     ]
    }
   ],
   "source": [
    "# definimos la lista con los nombres de los clientes\n",
    "nombres_clientes = ['Aurelio', 'Agüeda', 'Lola', 'Lolo', \"1723\", \"Antonio\", \"Aura\", \"Asunción\"]\n",
    "print(\"Los nombres de los clientes de la compañia son:\", nombres_clientes)\n",
    "print(\"-----------------------------------\")\n",
    "\n",
    "print(\"Lo que ocurre si NO ponemos el break en nuestro código:\")\n",
    "# si no incluyeramos un `break` en nuestro código \n",
    "for nombre in nombres_clientes:\n",
    "    # el método .isdigit() lo que va a hacer es chequear si los valores que tenemos en el string son números o no. \n",
    "    if nombre.isdigit():\n",
    "        print(f\"El nombre {nombre} no es correcto ya que contiene un dígito🚨\")\n",
    "    else:\n",
    "        print(f\"El nombre {nombre} es correcto 😄\")"
   ]
  },
  {
   "cell_type": "code",
   "execution_count": 2,
   "metadata": {},
   "outputs": [
    {
     "name": "stdout",
     "output_type": "stream",
     "text": [
      "Los nombres de los clientes de la compañia son: ['Aurelio', 'Agüeda', 'Lola', 'Lolo', '1723', 'Antonio', 'Aura', 'Asunción']\n",
      "-----------------------------------\n",
      "Lo que ocurre si no ponemos el break en nuestro código:\n",
      "El nombre Aurelio es correcto 😄\n",
      "El nombre Agüeda es correcto 😄\n",
      "El nombre Lola es correcto 😄\n",
      "El nombre Lolo es correcto 😄\n"
     ]
    }
   ],
   "source": [
    "# Si revisamos el código vemos que todo a salido bien, pero en realidad no hemos cumplido con el objetivo que nos pedían, que era que el bucle `for` no se siguiera ejecutando en caso de que hubiera algún nombre que no fuera correcto, ya que nos pedían que pararamos el código.\n",
    "# veamos en que cambia cuando le ponemos un break a nuestro código anterior\n",
    "\n",
    "print(\"Los nombres de los clientes de la compañia son:\", nombres_clientes)\n",
    "print(\"-----------------------------------\")\n",
    "\n",
    "print(\"Lo que ocurre si no ponemos el break en nuestro código:\")\n",
    "# si no incluyeramos un `break` en nuestro código \n",
    "for nombre in nombres_clientes:\n",
    "    # el método .isdigit() lo que va a hacer es chequear si los valores que tenemos en el string son números o no. \n",
    "    # en este caso lo que haremos será parar el código cuando haya un nombre de cliente que no sea el correcto, evitando continuar con el bucle for. \n",
    "    if nombre.isdigit():\n",
    "        break\n",
    "        \n",
    "    else:\n",
    "        print(f\"El nombre {nombre} es correcto 😄\")"
   ]
  },
  {
   "cell_type": "markdown",
   "metadata": {},
   "source": [
    "¿Qué es lo que ha pasado? \n",
    "\n",
    "- Se ha iniciado el *for loop* iterando por nuestra lista de palabras\n",
    "\n",
    "- Chequeamos la condicion de si el nombre esta compuesto por dígitos o no. \n",
    "\n",
    "- En caso de que la condición anterior no se cumpla, nos saldrá un mensaje en pantalla diciendo que el nombre es válido. Es lo que encontramos en el `else`. \n",
    "\n",
    "- A continuación está el estamento `break` que no lo que hará será parar el código si se cumple la condición de que el nombre contiene dígitos. Al pararse el código no se sigue ejecutando y no veremos más nombres de clientes. Es decir, si nos fijamos en el primer ejemplo después del nombre incorrecto nos ha salido el mensaje de que el nombre de Carmen, Rocio y Aura son correctos, mientras que en el segundo ejemplo estos nombres no se evaluaron."
   ]
  },
  {
   "cell_type": "markdown",
   "metadata": {},
   "source": [
    "## `continue`\n",
    "\n",
    "La palabra clave `continue` lo usaremos también dentro de bucles `for` y `while` para omitir la iteración actual y pasar directamente a la siguiente. Cuando se ejecuta un `continue` dentro de un bucle, el flujo de control salta a la siguiente iteración, ignorando cualquier código que esté después de la instrucción `continue` dentro del cuerpo del bucle para esa iteración específica.\n",
    "\n",
    "**¿En qué se diferencia `continue` de `break`?**\n",
    "\n",
    "La diferencia clave entre `break` y `continue` radica en cómo afectan al flujo del bucle:\n",
    "\n",
    "- **`break`**: Detiene por completo la ejecución del bucle, es decir, sale del bucle y el programa continúa con la línea de código siguiente después de la estructura del bucle.\n",
    "\n",
    "- **`continue`**: Solo omite la iteración actual del bucle y pasa a la siguiente, permitiendo que el bucle continúe ejecutándose para las siguientes iteraciones.\n",
    "\n",
    "\n",
    "Sigamos con el ejemplo anterior de la validación de nombres de clientes. En lugar de detener el bucle completamente con `break` cuando se encuentra un dato no válido (como un número), podríamos usar `continue` para simplemente ignorar ese dato problemático y continuar con la validación de los demás elementos. Imaginemos que queremos verificar una lista de nombres, pero en lugar de detener el proceso al encontrar un error, decidimos simplemente omitir esos valores incorrectos (como dígitos o cadenas vacías) y seguir validando los otros nombres. En este caso:\n",
    "\n",
    "1. Si se encuentra un nombre no válido, se ejecuta `continue`, y la iteración actual se interrumpe.\n",
    "\n",
    "2. El bucle salta directamente a la siguiente iteración sin ejecutar el código que está después de `continue` en esa vuelta específica.\n",
    "\n",
    "3. La validación continúa con los siguientes nombres en la lista, asegurando que todos los elementos sean revisados, aunque algunos sean ignorados por ser incorrectos.\n",
    "\n",
    "**¿Cuándo usaremos el `continue`?**\n",
    "\n",
    "El uso de `continue` es útil cuando se desea evitar ciertas condiciones o errores sin interrumpir el flujo completo del bucle. Algunos ejemplos comunes incluyen:\n",
    "\n",
    "- **Filtrado de datos**: Si estás procesando una lista de elementos y solo te interesan aquellos que cumplen con ciertos criterios, puedes usar `continue` para saltar los elementos que no te interesan.\n",
    "\n",
    "- **Evitar errores específicos**: Si sabes que ciertos valores pueden causar problemas (por ejemplo, valores nulos o incorrectos), `continue` te permite saltarlos sin que se interrumpa el procesamiento del resto de los datos.\n",
    "\n",
    "- **Mejora de la legibilidad del código**: En lugar de envolver todo el cuerpo del bucle en un condicional extenso, usar `continue` permite estructurar el código de manera más clara y concisa."
   ]
  },
  {
   "cell_type": "code",
   "execution_count": 3,
   "metadata": {},
   "outputs": [
    {
     "name": "stdout",
     "output_type": "stream",
     "text": [
      "Los nombres de los clientes de la compañia son: ['Aurelio', 'Agüeda', 'Lola', 'Lolo', '1723', 'Antonio', 'Aura', 'Asunción']\n",
      "-----------------------------------\n",
      "Lo que ocurre si no ponemos el break en nuestro código:\n",
      "El nombre Aurelio es correcto 😄\n",
      "El nombre Agüeda es correcto 😄\n",
      "El nombre Lola es correcto 😄\n",
      "El nombre Lolo es correcto 😄\n",
      "El nombre Antonio es correcto 😄\n",
      "El nombre Aura es correcto 😄\n",
      "El nombre Asunción es correcto 😄\n"
     ]
    }
   ],
   "source": [
    "print(\"Los nombres de los clientes de la compañia son:\", nombres_clientes)\n",
    "print(\"-----------------------------------\")\n",
    "\n",
    "print(\"Lo que ocurre si no ponemos el break en nuestro código:\")\n",
    "# si no incluyeramos un `break` en nuestro código \n",
    "for nombre in nombres_clientes:\n",
    "    # el método .isdigit() lo que va a hacer es chequear si los valores que tenemos en el string son números o no. \n",
    "    # en este caso lo que haremos será parar el código cuando haya un nombre de cliente que no sea el correcto, evitando continuar con el bucle for. \n",
    "    if nombre.isdigit():\n",
    "      continue\n",
    "      print(f\"El nombre {nombre} no es correcto ya que contiene un dígito🚨\")\n",
    "        \n",
    "    else:\n",
    "        print(f\"El nombre {nombre} es correcto 😄\")"
   ]
  },
  {
   "cell_type": "markdown",
   "metadata": {},
   "source": [
    "Comparemos ahora el resultado del `continue`:\n",
    "\n",
    "- En este caso si que nos has salido que Carmen, Rocio y Aura son nombres correctos, al contrario que en el `break` que no nos salió nada. \n",
    "\n",
    "- Fijaos como en el caso del `break` se ha parado por completo el bucle `for`, mientras que en el caso del `continue` lo único que paso es que simplemente se salto ese elemento de la iteración, pero siguió iterando por la lista de clientes. "
   ]
  },
  {
   "cell_type": "markdown",
   "metadata": {},
   "source": [
    "\n",
    "## `pass`\n",
    "\n",
    "Como hemos visto, `pass` es una palabra clave que se utiliza cuando necesitamos un bloque de código sintácticamente necesario, pero que aún no tiene contenido o implementación. En otras palabras, `pass` actúa como un marcador de posición, indicando que sabemos que algo debe ir allí, pero que aún no hemos decidido qué implementar o, simplemente, no necesitamos ejecutar ninguna acción en ese punto.\n",
    "\n",
    "La instrucción `pass` no realiza ninguna operación; literalmente, no hace nada. Sin embargo, es útil para evitar errores de sintaxis cuando se requiere un bloque de código estructuralmente, pero no deseas (o aún no puedes) implementar nada en ese lugar. \n",
    "\n",
    "Por ejemplo, cuando estamos desarrollando un proyecto y queremos definir la estructura básica de funciones, clases o bucles sin escribir la lógica interna, podemos utilizar `pass` para que el código sea válido mientras decidimos qué hacer más adelante.\n",
    "\n",
    "**¿En qué se diferencia `pass` de `continue`?**\n",
    "\n",
    "Es fácil confundir `pass` con `continue`, ya que ambos parecen ser instrucciones que \"no hacen nada\" al ejecutarse. Sin embargo, la diferencia clave está en el contexto y su impacto en el flujo de control del programa:\n",
    "\n",
    "- **`pass`**: No afecta el flujo de control del programa. Se utiliza principalmente como un marcador de posición en cualquier bloque de código donde se requiere una instrucción pero aún no se ha decidido qué implementar. Cuando Python encuentra `pass`, simplemente continúa la ejecución del programa como si nada hubiera ocurrido. Es útil en cualquier estructura: funciones, clases, bucles, etc.\n",
    "  \n",
    "- **`continue`**: A diferencia de `pass`, `continue` se utiliza exclusivamente dentro de bucles. Su propósito es saltar la iteración actual y pasar a la siguiente. Al encontrar un `continue`, Python omite cualquier código restante en la iteración actual y vuelve al inicio del bucle para continuar con la siguiente iteración.\n",
    "\n",
    "\n",
    "Siguiendo con el ejemplo de la lista de clientes, supongamos que estamos revisando los datos y, por alguna razón, aún no hemos decidido qué hacer cuando encontremos un valor incorrecto. En lugar de implementar una lógica inmediata, podríamos usar `pass` como marcador de posición, indicando que ese caso se tratará más adelante:\n",
    "\n",
    "```python\n",
    "for cliente in lista_de_clientes:\n",
    "    if not cliente_es_valido(cliente):\n",
    "        pass  # Implementaremos la gestión de errores más adelante\n",
    "```\n",
    "\n",
    "Aquí, el `pass` asegura que el código funcione sin errores mientras planificamos la lógica de validación futura. En cambio, si quisiéramos ignorar esa iteración y pasar al siguiente cliente, usaríamos `continue` en su lugar."
   ]
  },
  {
   "cell_type": "code",
   "execution_count": 4,
   "metadata": {},
   "outputs": [
    {
     "name": "stdout",
     "output_type": "stream",
     "text": [
      "Los nombres de los clientes de la compañia son: ['Aurelio', 'Agüeda', 'Lola', 'Lolo', '1723', 'Antonio', 'Aura', 'Asunción']\n",
      "-----------------------------------\n",
      "Lo que ocurre si no ponemos el break en nuestro código:\n",
      "El nombre Aurelio es correcto 😄\n",
      "El nombre Agüeda es correcto 😄\n",
      "El nombre Lola es correcto 😄\n",
      "El nombre Lolo es correcto 😄\n",
      "El nombre 1723 no es correcto ya que contiene un dígito🚨\n",
      "El nombre Antonio es correcto 😄\n",
      "El nombre Aura es correcto 😄\n",
      "El nombre Asunción es correcto 😄\n"
     ]
    }
   ],
   "source": [
    "print(\"Los nombres de los clientes de la compañia son:\", nombres_clientes)\n",
    "print(\"-----------------------------------\")\n",
    "\n",
    "print(\"Lo que ocurre si no ponemos el break en nuestro código:\")\n",
    "# si no incluyeramos un `break` en nuestro código \n",
    "for nombre in nombres_clientes:\n",
    "    # el método .isdigit() lo que va a hacer es chequear si los valores que tenemos en el string son números o no. \n",
    "    # en este caso lo que haremos será parar el código cuando haya un nombre de cliente que no sea el correcto, evitando continuar con el bucle for. \n",
    "    if nombre.isdigit():\n",
    "      pass\n",
    "      print(f\"El nombre {nombre} no es correcto ya que contiene un dígito🚨\")\n",
    "        \n",
    "    else:\n",
    "        print(f\"El nombre {nombre} es correcto 😄\")"
   ]
  },
  {
   "cell_type": "markdown",
   "metadata": {},
   "source": [
    "Comparemos el resultado del `continue`:\n",
    "\n",
    "- En este caso ssiguen saliendo los nombres de Carmen, Rocio y Aura, al contrario que en el `break` que no nos salió nada, pero si igual que en el `continue`. \n",
    "\n",
    "- Fijaos como en el caso del `pass` el *print* si que nos lo ejecutó!!!! Por lo tanto, el `pass`en si no para la ejecución del código en ningún caso. "
   ]
  }
 ],
 "metadata": {
  "kernelspec": {
   "display_name": "Python 3",
   "language": "python",
   "name": "python3"
  },
  "language_info": {
   "codemirror_mode": {
    "name": "ipython",
    "version": 3
   },
   "file_extension": ".py",
   "mimetype": "text/x-python",
   "name": "python",
   "nbconvert_exporter": "python",
   "pygments_lexer": "ipython3",
   "version": "3.11.9"
  },
  "toc": {
   "base_numbering": 1,
   "nav_menu": {},
   "number_sections": true,
   "sideBar": true,
   "skip_h1_title": false,
   "title_cell": "Table of Contents",
   "title_sidebar": "Contents",
   "toc_cell": true,
   "toc_position": {},
   "toc_section_display": true,
   "toc_window_display": true
  }
 },
 "nbformat": 4,
 "nbformat_minor": 2
}

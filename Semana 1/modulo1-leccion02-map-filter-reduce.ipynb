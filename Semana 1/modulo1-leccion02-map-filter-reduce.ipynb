{
 "cells": [
  {
   "cell_type": "markdown",
   "metadata": {},
   "source": [
    "\n",
    "<div style=\"text-align: center;\">\n",
    "  <img src=\"https://github.com/Hack-io-Data/Imagenes/blob/main/01-LogosHackio/logo_celeste@4x.png?raw=true\" alt=\"esquema\" />\n",
    "</div>\n"
   ]
  },
  {
   "cell_type": "markdown",
   "metadata": {
    "toc": true
   },
   "source": [
    "<h1>Table of Contents<span class=\"tocSkip\"></span></h1>\n",
    "<div class=\"toc\"><ul class=\"toc-item\"><li><span><a href=\"#Introducción\" data-toc-modified-id=\"Introducción-1\"><span class=\"toc-item-num\">1&nbsp;&nbsp;</span>Introducción</a></span></li><li><span><a href=\"#Map()\" data-toc-modified-id=\"Map()-2\"><span class=\"toc-item-num\">2&nbsp;&nbsp;</span>Map()</a></span></li><li><span><a href=\"#Filter()\" data-toc-modified-id=\"Filter()-3\"><span class=\"toc-item-num\">3&nbsp;&nbsp;</span>Filter()</a></span></li><li><span><a href=\"#Reduce()\" data-toc-modified-id=\"Reduce()-4\"><span class=\"toc-item-num\">4&nbsp;&nbsp;</span>Reduce()</a></span></li></ul></div>"
   ]
  },
  {
   "cell_type": "markdown",
   "metadata": {},
   "source": [
    "# Introducción"
   ]
  },
  {
   "cell_type": "markdown",
   "metadata": {},
   "source": [
    "`Map`, `filter` y `reduce` son funciones de python que permiten escribir código de forma más escueta y simple, sin necesidad de utilizar herramientas como bucles. Basicamente, permiten aplicar una función a varios elementos de un iterable (lista, set, tuplas, diccionario, etc) de una sola vez. Son comunmente utilizadas con funciones *lambda* o *list comprehensions*. *Map* y *filter* vienen integradas con python y no son necesarias ser importadas. Sin embargo, *reduce* necesita ser importado, ya que se encuentra en el módulo `functools`.\n",
    "\n",
    "Las funciones `map()` `filter()` devuelven un objeto de Python, el cual para poder interpretar el resultado es necesario convertirlo a una lista. \n",
    "\n",
    "![diagrama](https://github.com/Hack-io-Data/Imagenes/blob/main/02-Imagenes/Python/map_filter_reduce.png?raw=true)\n"
   ]
  },
  {
   "cell_type": "markdown",
   "metadata": {},
   "source": [
    "# map()\n",
    "\n",
    "La función `map()`toma una función como parámetro y la aplica a todos los elementos de un iterable, como puede ser una lista o una tupla. Es decir, nos va a permitir aplicar una función a cada elemento de una secuencia (como listas, tuplas, conjuntos, entre otros) y devolver un objeto que contiene los resultados. Aunque su uso básico es bastante directo, `map` ofrece muchas posibilidades avanzadas para la manipulación y transformación de datos en aplicaciones complejas.\n",
    "\n",
    "Su sintaxis básica es: \n",
    "\n",
    "```python\n",
    "map(funcion, iterable, ...)\n",
    "```\n",
    "\n",
    "- **funcion:** La función que se aplicará a cada elemento de las secuencias.\n",
    "\n",
    "- **iterable(s):** Una o más secuencias cuyos elementos serán procesados por la función.\n",
    "\n",
    "**Ventajas de usar map**\n",
    "\n",
    "- `map` permite escribir código más corto y declarativo, enfocándose en lo que se quiere hacer en lugar de cómo hacerlo, lo que resulta en un código más limpio y conciso.\n",
    "  \n",
    "- Es una función de orden superior, lo que promueve la modularidad y la reutilización del código, características clave de la programación funcional.\n",
    "\n",
    "- `map` devuelve un iterador que evalúa los elementos bajo demanda (lazy evaluation), lo que puede ser más eficiente en términos de memoria cuando se trabaja con grandes conjuntos de datos.\n",
    "\n",
    "- Puede aceptar múltiples iterables y aplicar la función a sus elementos en paralelo, similar a la función `zip`.\n",
    "\n",
    "- Es útil para aplicar funciones predefinidas (como `str`, `int`, etc.) a cada elemento de un iterable de manera concisa.\n",
    "\n",
    "- Promueve el uso de estructuras de datos inmutables, lo que puede llevar a un código más seguro y fácil de razonar, ya que se evita modificar listas u otros objetos en el lugar.\n",
    "\n",
    "**Desventajas de usar map**\n",
    "\n",
    "- En algunos casos, especialmente cuando se usan funciones lambda complejas, `map` puede ser menos legible que un bucle `for`. Para operaciones muy simples, un bucle `for` puede ser más fácil de entender para principiantes."
   ]
  },
  {
   "cell_type": "code",
   "execution_count": 1,
   "metadata": {},
   "outputs": [
    {
     "name": "stdout",
     "output_type": "stream",
     "text": [
      "la lista original antes de elevar cada elemento al cuadrado es: [1, 2, 3, 4, 5]\n",
      "El resultado de la función map es: <map object at 0x000001C1C83CF6D0>\n",
      "El resultado de la función map después de convertilo a lista es: [1, 4, 9, 16, 25]\n"
     ]
    }
   ],
   "source": [
    "# el primer ejemplo que vamos a poner es usando una función definida por nosotros\n",
    "# en concreto, vamos a crear una función que nos calcule el cuadrado de un número.\n",
    "def sqr(num):\n",
    "    \"\"\"\n",
    "    Calcula el cuadrado de un número.\n",
    "\n",
    "    Params:\n",
    "        - num (int o float): El número que se desea elevar al cuadrado.\n",
    "\n",
    "    Returns:\n",
    "        int o float: El cuadrado del número proporcionado.\n",
    "    \"\"\"\n",
    "    return num**2\n",
    "\n",
    "\n",
    "# definamos ahora una lista de números sobre la que queramos aplicar dicha función.\n",
    "numeros = [1,2,3,4,5]\n",
    "print(f\"la lista original antes de elevar cada elemento al cuadrado es: {numeros}\")\n",
    "\n",
    "# utilicemos el map para ejecutar dicha función a todos los elementos de nuestra lista numbers.\n",
    "resultado_map = map(sqr,numeros)\n",
    "print(f\"El resultado de la función map es: {resultado_map}\")\n",
    "\n",
    "# si nos fijamos en valor que toma la variable 'resultado_map'  es un objeto, como nos pasaba cuando usamos la función zip.\n",
    "# para convertirlo en algo 'entendible'  lo vamos a convertir en lista (lo podríamos convertir a tupla o set)\n",
    "lista_resultado_map = list(map(sqr,numeros))\n",
    "print(f\"El resultado de la función map después de convertilo a lista es: {lista_resultado_map}\")"
   ]
  },
  {
   "cell_type": "code",
   "execution_count": 13,
   "metadata": {},
   "outputs": [
    {
     "name": "stdout",
     "output_type": "stream",
     "text": [
      "El resultado de la función map usando lambda es: [1, 4, 9, 16, 25]\n"
     ]
    }
   ],
   "source": [
    "# ¿Realmente es necesario definir esa función previamente? La respuesta es no, utilizando una función lambda podemos simplificar aún más nuestro código\n",
    "resultado_map_lambda = list(map(lambda x: x**2,numeros))\n",
    "print(f\"El resultado de la función map usando lambda es: {resultado_map_lambda}\")"
   ]
  },
  {
   "cell_type": "code",
   "execution_count": 14,
   "metadata": {},
   "outputs": [
    {
     "name": "stdout",
     "output_type": "stream",
     "text": [
      "El resultado de la función map a dos listas es: [11, 22, 43]\n"
     ]
    }
   ],
   "source": [
    "# como hemos dicho, el map se puede aplicar a más de un iterable a la vez\n",
    "# veamos un ejemplo. Vamos a crear dos listas de números que posteriormente vamos a sumar usando el map y una lambda\n",
    "num1 = [1, 2, 3]\n",
    "num2 = [10, 20, 40]\n",
    "\n",
    "# aplicamos la función map a dos listas a la vez\n",
    "resultado_map_multiple = list(map(lambda n1, n2: n1+n2, num1, num2))\n",
    "print(f\"El resultado de la función map a dos listas es: {resultado_map_multiple}\")"
   ]
  },
  {
   "cell_type": "code",
   "execution_count": 6,
   "metadata": {},
   "outputs": [
    {
     "data": {
      "text/plain": [
       "[35, 6, 7, 41, 15, 25, 42]"
      ]
     },
     "execution_count": 6,
     "metadata": {},
     "output_type": "execute_result"
    }
   ],
   "source": [
    "### Crea una lista de numeros aleatorios\n",
    "\n",
    "import random\n",
    "\n",
    "res = random.sample(range(1,50), 7)\n",
    "res"
   ]
  },
  {
   "cell_type": "code",
   "execution_count": 8,
   "metadata": {},
   "outputs": [
    {
     "name": "stdout",
     "output_type": "stream",
     "text": [
      "CPU times: total: 0 ns\n",
      "Wall time: 0 ns\n"
     ]
    },
    {
     "data": {
      "text/plain": [
       "[1225, 36, 49, 1681, 225, 625, 1764]"
      ]
     },
     "execution_count": 8,
     "metadata": {},
     "output_type": "execute_result"
    }
   ],
   "source": [
    "%%time\n",
    "res_cuadrado = []\n",
    "for n in res:\n",
    "    res_cuadrado.append(n ** 2)\n",
    "res_cuadrado"
   ]
  },
  {
   "cell_type": "code",
   "execution_count": 10,
   "metadata": {},
   "outputs": [
    {
     "data": {
      "text/plain": [
       "[1225, 36, 49, 1681, 225, 625, 1764]"
      ]
     },
     "execution_count": 10,
     "metadata": {},
     "output_type": "execute_result"
    }
   ],
   "source": [
    "def cuadrados(num):\n",
    "    \"\"\"Calcula el cuadrado de una lista de números\n",
    "\n",
    "    Args:\n",
    "        num (int): el número que se elevará al cuadrado\n",
    "\n",
    "    Returns:\n",
    "        Devuelve el parámetro num al cuadrado\n",
    "    \"\"\"\n",
    "    return num ** 2\n",
    "\n",
    "res_cuadrado2 = list(map(cuadrados, res))\n",
    "res_cuadrado2"
   ]
  },
  {
   "cell_type": "code",
   "execution_count": 12,
   "metadata": {},
   "outputs": [
    {
     "data": {
      "text/plain": [
       "[1225, 36, 49, 1681, 225, 625, 1764]"
      ]
     },
     "execution_count": 12,
     "metadata": {},
     "output_type": "execute_result"
    }
   ],
   "source": [
    "list(map(lambda num: num**2, res))  "
   ]
  },
  {
   "cell_type": "code",
   "execution_count": 103,
   "metadata": {},
   "outputs": [
    {
     "data": {
      "text/plain": [
       "['a', 'a', 'a', 'a', 'a', 'a', 'a']"
      ]
     },
     "execution_count": 103,
     "metadata": {},
     "output_type": "execute_result"
    }
   ],
   "source": [
    "def dividir(num):\n",
    "    try:\n",
    "        return num/0\n",
    "    except:\n",
    "        return 'a'\n",
    "    \n",
    "res_dividir = list(map(dividir,res))\n",
    "res_dividir"
   ]
  },
  {
   "cell_type": "code",
   "execution_count": null,
   "metadata": {},
   "outputs": [],
   "source": [
    "string_prueba = '     laptop ACER     '\n",
    "string_prueba.strip().title() + '- Producto Tecnológico'"
   ]
  },
  {
   "cell_type": "code",
   "execution_count": 28,
   "metadata": {},
   "outputs": [
    {
     "data": {
      "text/plain": [
       "['Smarthphone Samsung- Producto Tecnológico']"
      ]
     },
     "execution_count": 28,
     "metadata": {},
     "output_type": "execute_result"
    }
   ],
   "source": [
    "string_prueba = '     laptop ACER     '\n",
    "string_prueba.strip().title() + '- Producto Tecnológico'\n",
    "\n",
    "def formatear_string(string):\n",
    "    return string.strip() + '- Producto Tecnológico'\n",
    "\n",
    "productos = ['     Smarthphone Samsung ']\n",
    "\n",
    "list(map(formatear_string,productos))"
   ]
  },
  {
   "cell_type": "code",
   "execution_count": 40,
   "metadata": {},
   "outputs": [],
   "source": [
    "d = {'nombre': 'Laptop', 'precio_usd': 1000}\n",
    "d['precio_usd'] = d['precio_usd'] * 0.85\n",
    "\n",
    "productos = [\n",
    "    {'nombre': 'Laptop', 'precio_usd': 1000},\n",
    "    {'nombre': 'Smartphone', 'precio_usd': 800},\n",
    "    {'nombre': 'Tablet', 'precio_usd': 400},\n",
    "    {'nombre': 'Monitor', 'precio_usd': 300},\n",
    "]"
   ]
  },
  {
   "cell_type": "code",
   "execution_count": 104,
   "metadata": {},
   "outputs": [
    {
     "data": {
      "text/plain": [
       "[{'nombre': 'Laptop', 'precio_eur': 850},\n",
       " {'nombre': 'Smartphone', 'precio_eur': 680},\n",
       " {'nombre': 'Tablet', 'precio_eur': 340},\n",
       " {'nombre': 'Monitor', 'precio_eur': 255}]"
      ]
     },
     "execution_count": 104,
     "metadata": {},
     "output_type": "execute_result"
    }
   ],
   "source": [
    "productos = [\n",
    "    {'nombre': 'Laptop', 'precio_usd': 1000},\n",
    "    {'nombre': 'Smartphone', 'precio_usd': 800},\n",
    "    {'nombre': 'Tablet', 'precio_usd': 400},\n",
    "    {'nombre': 'Monitor', 'precio_usd': 300},\n",
    "]\n",
    "\n",
    "def limpiar_moneda(diccionario):\n",
    "    diccionario['precio_eur'] = round(diccionario['precio_usd'] * 0.85)\n",
    "    diccionario.pop('precio_usd')\n",
    "\n",
    "    return(diccionario)\n",
    "\n",
    "list(map(limpiar_moneda,productos))\n",
    "                                      \n",
    "\n",
    "\n"
   ]
  },
  {
   "cell_type": "markdown",
   "metadata": {},
   "source": [
    "¿Entonces es más conveniente utilizar una función definida por nosotros o una función lambda? La respuesta es que depende del caso. Las funciones lambdas son nás concisas y pueden hacer que el código sea más breve, sin embargo, es posible que sean menos legibles si la operación es compleja. Por otro lado, las fuinciones definidas por nosotros, además de ser más legibles, son reutilizables. Por lo tanto, si queremos reutilizar una función deberemos definirla por nosotros."
   ]
  },
  {
   "cell_type": "markdown",
   "metadata": {},
   "source": [
    "# filter()\n",
    "\n",
    "Mientras que la función `map()` pasa cada elemento del iterable a través de una función y devuelve el resultado de todos los elementos después de haber ejecutado la función, `filter`() requiere que la función devuelva valores booleanos (`True` o `False`) y luego pasa cada elemento del iterable a través de la función, \"filtrando\" aquellos que son falsos y ejecutando sólo los que cumplan la condición. Es decir, nos permite seleccionar elementos de una secuencia que cumplen con una condición específica.\n",
    "\n",
    "Su sintaxis básica es:\n",
    "\n",
    " ```python\n",
    "filter(función, iterable)\n",
    "```\n",
    "\n",
    "Donde: \n",
    "\n",
    "- `función`: será la función que queramos aplicar a cada elemento de nuestro iterable.\n",
    "\n",
    "- `iterable`: será el elemento iterable(lista, tupla, set, etc) que queramos filtrar. \n",
    "\n",
    "Al contrario que en el caso de la función `map()`, con `filter()`sólo podremos pasarle un iterable como parámetro.\n",
    "\n",
    "**Ventajas de usar filter**\n",
    "\n",
    "- `filter` permite escribir código más corto y declarativo, centrándose en la condición que deben cumplir los elementos, lo que resulta en un código más limpio y conciso.\n",
    "\n",
    "- `filter` es una función de orden superior, lo que promueve la modularidad y la reutilización del código, características clave de la programación funcional.\n",
    "\n",
    "- Devuelve un iterador que evalúa los elementos bajo demanda (lazy evaluation), lo que puede ser más eficiente en términos de memoria cuando se trabaja con grandes conjuntos de datos.\n",
    "\n",
    "- Facilita la aplicación de funciones predefinidas y condiciones lógicas a cada elemento de un iterable de manera concisa.\n",
    "\n",
    "**Desventajas de usar filter**\n",
    "\n",
    "- Cuando se usan condiciones complejas, `filter` puede ser menos legible que un bucle `for`. Para operaciones muy simples, un bucle `for` puede ser más fácil de entender para principiantes.\n"
   ]
  },
  {
   "cell_type": "code",
   "execution_count": 46,
   "metadata": {},
   "outputs": [
    {
     "data": {
      "text/plain": [
       "[2, 6, 2, 8, 4, 2, 8, 2]"
      ]
     },
     "execution_count": 46,
     "metadata": {},
     "output_type": "execute_result"
    }
   ],
   "source": [
    "def par_impar(numero):\n",
    "    \"\"\"buscamos pares\n",
    "\n",
    "    Args:\n",
    "        numero (_type_): _description_\n",
    "    \"\"\"\n",
    "\n",
    "    if numero % 2 == 0:\n",
    "        return True\n",
    "    \n",
    "res2 = random.choices(range(1,10), k = 20)\n",
    "list(filter(par_impar, res2))"
   ]
  },
  {
   "cell_type": "code",
   "execution_count": 58,
   "metadata": {},
   "outputs": [
    {
     "name": "stdout",
     "output_type": "stream",
     "text": [
      "2\n",
      "3\n",
      "no soy primo\n"
     ]
    }
   ],
   "source": [
    "numero1 = 9\n",
    "for num in range(2,numero1):\n",
    "    print(num)\n",
    "    if numero1 % num ==0:\n",
    "        print('no soy primo')\n",
    "        break"
   ]
  },
  {
   "cell_type": "code",
   "execution_count": 53,
   "metadata": {},
   "outputs": [
    {
     "data": {
      "text/plain": [
       "[2, 6, 1, 2, 9, 8, 4, 1, 5, 7, 9, 2, 5, 7, 8, 1, 7, 3, 2, 1]"
      ]
     },
     "execution_count": 53,
     "metadata": {},
     "output_type": "execute_result"
    }
   ],
   "source": [
    "res2"
   ]
  },
  {
   "cell_type": "code",
   "execution_count": 57,
   "metadata": {},
   "outputs": [
    {
     "data": {
      "text/plain": [
       "[9, 5, 7, 9, 5, 7, 7, 3]"
      ]
     },
     "execution_count": 57,
     "metadata": {},
     "output_type": "execute_result"
    }
   ],
   "source": [
    "### Aqui se cuales son los primos\n",
    "\n",
    "def es_primo(numero):\n",
    "\n",
    "    for num in range(2,numero):\n",
    "        if numero % num ==0:\n",
    "            return False\n",
    "        else:\n",
    "            return True\n",
    "        \n",
    "list(filter(es_primo, res2))"
   ]
  },
  {
   "cell_type": "code",
   "execution_count": 45,
   "metadata": {},
   "outputs": [
    {
     "name": "stdout",
     "output_type": "stream",
     "text": [
      "El resultado de la función filter es: [23]\n"
     ]
    }
   ],
   "source": [
    "# vamos a crear una función que nos devuelva los números primos de una lista.\n",
    "def primos (num):\n",
    "    \"\"\"\n",
    "    Esta función verifica si un número es primo (Dívisible únicamente por sí mismo y por 1) o no.\n",
    "\n",
    "    Params:\n",
    "        - num (int): El número a verificar.\n",
    "\n",
    "    Returns:\n",
    "        bool: True si el número es primo, False de lo contrario.\n",
    "    \"\"\"\n",
    "    #Primero creamos un rango entre 2 y el número pasado a la función para comprobar si son divisibles\n",
    "    for i in range (2,num):\n",
    "       \n",
    "       #Como las divisiones se están realizando entre todo los números entre el 2 y num-1 en el momento que se cumpla la condición se rechaza el número, ya que no sería primo \n",
    "       if (num % i) == 0:\n",
    "          return False\n",
    "       \n",
    "    #Si no se ha cumplido la condición, el número es primo y devuelve True\n",
    "    return True\n",
    "\n",
    "# definamos nuestra lista de números.\n",
    "numeros = [4,8,15,16,23,42]\n",
    "\n",
    "#Utilicemos el filter para ejecutar dicha función a todos los elementos de nuestra lista numeros.\n",
    "# Al igual que en el map, tendremos que convertir el resultado de la función filter en lista para convertir el objeto que nos devuelve. \n",
    "\n",
    "resultado_filter = list(filter(primos,numeros))\n",
    "print(f\"El resultado de la función filter es: {resultado_filter}\")\n"
   ]
  },
  {
   "cell_type": "code",
   "execution_count": 107,
   "metadata": {},
   "outputs": [
    {
     "name": "stdout",
     "output_type": "stream",
     "text": [
      "El resultado del filter con una lambda es: ['Rapar', 'Sometemos', 'Arenera']\n"
     ]
    }
   ],
   "source": [
    "# al igual que con la función 'map()', con 'filter()' podemos utilizar funciones lambdas.\n",
    "# vamos a comprobar si en una lista de palabras tenemos algún palíndromo, que recordemos es una palabra que se lee igual del derecho y del revés\n",
    "\n",
    "palabras = ('Rapar', 'Saladas', 'Sometemos', 'Amiga', \"Arenera\", \"Esqueje\")\n",
    "\n",
    "resultado_filter_lambda = list(filter(lambda palabra: palabra.lower() == palabra.lower()[::-1], palabras))\n",
    "print(f\"El resultado del filter con una lambda es: {resultado_filter_lambda}\")"
   ]
  },
  {
   "cell_type": "code",
   "execution_count": 106,
   "metadata": {},
   "outputs": [
    {
     "name": "stdout",
     "output_type": "stream",
     "text": [
      "Los estudiantes mayores de edad son :['Juan', 'Luis', 'Elena']\n"
     ]
    }
   ],
   "source": [
    "# no sólo podemos utilizar la función 'filter()' con lists o tuplas. Veamos un ejemplo con un diccionario.\n",
    "\n",
    "estudiantes = {\n",
    "    'Ana': 17,\n",
    "    'Juan': 21,\n",
    "    'Luis': 19,\n",
    "    'María': 15,\n",
    "    'Elena': 22\n",
    "}\n",
    "\n",
    "# Creemos una función para comprobar si los estudiantes son o no mayores de edad\n",
    "def es_mayor_de_edad(estudiante):\n",
    "    nombre, edad = estudiante\n",
    "    return edad > 18\n",
    "\n",
    "# Filtrar estudiantes mayores de edad\n",
    "estudiantes_mayores_de_edad = dict(filter(es_mayor_de_edad, estudiantes.items()))\n",
    "\n",
    "print(f'Los estudiantes mayores de edad son :{list(estudiantes_mayores_de_edad.keys())}')  \n"
   ]
  },
  {
   "cell_type": "code",
   "execution_count": 76,
   "metadata": {},
   "outputs": [
    {
     "data": {
      "text/plain": [
       "[{'nombre': 'Juan', 'edad': 20, 'ciudad': 'Madrid'},\n",
       " {'nombre': 'Luis', 'edad': 22, 'ciudad': 'Madrid'},\n",
       " {'nombre': 'Carlos', 'edad': 25, 'ciudad': 'Madrid'}]"
      ]
     },
     "execution_count": 76,
     "metadata": {},
     "output_type": "execute_result"
    }
   ],
   "source": [
    "personas = [\n",
    "    {'nombre': 'Juan', 'edad': 20, 'ciudad': 'Madrid'},\n",
    "    {'nombre': 'Ana', 'edad': 17, 'ciudad': 'Barcelona'},\n",
    "    {'nombre': 'Luis', 'edad': 22, 'ciudad': 'Madrid'},\n",
    "    {'nombre': 'Maria', 'edad': 30, 'ciudad': 'Valencia'},\n",
    "    {'nombre': 'Carlos', 'edad': 25, 'ciudad': 'Madrid'}\n",
    "]\n",
    "def es_mayor_Madrid(gente):\n",
    "    if gente['edad'] > 18 and gente['ciudad'] == 'Madrid':\n",
    "        return True\n",
    "\n",
    "list(filter(es_mayor_Madrid, personas))"
   ]
  },
  {
   "cell_type": "code",
   "execution_count": 77,
   "metadata": {},
   "outputs": [
    {
     "data": {
      "text/plain": [
       "{'nombre': 'Tablet', 'precio': 120, 'stock': 10}"
      ]
     },
     "execution_count": 77,
     "metadata": {},
     "output_type": "execute_result"
    }
   ],
   "source": [
    "# Lista de productos con nombre, precio y stock\n",
    "productos = [\n",
    "    {'nombre': 'Laptop', 'precio': 1000, 'stock': 5},\n",
    "    {'nombre': 'Smartphone', 'precio': 800, 'stock': 0},\n",
    "    {'nombre': 'Tablet', 'precio': 120, 'stock': 10},\n",
    "    {'nombre': 'Monitor', 'precio': 90, 'stock': 3},\n",
    "    {'nombre': 'SSD', 'precio': 150, 'stock': 0}\n",
    "]\n",
    "\n",
    "def filtro_residencia_edad(diccionario):\n",
    "    vocales = ['a', 'e','i','o','u']\n",
    "    if (diccionario['precio'] > 100) and (any([letra.lower() in vocales for letra in diccionario['nombre']]))  and (diccionario['stock'] > 0):\n",
    "        return True\n",
    "\n",
    "productos_filtrados = list(filter(filtro_residencia_edad,productos))\n",
    "productos_filtrados\n",
    "    \n",
    "{'nombre': 'Laptop', 'precio': 1000, 'stock': 5}\n",
    "{'nombre': 'Tablet', 'precio': 120, 'stock': 10}"
   ]
  },
  {
   "cell_type": "code",
   "execution_count": null,
   "metadata": {},
   "outputs": [],
   "source": [
    "diccionario_nombre =     {'nombre': 'Laptop', 'precio': 1000, 'stock': 5}\n",
    "\n",
    "for letra in diccionario_nombre['nombre']:\n",
    "    print(letra)\n",
    "    if letra in 'aeiou':\n",
    "        "
   ]
  },
  {
   "cell_type": "code",
   "execution_count": 105,
   "metadata": {},
   "outputs": [
    {
     "name": "stdout",
     "output_type": "stream",
     "text": [
      "[4, 8, 12, 16, 20]\n"
     ]
    }
   ],
   "source": [
    "# veamos ahora otro ejemplo combinando las funciones 'map()' y 'filter()'. Dada una lista de números, pares e impares, obtener el doble de los números pares. \n",
    "numeros = [1, 2, 3, 4, 5, 6, 7, 8, 9, 10]\n",
    "\n",
    "def par(num):\n",
    "    \"\"\"\n",
    "Esta función verifica si un número es par o no.\n",
    "\n",
    "Params:\n",
    "    - num (int): El número a verificar.\n",
    "\n",
    "Returns:\n",
    "    bool: True si el número es par, False de lo contrario.\n",
    "\"\"\"    \n",
    "    return num % 2 == 0\n",
    "\n",
    "def duplicar(num): \n",
    "    \"\"\"\n",
    "    Calcula el doble del número proporcionado\n",
    "\n",
    "    Params:\n",
    "        - num (int): El número a operar.\n",
    "\n",
    "    Returns:\n",
    "        num * 2 (int): resultado de la operación.\n",
    "    \"\"\"\n",
    "    return num * 2\n",
    "\n",
    "# primero filtramos los números pares\n",
    "numeros_pares = filter(par, numeros)\n",
    "\n",
    "# ahora duplicamos los números filtrados\n",
    "numeros_duplicados = map(duplicar, numeros_pares)\n",
    "\n",
    "# Por último, convertimos el resultado a una lista para mostrarlo\n",
    "print(list(numeros_duplicados))\n",
    "\n",
    "\n"
   ]
  },
  {
   "cell_type": "code",
   "execution_count": 108,
   "metadata": {},
   "outputs": [
    {
     "name": "stdout",
     "output_type": "stream",
     "text": [
      "[4, 8, 12, 16, 20]\n"
     ]
    }
   ],
   "source": [
    "#El ejemplo anterior podríamos haberlo resuelto encadenando dos funciones lambdas, pero podemos ver como es un código bastante complejo y difícil de leer.\n",
    "print(list(map(lambda y: y*2,filter(lambda x: x % 2 == 0, numeros))))\n"
   ]
  },
  {
   "cell_type": "code",
   "execution_count": 109,
   "metadata": {},
   "outputs": [
    {
     "data": {
      "text/plain": [
       "[4, 12, 4, 16, 8, 4, 16, 4]"
      ]
     },
     "execution_count": 109,
     "metadata": {},
     "output_type": "execute_result"
    }
   ],
   "source": [
    "# filtras pares\n",
    "# multiplicar por dos\n",
    "\n",
    "def pares(numero):\n",
    "    return numero % 2 == 0\n",
    "\n",
    "def multiplicar_2(numero):\n",
    "    return numero * 2\n",
    "\n",
    "\n",
    "lista_pares = list(filter(pares, res2))\n",
    "lista_pares\n",
    "\n",
    "list(map(multiplicar_2, lista_pares))"
   ]
  },
  {
   "cell_type": "markdown",
   "metadata": {},
   "source": [
    "# reduce() \n",
    "\n",
    "La función `reduce()` toma una función y un iterable, y aplica la función a los dos primeros elementos, luego al resultado y al siguiente elemento, y así sucesivamente, hasta que todos los elementos hayan sido procesados. El resultado es un único valor. \n",
    "\n",
    "Su sintaxis básica es: \n",
    "\n",
    "```python\n",
    "reduce(función, iterable)\n",
    "```\n",
    "Donde: \n",
    "\n",
    "- `función`: será la función que queramos aplicar a cada elemento de nuestro iterable.\n",
    "\n",
    "- `iterable`: será el elemento iterable(lista, tupla, set, etc) que queramos 'reducir'. \n",
    "\n",
    "Al contrario que en el caso de las funciones `map()`y `filter()` la función `reduce()`no está integrada en Python, por lo tanto, es necesario importarla usando el módulo `functools`, el cual es un módulo estándar que ofrece una variedad de funciones que operan sobre otras funciones.  Aunque las funciones del módulo son bastante diversas entre sí, todas comparten la característica de operar sobre otras funciones.\n",
    "\n",
    "\n",
    "**Ventajas de usar reduce**\n",
    "\n",
    "- `reduce` permite escribir código más corto y declarativo, enfocándose en la acumulación de resultados, lo que resulta en un código más limpio y conciso.\n",
    "\n",
    "- Es una función de orden superior, lo que promueve la modularidad y la reutilización del código, características clave de la programación funcional.\n",
    "\n",
    "- Facilita la aplicación de funciones acumulativas a los elementos de un iterable, permitiendo operaciones como sumas, productos y concatenaciones de manera más directa.\n",
    "\n",
    "- `reduce` es especialmente útil para aplicar operaciones de reducción en secuencias, como encontrar máximos, mínimos o calcular totales, de forma eficiente.\n",
    "\n",
    "**Desventajas de usar reduce**\n",
    "\n",
    "- Cuando se usan funciones acumulativas complejas, `reduce` puede ser menos legible que un bucle `for`. Para operaciones muy simples o cuando se necesita claridad en el flujo de acumulación, un bucle `for` puede ser más fácil de entender para principiantes."
   ]
  },
  {
   "cell_type": "code",
   "execution_count": 110,
   "metadata": {},
   "outputs": [
    {
     "name": "stdout",
     "output_type": "stream",
     "text": [
      "El resultado de la función reduce es: 98\n"
     ]
    }
   ],
   "source": [
    "#Vamos con un ejemplo, pero primero importamos la función. Recordemos que los imports deben estar al incio del jupyter\n",
    "from functools import reduce\n",
    "\n",
    "#Creemos ahora una función que nos devuelva el número más alto de una lista de números.\n",
    "def numero_alto(num_1,num_2):\n",
    "    \"\"\"\n",
    "    Esta función devuelve el número más alto de una lista de números\n",
    "\n",
    "    Params:\n",
    "        - num_1 (int): Primer número a comparar\n",
    "        - num_2 (int): Segundo número a comparar\n",
    "\n",
    "    Returns:\n",
    "        num_1 ó num_2: En función de cuál de los dos sea más alto\n",
    "    \"\"\"\n",
    "    if int(num_1) > num_2:\n",
    "        return num_1\n",
    "    else:\n",
    "        return num_2\n",
    "    \n",
    "#Definamos una nueva lista de números \n",
    "numeros = [23, 1, 45, 78, 5, 12, 98, 34, 67, 3, 56, 42, 89, 15, 7]\n",
    "\n",
    "resultado_reduce = reduce(numero_alto, numeros)\n",
    "print(f\"El resultado de la función reduce es: {resultado_reduce}\")"
   ]
  },
  {
   "cell_type": "code",
   "execution_count": 111,
   "metadata": {},
   "outputs": [
    {
     "name": "stdout",
     "output_type": "stream",
     "text": [
      "El resultado de la función reduce usando lambdas es: 98\n"
     ]
    }
   ],
   "source": [
    "#Al igual que en los casos anteriores, podemos utilizar filter con una función lambda\n",
    "resultado_reduce_lambda = reduce(lambda x, y: x if x > y else y, numeros)\n",
    "print(f\"El resultado de la función reduce usando lambdas es: {resultado_reduce_lambda}\")"
   ]
  },
  {
   "cell_type": "code",
   "execution_count": 112,
   "metadata": {},
   "outputs": [
    {
     "name": "stdout",
     "output_type": "stream",
     "text": [
      "Saldo final: 300\n",
      "Total de ingresos: 3\n",
      "Total de gastos: 3\n"
     ]
    }
   ],
   "source": [
    "#Vamos a ver un ejemplo algo más complejo, upongamos que tenemos una lista de transacciones. Queremos calcular el saldo final de todas las transacciones, \n",
    "# sumando las cantidades positivas y restando las negativas. Además, queremos contar cuántas transacciones positivas y negativas hubo.\n",
    "\n",
    "\n",
    "transacciones = [\n",
    "    ('Ingreso', 100),\n",
    "    ('Gasto', -50),\n",
    "    ('Ingreso', 200),\n",
    "    ('Gasto', -30),\n",
    "    ('Ingreso', 150),\n",
    "    ('Gasto', -70)\n",
    "]\n",
    "\n",
    "# Función que reduce la lista de transacciones a un saldo final y contadores de ingresos/gastos\n",
    "def calcular_saldo_y_contadores(acumulador, transaccion): \n",
    "    \"\"\"\n",
    "    calcula el saldo final y el número de cada tipo de transacción\n",
    "\n",
    "    Params:\n",
    "        - acumulador: Tupla con la información de gasto o ingreso\n",
    "        - transaccion: Tupla con el saldo calculado, número de ingresos y de gastos\n",
    "\n",
    "    Returns:\n",
    "        tupla: Tupla con la info de transacción actualizada\n",
    "    \"\"\"\n",
    "    saldo, ingresos, gastos = acumulador\n",
    "\n",
    "    # Actualizamos el saldo\n",
    "    saldo += transaccion[1]\n",
    "\n",
    "    # Actualizamos los contadores\n",
    "    if transaccion[1] > 0:\n",
    "        ingresos += 1\n",
    "    elif transaccion[1] < 0:\n",
    "        gastos += 1\n",
    "\n",
    "    return (saldo, ingresos, gastos)\n",
    "\n",
    "# Reducir la lista de transacciones a un saldo final y contadores de ingresos/gastos\n",
    "resultado_final = reduce(calcular_saldo_y_contadores, transacciones, (0, 0, 0))\n",
    "\n",
    "print(f\"Saldo final: {resultado_final[0]}\")\n",
    "print(f\"Total de ingresos: {resultado_final[1]}\")\n",
    "print(f\"Total de gastos: {resultado_final[2]}\")\n"
   ]
  },
  {
   "cell_type": "code",
   "execution_count": 113,
   "metadata": {},
   "outputs": [
    {
     "name": "stdout",
     "output_type": "stream",
     "text": [
      "Nombres concatenados: PEDRO, MARIANA, FERNANDO, LUISA\n"
     ]
    }
   ],
   "source": [
    "#Ahora que ya conocemos las 3 funciones vamos a ver un último ejemplo en el que las combinemos.\n",
    "# Supongamos que tenemos una lista de nombres de personas y queremos Ffltrar los nombres que tienen más de 4 caracteres, pasarlos a mayúsculas y concatenarlos separando por comas\n",
    "\n",
    "nombres = [\"Ana\", \"Pedro\", \"Mariana\", \"Luis\", \"Fernando\", \"Juan\", \"Luisa\"]\n",
    "\n",
    "# Filtramos los nombres que tienen más de 5 caracteres\n",
    "nombres_filtrados = filter(lambda nombre: len(nombre) > 4, nombres)\n",
    "\n",
    "# Convertimos esos nombres a mayúsculas\n",
    "nombres_mayusculas = map(lambda nombre: nombre.upper(), nombres_filtrados)\n",
    "\n",
    "# Por último, concatenamos todos los nombres resultantes en una sola cadena, separados por comas\n",
    "resultado_final = reduce(lambda a, b: a + ', ' + b, nombres_mayusculas)\n",
    "\n",
    "print(f\"Nombres concatenados: {resultado_final}\")"
   ]
  },
  {
   "cell_type": "code",
   "execution_count": 85,
   "metadata": {},
   "outputs": [
    {
     "data": {
      "text/plain": [
       "10"
      ]
     },
     "execution_count": 85,
     "metadata": {},
     "output_type": "execute_result"
    }
   ],
   "source": [
    "from functools import reduce\n",
    "\n",
    "def suma_numeros(num1,num2):\n",
    "    return num1 + num2\n",
    "\n",
    "lista_reduce = [1,2,3,4]\n",
    "reduce(suma_numeros,lista_reduce)"
   ]
  },
  {
   "cell_type": "code",
   "execution_count": 93,
   "metadata": {},
   "outputs": [
    {
     "name": "stdout",
     "output_type": "stream",
     "text": [
      "[8, 1, 4, 3, 6]\n"
     ]
    },
    {
     "data": {
      "text/plain": [
       "8"
      ]
     },
     "execution_count": 93,
     "metadata": {},
     "output_type": "execute_result"
    }
   ],
   "source": [
    "def max_number(num1,num2):\n",
    "    if num1 > num2:\n",
    "        return num1\n",
    "    else:\n",
    "        return num2\n",
    "    \n",
    "lista_max = random.sample(range(1,10),5)\n",
    "\n",
    "print(lista_max)\n",
    "reduce(max_number,lista_max)\n"
   ]
  },
  {
   "cell_type": "markdown",
   "metadata": {},
   "source": [
    "Supongamos que tenemos una lista de ventas de una tienda donde cada venta es un diccionario con el nombre del producto, la cantidad vendida, y el precio unitario. Queremos:\n",
    "Calcular el total de ingresos de todas las ventas."
   ]
  },
  {
   "cell_type": "code",
   "execution_count": 94,
   "metadata": {},
   "outputs": [],
   "source": [
    "ventas = [\n",
    "    {'producto': 'Laptop', 'cantidad': 2, 'precio_unitario': 1000},\n",
    "    {'producto': 'Smartphone', 'cantidad': 5, 'precio_unitario': 800},\n",
    "    {'producto': 'Tablet', 'cantidad': 3, 'precio_unitario': 400},\n",
    "    {'producto': 'Monitor', 'cantidad': 7, 'precio_unitario': 300},\n",
    "]"
   ]
  },
  {
   "cell_type": "code",
   "execution_count": 100,
   "metadata": {},
   "outputs": [
    {
     "data": {
      "text/plain": [
       "{'cantidad': 1, 'precio_unitario': 9300}"
      ]
     },
     "execution_count": 100,
     "metadata": {},
     "output_type": "execute_result"
    }
   ],
   "source": [
    "def total_ingresos(num1,num2):\n",
    "    ventas = num1['precio_unitario'] * num1['cantidad'] + num2['precio_unitario']*num2['cantidad']\n",
    "    return {'cantidad': 1, 'precio_unitario': ventas}\n",
    "    \n",
    "\n",
    "reduce(total_ingresos,ventas)"
   ]
  },
  {
   "cell_type": "code",
   "execution_count": null,
   "metadata": {},
   "outputs": [],
   "source": [
    "def suma_ventas(dic1, dic2):\n",
    "    suma = dic1['precio_unitario']*dic1['cantidad'] + dic2['precio_unitario']*dic2['cantidad']\n",
    "    return {'cantidad': 1, 'precio_unitario': suma, }\n",
    "\n",
    "reduce(suma_ventas, ventas)['precio_unitario']\n"
   ]
  },
  {
   "cell_type": "code",
   "execution_count": 101,
   "metadata": {},
   "outputs": [
    {
     "name": "stdout",
     "output_type": "stream",
     "text": [
      "$9300\n"
     ]
    }
   ],
   "source": [
    "def suma_precio(p1, p2):\n",
    "    try:\n",
    "        suma = p1['precio_unitario'] * p1['cantidad'] + p2['precio_unitario'] * p2['cantidad']\n",
    "        return suma\n",
    "    except:\n",
    "        suma = p1 + p2['precio_unitario'] * p2['cantidad']\n",
    "        return suma\n",
    "\n",
    "\n",
    "print(f'${reduce(suma_precio, ventas)}')"
   ]
  },
  {
   "cell_type": "code",
   "execution_count": 102,
   "metadata": {},
   "outputs": [
    {
     "data": {
      "text/plain": [
       "9300"
      ]
     },
     "execution_count": 102,
     "metadata": {},
     "output_type": "execute_result"
    }
   ],
   "source": [
    "from functools import reduce\n",
    "# Lista de ventas\n",
    "ventas = [\n",
    "    {'producto': 'Laptop', 'cantidad': 2, 'precio_unitario': 1000},\n",
    "    {'producto': 'Smartphone', 'cantidad': 5, 'precio_unitario': 800},\n",
    "    {'producto': 'Tablet', 'cantidad': 3, 'precio_unitario': 400},\n",
    "    {'producto': 'Monitor', 'cantidad': 7, 'precio_unitario': 300},\n",
    "]\n",
    "\n",
    "def ganancia(product):\n",
    "    \"\"\"Calcular Ganancia por Producto\n",
    "\n",
    "    Args:\n",
    "        product (dict): Diccionario\n",
    "\n",
    "    Returns:\n",
    "        int : Devuelve el total de la multiplicacion del precio x unidades vendidas\n",
    "    \"\"\"\n",
    "    amount = product[\"cantidad\"]\n",
    "    precio = product[\"precio_unitario\"]\n",
    "    total = amount * precio\n",
    "    return total \n",
    "\n",
    "def suma(n1,n2):\n",
    "    \"\"\"Suma de las unidades\n",
    "\n",
    "    Args:\n",
    "        n1 (int): _description_\n",
    "        n2 (int): _description_\n",
    "\n",
    "    Returns:\n",
    "        int: Devuelve la suma de la lista\n",
    "    \"\"\"\n",
    "    return n1 + n2\n",
    "\n",
    "reduce(suma,list(map(ganancia,ventas))) #Generamos con Map una lista, que luego enviamos a la función de sumarlos"
   ]
  },
  {
   "cell_type": "code",
   "execution_count": null,
   "metadata": {},
   "outputs": [],
   "source": []
  }
 ],
 "metadata": {
  "kernelspec": {
   "display_name": "Python 3 (ipykernel)",
   "language": "python",
   "name": "python3"
  },
  "language_info": {
   "codemirror_mode": {
    "name": "ipython",
    "version": 3
   },
   "file_extension": ".py",
   "mimetype": "text/x-python",
   "name": "python",
   "nbconvert_exporter": "python",
   "pygments_lexer": "ipython3",
   "version": "3.11.9"
  },
  "toc": {
   "base_numbering": 1,
   "nav_menu": {},
   "number_sections": true,
   "sideBar": true,
   "skip_h1_title": false,
   "title_cell": "Table of Contents",
   "title_sidebar": "Contents",
   "toc_cell": true,
   "toc_position": {
    "height": "calc(100% - 180px)",
    "left": "10px",
    "top": "150px",
    "width": "384px"
   },
   "toc_section_display": true,
   "toc_window_display": true
  }
 },
 "nbformat": 4,
 "nbformat_minor": 2
}
